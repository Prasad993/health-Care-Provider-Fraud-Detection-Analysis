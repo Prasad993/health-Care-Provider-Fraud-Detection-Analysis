{
 "cells": [
  {
   "cell_type": "markdown",
   "metadata": {
    "id": "EdLmO5LwtPKh"
   },
   "source": [
    "# HEALTHCARE PROVIDER FRAUD DETECTION ANALYSIS\n",
    "\n",
    "##Introduction:\n",
    "Healthcare Insurance is provided by the insurance companies to the insurance holder to cover his/her medical expenses depending upon the  plan the policy holder selects. The amount depends on the diagnosis done by the doctor . but some holders or insurance providers misuse this and try to file fake claims by giving fake details. According to Govt total medicare increases exponentially due to frauds ,by which the company as well as insurance holder suffer . The approach to this problem is using Machine Learning and Deep Learning Algorithms to detect healthcare frauds.\n",
    "\n",
    "## Problem Statement\n",
    "We have to find/detect/predict these claims into fraud provided/filed by the fradulents. Which will save a very huge amount of money from frauds. And also discover the important variables helpful in detecting the behaviour of fraud providers.\n",
    "\n",
    "## ML formulation of business problem:\n",
    "This is a binary classification problem , We need to classify whether the data points are  fraudulent or real claims.\n",
    "\n",
    "## Performance metric:\n",
    "1. Confusion Matrix : for visualization the reults of TP,TN,FP,FN\n",
    "2. Precision: \n",
    "\n",
    "    1.   The formula to calculate the Precision is TP/(TP+FP). i.e it checks for out of the predicted Positve how many are actual positive and it only care for false positive and not False negaative\n",
    "    2.   also the insurance companies will try to preserve the coustmer i.e if the fraud claim is classifed into non fraud claim then it ok as they have to reimburse the money but if the Non Fraud Claim classified in Fraud Claim then they might loose the coustmer.\n",
    "\n",
    "    3. As the data is slightly imbalanced the Precision is a great metrics and .\n",
    "    4. And from The averaged precision i will be choosing micro-averaged because for imbalance datasets it assigns different wieghts of different classes. \n",
    "\n",
    "\n",
    "\n",
    "\n",
    "\n",
    "\n",
    "\n",
    "## Business constraints:\n",
    "The Misclassification rate must be very low.\n",
    "\n",
    "\n"
   ]
  },
  {
   "cell_type": "code",
   "execution_count": 1,
   "metadata": {
    "id": "N0u4-DBrOaUt"
   },
   "outputs": [],
   "source": [
    "import pandas as pd\n",
    "import numpy as np\n",
    "import matplotlib.pyplot as plt\n",
    "import seaborn as sns\n",
    "import warnings\n",
    "warnings.filterwarnings('ignore')\n"
   ]
  },
  {
   "cell_type": "code",
   "execution_count": null,
   "metadata": {
    "colab": {
     "base_uri": "https://localhost:8080/"
    },
    "executionInfo": {
     "elapsed": 38753,
     "status": "ok",
     "timestamp": 1620414947385,
     "user": {
      "displayName": "Prasad Pawar",
      "photoUrl": "https://lh3.googleusercontent.com/a-/AOh14GjTzY8QsOzkHBBrnak1raXeJa-eG1NL7X8g0_dLLxs=s64",
      "userId": "17658912636650039481"
     },
     "user_tz": -330
    },
    "id": "z_BbEJ-2OcxF",
    "outputId": "187190cc-c954-4e28-fd5e-dce34236789d"
   },
   "outputs": [
    {
     "name": "stdout",
     "output_type": "stream",
     "text": [
      "Mounted at /content/drive/\n"
     ]
    }
   ],
   "source": [
    "from google.colab import drive\n",
    "drive.mount(\"/content/drive/\")"
   ]
  },
  {
   "cell_type": "markdown",
   "metadata": {
    "id": "CcKpoaaoRLTs"
   },
   "source": [
    "**<font color='Green'>Loading Data</font>** "
   ]
  },
  {
   "cell_type": "code",
   "execution_count": null,
   "metadata": {
    "colab": {
     "base_uri": "https://localhost:8080/"
    },
    "executionInfo": {
     "elapsed": 1482,
     "status": "ok",
     "timestamp": 1620340271033,
     "user": {
      "displayName": "Prasad Pawar",
      "photoUrl": "https://lh3.googleusercontent.com/a-/AOh14GjTzY8QsOzkHBBrnak1raXeJa-eG1NL7X8g0_dLLxs=s64",
      "userId": "17658912636650039481"
     },
     "user_tz": -330
    },
    "id": "u7E6TTPAOufl",
    "outputId": "38b70327-eae9-402e-a8ce-17ac57046c66"
   },
   "outputs": [
    {
     "name": "stdout",
     "output_type": "stream",
     "text": [
      "The shape of the Inpatient Data: (40474, 30)\n",
      "The columns of the Inpatient Data are : Index(['BeneID', 'ClaimID', 'ClaimStartDt', 'ClaimEndDt', 'Provider',\n",
      "       'InscClaimAmtReimbursed', 'AttendingPhysician', 'OperatingPhysician',\n",
      "       'OtherPhysician', 'AdmissionDt', 'ClmAdmitDiagnosisCode',\n",
      "       'DeductibleAmtPaid', 'DischargeDt', 'DiagnosisGroupCode',\n",
      "       'ClmDiagnosisCode_1', 'ClmDiagnosisCode_2', 'ClmDiagnosisCode_3',\n",
      "       'ClmDiagnosisCode_4', 'ClmDiagnosisCode_5', 'ClmDiagnosisCode_6',\n",
      "       'ClmDiagnosisCode_7', 'ClmDiagnosisCode_8', 'ClmDiagnosisCode_9',\n",
      "       'ClmDiagnosisCode_10', 'ClmProcedureCode_1', 'ClmProcedureCode_2',\n",
      "       'ClmProcedureCode_3', 'ClmProcedureCode_4', 'ClmProcedureCode_5',\n",
      "       'ClmProcedureCode_6'],\n",
      "      dtype='object')\n"
     ]
    }
   ],
   "source": [
    "df_inpatient=pd.read_csv(\"/content/drive/My Drive/CASE Studies/healthcare/archive_fraud/Train_Inpatientdata.csv\")\n",
    "print(\"The shape of the Inpatient Data:\",df_inpatient.shape)\n",
    "print(\"The columns of the Inpatient Data are :\",df_inpatient.columns)\n"
   ]
  },
  {
   "cell_type": "code",
   "execution_count": null,
   "metadata": {
    "colab": {
     "base_uri": "https://localhost:8080/"
    },
    "executionInfo": {
     "elapsed": 2648,
     "status": "ok",
     "timestamp": 1620340272774,
     "user": {
      "displayName": "Prasad Pawar",
      "photoUrl": "https://lh3.googleusercontent.com/a-/AOh14GjTzY8QsOzkHBBrnak1raXeJa-eG1NL7X8g0_dLLxs=s64",
      "userId": "17658912636650039481"
     },
     "user_tz": -330
    },
    "id": "OPkue9o8SCZB",
    "outputId": "17ec06a3-85f0-4d17-a03c-4ac6709dc0be"
   },
   "outputs": [
    {
     "name": "stdout",
     "output_type": "stream",
     "text": [
      "The shape of the Outpatient Data: (517737, 27)\n",
      "The columns of the Outpatient Data are : Index(['BeneID', 'ClaimID', 'ClaimStartDt', 'ClaimEndDt', 'Provider',\n",
      "       'InscClaimAmtReimbursed', 'AttendingPhysician', 'OperatingPhysician',\n",
      "       'OtherPhysician', 'ClmDiagnosisCode_1', 'ClmDiagnosisCode_2',\n",
      "       'ClmDiagnosisCode_3', 'ClmDiagnosisCode_4', 'ClmDiagnosisCode_5',\n",
      "       'ClmDiagnosisCode_6', 'ClmDiagnosisCode_7', 'ClmDiagnosisCode_8',\n",
      "       'ClmDiagnosisCode_9', 'ClmDiagnosisCode_10', 'ClmProcedureCode_1',\n",
      "       'ClmProcedureCode_2', 'ClmProcedureCode_3', 'ClmProcedureCode_4',\n",
      "       'ClmProcedureCode_5', 'ClmProcedureCode_6', 'DeductibleAmtPaid',\n",
      "       'ClmAdmitDiagnosisCode'],\n",
      "      dtype='object')\n"
     ]
    }
   ],
   "source": [
    "df_outpatient=pd.read_csv(\"/content/drive/My Drive/CASE Studies/healthcare/archive_fraud/Train_Outpatientdata.csv\")\n",
    "print(\"The shape of the Outpatient Data:\",df_outpatient.shape)\n",
    "print(\"The columns of the Outpatient Data are :\",df_outpatient.columns)"
   ]
  },
  {
   "cell_type": "code",
   "execution_count": null,
   "metadata": {
    "colab": {
     "base_uri": "https://localhost:8080/"
    },
    "executionInfo": {
     "elapsed": 1968,
     "status": "ok",
     "timestamp": 1620340272776,
     "user": {
      "displayName": "Prasad Pawar",
      "photoUrl": "https://lh3.googleusercontent.com/a-/AOh14GjTzY8QsOzkHBBrnak1raXeJa-eG1NL7X8g0_dLLxs=s64",
      "userId": "17658912636650039481"
     },
     "user_tz": -330
    },
    "id": "PPn86KRUSWKP",
    "outputId": "f8d2707c-4571-45d5-d76a-fb65957c2be1"
   },
   "outputs": [
    {
     "name": "stdout",
     "output_type": "stream",
     "text": [
      "The shape of the Beneficary Data: (138556, 25)\n",
      "The columns of the Beneficary Data are : Index(['BeneID', 'DOB', 'DOD', 'Gender', 'Race', 'RenalDiseaseIndicator',\n",
      "       'State', 'County', 'NoOfMonths_PartACov', 'NoOfMonths_PartBCov',\n",
      "       'ChronicCond_Alzheimer', 'ChronicCond_Heartfailure',\n",
      "       'ChronicCond_KidneyDisease', 'ChronicCond_Cancer',\n",
      "       'ChronicCond_ObstrPulmonary', 'ChronicCond_Depression',\n",
      "       'ChronicCond_Diabetes', 'ChronicCond_IschemicHeart',\n",
      "       'ChronicCond_Osteoporasis', 'ChronicCond_rheumatoidarthritis',\n",
      "       'ChronicCond_stroke', 'IPAnnualReimbursementAmt',\n",
      "       'IPAnnualDeductibleAmt', 'OPAnnualReimbursementAmt',\n",
      "       'OPAnnualDeductibleAmt'],\n",
      "      dtype='object')\n"
     ]
    }
   ],
   "source": [
    "df_beneficiary=pd.read_csv(\"/content/drive/My Drive/CASE Studies/healthcare/archive_fraud/Train_Beneficiarydata.csv\")\n",
    "print(\"The shape of the Beneficary Data:\",df_beneficiary.shape)\n",
    "print(\"The columns of the Beneficary Data are :\",df_beneficiary.columns)"
   ]
  },
  {
   "cell_type": "code",
   "execution_count": null,
   "metadata": {
    "colab": {
     "base_uri": "https://localhost:8080/"
    },
    "executionInfo": {
     "elapsed": 1020,
     "status": "ok",
     "timestamp": 1620340274247,
     "user": {
      "displayName": "Prasad Pawar",
      "photoUrl": "https://lh3.googleusercontent.com/a-/AOh14GjTzY8QsOzkHBBrnak1raXeJa-eG1NL7X8g0_dLLxs=s64",
      "userId": "17658912636650039481"
     },
     "user_tz": -330
    },
    "id": "4mxlXo5APjWf",
    "outputId": "32aec0fb-ba9c-4db7-f964-9df2f108e001"
   },
   "outputs": [
    {
     "name": "stdout",
     "output_type": "stream",
     "text": [
      "The shape of the Target file: (5410, 2)\n",
      "The columns of the Target file are : Index(['Provider', 'PotentialFraud'], dtype='object')\n"
     ]
    }
   ],
   "source": [
    "# loading Target File\n",
    "df_train=pd.read_csv(\"/content/drive/My Drive/CASE Studies/healthcare/archive_fraud/Train.csv\")\n",
    "print(\"The shape of the Target file:\",df_train.shape)\n",
    "print(\"The columns of the Target file are :\",df_train.columns)"
   ]
  },
  {
   "cell_type": "markdown",
   "metadata": {
    "id": "foqkQNmbSvk-"
   },
   "source": [
    "**<font color='Green'>Merging all Data</font>** "
   ]
  },
  {
   "cell_type": "code",
   "execution_count": null,
   "metadata": {
    "colab": {
     "base_uri": "https://localhost:8080/",
     "height": 309
    },
    "executionInfo": {
     "elapsed": 8394,
     "status": "ok",
     "timestamp": 1620340615919,
     "user": {
      "displayName": "Prasad Pawar",
      "photoUrl": "https://lh3.googleusercontent.com/a-/AOh14GjTzY8QsOzkHBBrnak1raXeJa-eG1NL7X8g0_dLLxs=s64",
      "userId": "17658912636650039481"
     },
     "user_tz": -330
    },
    "id": "us7PIPkxS4Pp",
    "outputId": "1578227e-d708-4de7-e024-8b63415bb19d"
   },
   "outputs": [
    {
     "data": {
      "text/html": [
       "<div>\n",
       "<style scoped>\n",
       "    .dataframe tbody tr th:only-of-type {\n",
       "        vertical-align: middle;\n",
       "    }\n",
       "\n",
       "    .dataframe tbody tr th {\n",
       "        vertical-align: top;\n",
       "    }\n",
       "\n",
       "    .dataframe thead th {\n",
       "        text-align: right;\n",
       "    }\n",
       "</style>\n",
       "<table border=\"1\" class=\"dataframe\">\n",
       "  <thead>\n",
       "    <tr style=\"text-align: right;\">\n",
       "      <th></th>\n",
       "      <th>Provider</th>\n",
       "      <th>PotentialFraud</th>\n",
       "      <th>BeneID</th>\n",
       "      <th>DOB</th>\n",
       "      <th>DOD</th>\n",
       "      <th>Gender</th>\n",
       "      <th>Race</th>\n",
       "      <th>RenalDiseaseIndicator</th>\n",
       "      <th>State</th>\n",
       "      <th>County</th>\n",
       "      <th>NoOfMonths_PartACov</th>\n",
       "      <th>NoOfMonths_PartBCov</th>\n",
       "      <th>ChronicCond_Alzheimer</th>\n",
       "      <th>ChronicCond_Heartfailure</th>\n",
       "      <th>ChronicCond_KidneyDisease</th>\n",
       "      <th>ChronicCond_Cancer</th>\n",
       "      <th>ChronicCond_ObstrPulmonary</th>\n",
       "      <th>ChronicCond_Depression</th>\n",
       "      <th>ChronicCond_Diabetes</th>\n",
       "      <th>ChronicCond_IschemicHeart</th>\n",
       "      <th>ChronicCond_Osteoporasis</th>\n",
       "      <th>ChronicCond_rheumatoidarthritis</th>\n",
       "      <th>ChronicCond_stroke</th>\n",
       "      <th>IPAnnualReimbursementAmt</th>\n",
       "      <th>IPAnnualDeductibleAmt</th>\n",
       "      <th>OPAnnualReimbursementAmt</th>\n",
       "      <th>OPAnnualDeductibleAmt</th>\n",
       "      <th>ClaimID</th>\n",
       "      <th>ClaimStartDt</th>\n",
       "      <th>ClaimEndDt</th>\n",
       "      <th>InscClaimAmtReimbursed</th>\n",
       "      <th>AttendingPhysician</th>\n",
       "      <th>OperatingPhysician</th>\n",
       "      <th>OtherPhysician</th>\n",
       "      <th>AdmissionDt</th>\n",
       "      <th>ClmAdmitDiagnosisCode</th>\n",
       "      <th>DeductibleAmtPaid</th>\n",
       "      <th>DischargeDt</th>\n",
       "      <th>DiagnosisGroupCode</th>\n",
       "      <th>ClmDiagnosisCode_1</th>\n",
       "      <th>ClmDiagnosisCode_2</th>\n",
       "      <th>ClmDiagnosisCode_3</th>\n",
       "      <th>ClmDiagnosisCode_4</th>\n",
       "      <th>ClmDiagnosisCode_5</th>\n",
       "      <th>ClmDiagnosisCode_6</th>\n",
       "      <th>ClmDiagnosisCode_7</th>\n",
       "      <th>ClmDiagnosisCode_8</th>\n",
       "      <th>ClmDiagnosisCode_9</th>\n",
       "      <th>ClmDiagnosisCode_10</th>\n",
       "      <th>ClmProcedureCode_1</th>\n",
       "      <th>ClmProcedureCode_2</th>\n",
       "      <th>ClmProcedureCode_3</th>\n",
       "      <th>ClmProcedureCode_4</th>\n",
       "      <th>ClmProcedureCode_5</th>\n",
       "      <th>ClmProcedureCode_6</th>\n",
       "    </tr>\n",
       "  </thead>\n",
       "  <tbody>\n",
       "    <tr>\n",
       "      <th>0</th>\n",
       "      <td>PRV51001</td>\n",
       "      <td>No</td>\n",
       "      <td>BENE11727</td>\n",
       "      <td>1930-05-01</td>\n",
       "      <td>NaN</td>\n",
       "      <td>1</td>\n",
       "      <td>1</td>\n",
       "      <td>Y</td>\n",
       "      <td>1</td>\n",
       "      <td>660</td>\n",
       "      <td>12</td>\n",
       "      <td>12</td>\n",
       "      <td>1</td>\n",
       "      <td>1</td>\n",
       "      <td>1</td>\n",
       "      <td>1</td>\n",
       "      <td>2</td>\n",
       "      <td>2</td>\n",
       "      <td>1</td>\n",
       "      <td>1</td>\n",
       "      <td>2</td>\n",
       "      <td>2</td>\n",
       "      <td>2</td>\n",
       "      <td>0</td>\n",
       "      <td>0</td>\n",
       "      <td>300</td>\n",
       "      <td>110</td>\n",
       "      <td>CLM733300</td>\n",
       "      <td>2009-12-17</td>\n",
       "      <td>2009-12-17</td>\n",
       "      <td>20</td>\n",
       "      <td>PHY383007</td>\n",
       "      <td>NaN</td>\n",
       "      <td>PHY383007</td>\n",
       "      <td>NaN</td>\n",
       "      <td>NaN</td>\n",
       "      <td>0.0</td>\n",
       "      <td>NaN</td>\n",
       "      <td>NaN</td>\n",
       "      <td>5953</td>\n",
       "      <td>42731</td>\n",
       "      <td>NaN</td>\n",
       "      <td>NaN</td>\n",
       "      <td>NaN</td>\n",
       "      <td>NaN</td>\n",
       "      <td>NaN</td>\n",
       "      <td>NaN</td>\n",
       "      <td>NaN</td>\n",
       "      <td>NaN</td>\n",
       "      <td>NaN</td>\n",
       "      <td>NaN</td>\n",
       "      <td>NaN</td>\n",
       "      <td>NaN</td>\n",
       "      <td>NaN</td>\n",
       "      <td>NaN</td>\n",
       "    </tr>\n",
       "    <tr>\n",
       "      <th>1</th>\n",
       "      <td>PRV51001</td>\n",
       "      <td>No</td>\n",
       "      <td>BENE24646</td>\n",
       "      <td>1943-03-01</td>\n",
       "      <td>NaN</td>\n",
       "      <td>1</td>\n",
       "      <td>1</td>\n",
       "      <td>0</td>\n",
       "      <td>1</td>\n",
       "      <td>440</td>\n",
       "      <td>12</td>\n",
       "      <td>12</td>\n",
       "      <td>1</td>\n",
       "      <td>2</td>\n",
       "      <td>2</td>\n",
       "      <td>2</td>\n",
       "      <td>2</td>\n",
       "      <td>2</td>\n",
       "      <td>1</td>\n",
       "      <td>1</td>\n",
       "      <td>1</td>\n",
       "      <td>2</td>\n",
       "      <td>1</td>\n",
       "      <td>0</td>\n",
       "      <td>0</td>\n",
       "      <td>720</td>\n",
       "      <td>10</td>\n",
       "      <td>CLM372475</td>\n",
       "      <td>2009-05-22</td>\n",
       "      <td>2009-05-23</td>\n",
       "      <td>700</td>\n",
       "      <td>PHY405682</td>\n",
       "      <td>NaN</td>\n",
       "      <td>PHY402512</td>\n",
       "      <td>NaN</td>\n",
       "      <td>NaN</td>\n",
       "      <td>0.0</td>\n",
       "      <td>NaN</td>\n",
       "      <td>NaN</td>\n",
       "      <td>78650</td>\n",
       "      <td>51889</td>\n",
       "      <td>V5869</td>\n",
       "      <td>4019</td>\n",
       "      <td>V4581</td>\n",
       "      <td>49320</td>\n",
       "      <td>NaN</td>\n",
       "      <td>NaN</td>\n",
       "      <td>NaN</td>\n",
       "      <td>NaN</td>\n",
       "      <td>NaN</td>\n",
       "      <td>NaN</td>\n",
       "      <td>NaN</td>\n",
       "      <td>NaN</td>\n",
       "      <td>NaN</td>\n",
       "      <td>NaN</td>\n",
       "    </tr>\n",
       "    <tr>\n",
       "      <th>2</th>\n",
       "      <td>PRV51001</td>\n",
       "      <td>No</td>\n",
       "      <td>BENE31617</td>\n",
       "      <td>1933-08-01</td>\n",
       "      <td>NaN</td>\n",
       "      <td>2</td>\n",
       "      <td>1</td>\n",
       "      <td>0</td>\n",
       "      <td>1</td>\n",
       "      <td>660</td>\n",
       "      <td>12</td>\n",
       "      <td>12</td>\n",
       "      <td>2</td>\n",
       "      <td>2</td>\n",
       "      <td>1</td>\n",
       "      <td>2</td>\n",
       "      <td>2</td>\n",
       "      <td>2</td>\n",
       "      <td>1</td>\n",
       "      <td>1</td>\n",
       "      <td>2</td>\n",
       "      <td>1</td>\n",
       "      <td>2</td>\n",
       "      <td>0</td>\n",
       "      <td>0</td>\n",
       "      <td>1380</td>\n",
       "      <td>370</td>\n",
       "      <td>CLM748221</td>\n",
       "      <td>2009-12-28</td>\n",
       "      <td>2009-12-28</td>\n",
       "      <td>900</td>\n",
       "      <td>PHY345302</td>\n",
       "      <td>NaN</td>\n",
       "      <td>NaN</td>\n",
       "      <td>NaN</td>\n",
       "      <td>59970</td>\n",
       "      <td>0.0</td>\n",
       "      <td>NaN</td>\n",
       "      <td>NaN</td>\n",
       "      <td>V446</td>\n",
       "      <td>NaN</td>\n",
       "      <td>NaN</td>\n",
       "      <td>NaN</td>\n",
       "      <td>NaN</td>\n",
       "      <td>NaN</td>\n",
       "      <td>NaN</td>\n",
       "      <td>NaN</td>\n",
       "      <td>NaN</td>\n",
       "      <td>NaN</td>\n",
       "      <td>NaN</td>\n",
       "      <td>NaN</td>\n",
       "      <td>NaN</td>\n",
       "      <td>NaN</td>\n",
       "      <td>NaN</td>\n",
       "      <td>NaN</td>\n",
       "    </tr>\n",
       "    <tr>\n",
       "      <th>3</th>\n",
       "      <td>PRV51001</td>\n",
       "      <td>No</td>\n",
       "      <td>BENE32715</td>\n",
       "      <td>1936-03-01</td>\n",
       "      <td>NaN</td>\n",
       "      <td>1</td>\n",
       "      <td>1</td>\n",
       "      <td>0</td>\n",
       "      <td>1</td>\n",
       "      <td>410</td>\n",
       "      <td>12</td>\n",
       "      <td>12</td>\n",
       "      <td>1</td>\n",
       "      <td>1</td>\n",
       "      <td>1</td>\n",
       "      <td>1</td>\n",
       "      <td>1</td>\n",
       "      <td>1</td>\n",
       "      <td>1</td>\n",
       "      <td>1</td>\n",
       "      <td>2</td>\n",
       "      <td>2</td>\n",
       "      <td>2</td>\n",
       "      <td>2020</td>\n",
       "      <td>1068</td>\n",
       "      <td>6700</td>\n",
       "      <td>2700</td>\n",
       "      <td>CLM272936</td>\n",
       "      <td>2009-03-29</td>\n",
       "      <td>2009-03-30</td>\n",
       "      <td>500</td>\n",
       "      <td>PHY318842</td>\n",
       "      <td>PHY392882</td>\n",
       "      <td>NaN</td>\n",
       "      <td>NaN</td>\n",
       "      <td>78902</td>\n",
       "      <td>0.0</td>\n",
       "      <td>NaN</td>\n",
       "      <td>NaN</td>\n",
       "      <td>78964</td>\n",
       "      <td>V442</td>\n",
       "      <td>5589</td>\n",
       "      <td>2720</td>\n",
       "      <td>33829</td>\n",
       "      <td>25002</td>\n",
       "      <td>NaN</td>\n",
       "      <td>NaN</td>\n",
       "      <td>NaN</td>\n",
       "      <td>NaN</td>\n",
       "      <td>NaN</td>\n",
       "      <td>NaN</td>\n",
       "      <td>NaN</td>\n",
       "      <td>NaN</td>\n",
       "      <td>NaN</td>\n",
       "      <td>NaN</td>\n",
       "    </tr>\n",
       "    <tr>\n",
       "      <th>4</th>\n",
       "      <td>PRV51001</td>\n",
       "      <td>No</td>\n",
       "      <td>BENE36012</td>\n",
       "      <td>1940-07-01</td>\n",
       "      <td>NaN</td>\n",
       "      <td>1</td>\n",
       "      <td>1</td>\n",
       "      <td>0</td>\n",
       "      <td>1</td>\n",
       "      <td>510</td>\n",
       "      <td>12</td>\n",
       "      <td>12</td>\n",
       "      <td>2</td>\n",
       "      <td>1</td>\n",
       "      <td>1</td>\n",
       "      <td>2</td>\n",
       "      <td>2</td>\n",
       "      <td>1</td>\n",
       "      <td>1</td>\n",
       "      <td>1</td>\n",
       "      <td>2</td>\n",
       "      <td>2</td>\n",
       "      <td>1</td>\n",
       "      <td>36000</td>\n",
       "      <td>1068</td>\n",
       "      <td>3520</td>\n",
       "      <td>140</td>\n",
       "      <td>CLM58316</td>\n",
       "      <td>2009-07-04</td>\n",
       "      <td>2009-07-08</td>\n",
       "      <td>36000</td>\n",
       "      <td>PHY340163</td>\n",
       "      <td>NaN</td>\n",
       "      <td>NaN</td>\n",
       "      <td>2009-07-04</td>\n",
       "      <td>29623</td>\n",
       "      <td>1068.0</td>\n",
       "      <td>2009-07-08</td>\n",
       "      <td>882</td>\n",
       "      <td>29650</td>\n",
       "      <td>2971</td>\n",
       "      <td>3051</td>\n",
       "      <td>V1254</td>\n",
       "      <td>07070</td>\n",
       "      <td>28260</td>\n",
       "      <td>7823</td>\n",
       "      <td>49300</td>\n",
       "      <td>NaN</td>\n",
       "      <td>NaN</td>\n",
       "      <td>NaN</td>\n",
       "      <td>NaN</td>\n",
       "      <td>NaN</td>\n",
       "      <td>NaN</td>\n",
       "      <td>NaN</td>\n",
       "      <td>NaN</td>\n",
       "    </tr>\n",
       "  </tbody>\n",
       "</table>\n",
       "</div>"
      ],
      "text/plain": [
       "   Provider PotentialFraud  ... ClmProcedureCode_5 ClmProcedureCode_6\n",
       "0  PRV51001             No  ...                NaN                NaN\n",
       "1  PRV51001             No  ...                NaN                NaN\n",
       "2  PRV51001             No  ...                NaN                NaN\n",
       "3  PRV51001             No  ...                NaN                NaN\n",
       "4  PRV51001             No  ...                NaN                NaN\n",
       "\n",
       "[5 rows x 55 columns]"
      ]
     },
     "execution_count": 126,
     "metadata": {
      "tags": []
     },
     "output_type": "execute_result"
    }
   ],
   "source": [
    "# Merging Inpatient_data and OutPatient_data\n",
    "cols=[i for i in df_outpatient.columns if i in df_inpatient.columns ]\n",
    "df=pd.merge(df_inpatient,df_outpatient,\n",
    "            left_on=cols,\n",
    "            right_on=cols,\n",
    "            how=\"outer\")\n",
    "\n",
    "# Merging df and Benificiary data\n",
    "df=pd.merge(df_beneficiary,df,\n",
    "            on=\"BeneID\",\n",
    "            how=\"outer\")\n",
    "\n",
    "# Merging df and target_data\n",
    "df=pd.merge(df_train,df,\n",
    "            on=\"Provider\",\n",
    "            how=\"outer\")\n",
    "df.head()"
   ]
  },
  {
   "cell_type": "code",
   "execution_count": null,
   "metadata": {
    "id": "PH4_Vm9PT_3Z"
   },
   "outputs": [],
   "source": []
  },
  {
   "cell_type": "markdown",
   "metadata": {
    "id": "UBdsKyVCYGsR"
   },
   "source": [
    "#**<font color='Blue'>EDA</font>** \n",
    "**<font color='Green'>1.1Checking The Distribution of labels( Imbalance)</font>** "
   ]
  },
  {
   "cell_type": "code",
   "execution_count": null,
   "metadata": {
    "colab": {
     "base_uri": "https://localhost:8080/",
     "height": 329
    },
    "executionInfo": {
     "elapsed": 835,
     "status": "ok",
     "timestamp": 1619975582520,
     "user": {
      "displayName": "Prasad Pawar",
      "photoUrl": "https://lh3.googleusercontent.com/a-/AOh14GjTzY8QsOzkHBBrnak1raXeJa-eG1NL7X8g0_dLLxs=s64",
      "userId": "17658912636650039481"
     },
     "user_tz": -330
    },
    "id": "_BPRfKsEYLMr",
    "outputId": "aabca137-5be4-468d-a2c1-17ec759f418b"
   },
   "outputs": [
    {
     "name": "stdout",
     "output_type": "stream",
     "text": [
      "Percentage of No(No fraud) Labels present is  61.878931085198964 %\n",
      "Percentage of Yes(Fraud) Labels present is  38.121068914801036 %\n"
     ]
    },
    {
     "data": {
      "image/png": "[encoded data removed]",
      "text/plain": [
       "<Figure size 432x288 with 1 Axes>"
      ]
     },
     "metadata": {
      "needs_background": "light",
      "tags": []
     },
     "output_type": "display_data"
    }
   ],
   "source": [
    "# Cecking Distribution for whole dataset\n",
    "#plt.style.use(\"seaborn-whitegrid\")\n",
    "sns.countplot(df[\"PotentialFraud\"])\n",
    "plt.title(\"Distribution of labels\")\n",
    "plt.grid(\"whitegrid\")\n",
    "\n",
    "print(\"Percentage of No(No fraud) Labels present is \",(df[\"PotentialFraud\"].value_counts()[0]*100)/df[\"PotentialFraud\"].count(),\"%\")\n",
    "print(\"Percentage of Yes(Fraud) Labels present is \",(df[\"PotentialFraud\"].value_counts()[1]*100)/df[\"PotentialFraud\"].count(),\"%\")"
   ]
  },
  {
   "cell_type": "markdown",
   "metadata": {
    "id": "oZ1gVIyydH-y"
   },
   "source": [
    "**Observation**\n",
    "1. In The whole data there are 345415 non fraud claims, 212796 fraud claim\n",
    "2. percentage of No class is 61.87%, Yes class is 38.12%\n"
   ]
  },
  {
   "cell_type": "code",
   "execution_count": null,
   "metadata": {
    "colab": {
     "base_uri": "https://localhost:8080/",
     "height": 329
    },
    "executionInfo": {
     "elapsed": 1955,
     "status": "ok",
     "timestamp": 1619975584464,
     "user": {
      "displayName": "Prasad Pawar",
      "photoUrl": "https://lh3.googleusercontent.com/a-/AOh14GjTzY8QsOzkHBBrnak1raXeJa-eG1NL7X8g0_dLLxs=s64",
      "userId": "17658912636650039481"
     },
     "user_tz": -330
    },
    "id": "Xq6Psuy_cIuc",
    "outputId": "c973d3ff-3a17-47e8-c0cd-a3bb0b7290df"
   },
   "outputs": [
    {
     "name": "stdout",
     "output_type": "stream",
     "text": [
      "Percentage of No(No fraud) Labels present is  63.43848610883264 %\n",
      "Percentage of Yes(Fraud) Labels present is  36.56151389116736 %\n"
     ]
    },
    {
     "data": {
      "image/png": "[encoded data removed]",
      "text/plain": [
       "<Figure size 432x288 with 1 Axes>"
      ]
     },
     "metadata": {
      "needs_background": "light",
      "tags": []
     },
     "output_type": "display_data"
    }
   ],
   "source": [
    "# Cecking Distribution for Outpatient dataset\n",
    "out=pd.merge(df_train,df_outpatient,\n",
    "            on=\"Provider\",\n",
    "            how=\"outer\")\n",
    "sns.countplot(out[\"PotentialFraud\"])\n",
    "plt.title(\"Distribution of labels\")\n",
    "plt.grid(\"whitegrid\")\n",
    "\n",
    "print(\"Percentage of No(No fraud) Labels present is \",(out[\"PotentialFraud\"].value_counts()[0]*100)/out[\"PotentialFraud\"].count(),\"%\")\n",
    "print(\"Percentage of Yes(Fraud) Labels present is \",(out[\"PotentialFraud\"].value_counts()[1]*100)/out[\"PotentialFraud\"].count(),\"%\")"
   ]
  },
  {
   "cell_type": "markdown",
   "metadata": {
    "id": "gkxKP-GeeaB5"
   },
   "source": [
    "**Observation**\n",
    "1. In Outpatient file there are 328697 non fraud, 189438 fraud claim\n",
    "2. Percentage of No class is 63.43%, Yes class is 36.56%\n",
    "\n"
   ]
  },
  {
   "cell_type": "code",
   "execution_count": null,
   "metadata": {
    "colab": {
     "base_uri": "https://localhost:8080/",
     "height": 329
    },
    "executionInfo": {
     "elapsed": 119,
     "status": "ok",
     "timestamp": 1619975584466,
     "user": {
      "displayName": "Prasad Pawar",
      "photoUrl": "https://lh3.googleusercontent.com/a-/AOh14GjTzY8QsOzkHBBrnak1raXeJa-eG1NL7X8g0_dLLxs=s64",
      "userId": "17658912636650039481"
     },
     "user_tz": -330
    },
    "id": "w0Y-KjZmeZaY",
    "outputId": "f597e351-8203-4a0f-c2ef-571e55ffe77f"
   },
   "outputs": [
    {
     "name": "stdout",
     "output_type": "stream",
     "text": [
      "Percentage of No(No fraud) Labels present is  53.58969674826452 %\n",
      "Percentage of Yes(Fraud) Labels present is  46.41030325173548 %\n"
     ]
    },
    {
     "data": {
      "image/png": "[encoded data removed]",
      "text/plain": [
       "<Figure size 432x288 with 1 Axes>"
      ]
     },
     "metadata": {
      "needs_background": "light",
      "tags": []
     },
     "output_type": "display_data"
    }
   ],
   "source": [
    "# Cecking Distribution for INpatient dataset\n",
    "In=pd.merge(df_train,df_inpatient,\n",
    "            on=\"Provider\",\n",
    "            how=\"outer\")\n",
    "sns.countplot(In[\"PotentialFraud\"])\n",
    "plt.title(\"Distribution of labels\")\n",
    "plt.grid(\"whitegrid\")\n",
    "\n",
    "print(\"Percentage of No(No fraud) Labels present is \",(In[\"PotentialFraud\"].value_counts()[0]*100)/In[\"PotentialFraud\"].count(),\"%\")\n",
    "print(\"Percentage of Yes(Fraud) Labels present is \",(In[\"PotentialFraud\"].value_counts()[1]*100)/In[\"PotentialFraud\"].count(),\"%\")"
   ]
  },
  {
   "cell_type": "markdown",
   "metadata": {
    "id": "XIPF_vg3fbbt"
   },
   "source": [
    "**Observation**\n",
    "1. In train outpatient file there are 20324 non fraud, 23468 fraud claim\n",
    "2. percentage of No class is 53.58%, Yes class is 46.56%\n",
    "\n"
   ]
  },
  {
   "cell_type": "markdown",
   "metadata": {
    "id": "PTesEq0xgMhs"
   },
   "source": [
    "**CONCLUSION**\n",
    "\n",
    "1.Maximum Frauds Happens when the Patient Gets admitted to Hospital,This because the patient can claim more amount\n",
    "\n"
   ]
  },
  {
   "cell_type": "code",
   "execution_count": null,
   "metadata": {
    "id": "er2wH9LhgEP8"
   },
   "outputs": [],
   "source": []
  },
  {
   "cell_type": "markdown",
   "metadata": {
    "id": "eWMIi3N_hX6e"
   },
   "source": [
    "**<font color='Green'>1.2 Feature Provider vs Fraud</font>** "
   ]
  },
  {
   "cell_type": "code",
   "execution_count": null,
   "metadata": {
    "colab": {
     "base_uri": "https://localhost:8080/",
     "height": 757
    },
    "executionInfo": {
     "elapsed": 778,
     "status": "ok",
     "timestamp": 1619975585161,
     "user": {
      "displayName": "Prasad Pawar",
      "photoUrl": "https://lh3.googleusercontent.com/a-/AOh14GjTzY8QsOzkHBBrnak1raXeJa-eG1NL7X8g0_dLLxs=s64",
      "userId": "17658912636650039481"
     },
     "user_tz": -330
    },
    "id": "I_RG7lL0hgdi",
    "outputId": "0960fb96-102d-4ac8-c000-b49950dd3d11"
   },
   "outputs": [
    {
     "name": "stdout",
     "output_type": "stream",
     "text": [
      "The number of Providers present are : 5410\n",
      "Top 5 Providers are  PRV51459    8240\n",
      "PRV53797    4739\n",
      "PRV51574    4444\n",
      "PRV53918    3588\n",
      "PRV54895    3436\n",
      "Name: Provider, dtype: int64\n"
     ]
    },
    {
     "data": {
      "text/plain": [
       "Text(0.5, 1.0, 'Provider vs Fraud')"
      ]
     },
     "execution_count": 11,
     "metadata": {
      "tags": []
     },
     "output_type": "execute_result"
    },
    {
     "data": {
      "image/png": "[encoded data removed]",
      "text/plain": [
       "<Figure size 720x720 with 1 Axes>"
      ]
     },
     "metadata": {
      "needs_background": "light",
      "tags": []
     },
     "output_type": "display_data"
    }
   ],
   "source": [
    "# checking for the  Whole Data set\n",
    "print(\"The number of Providers present are :\",df[\"Provider\"].value_counts().count())\n",
    "print(\"Top 5 Providers are \",df[\"Provider\"].value_counts()[:5])\n",
    "\n",
    "provider_dict= df[\"Provider\"].value_counts().to_dict()\n",
    "count=df[\"Provider\"].map(provider_dict)\n",
    "\n",
    "plt.figure(figsize=(10,10))\n",
    "sns.boxplot(data=df,y=count,x=\"PotentialFraud\")\n",
    "plt.grid(\"whitegrid\")\n",
    "plt.ylabel(\"No of cases by provider \")\n",
    "plt.title(\"Provider vs Fraud\")"
   ]
  },
  {
   "cell_type": "code",
   "execution_count": null,
   "metadata": {
    "colab": {
     "base_uri": "https://localhost:8080/"
    },
    "executionInfo": {
     "elapsed": 12919,
     "status": "ok",
     "timestamp": 1619975598064,
     "user": {
      "displayName": "Prasad Pawar",
      "photoUrl": "https://lh3.googleusercontent.com/a-/AOh14GjTzY8QsOzkHBBrnak1raXeJa-eG1NL7X8g0_dLLxs=s64",
      "userId": "17658912636650039481"
     },
     "user_tz": -330
    },
    "id": "7qnvswV7hvn7",
    "outputId": "71402b19-9f26-4b9a-c594-b7e94948b70b"
   },
   "outputs": [
    {
     "name": "stdout",
     "output_type": "stream",
     "text": [
      "Top 1 provider has Classes(yes,no) : (8240, 0)\n",
      "Top 2 provider has Classes(yes,no) : (4739, 0)\n",
      "Top 3 provider has Classes(yes,no) : (4444, 0)\n",
      "Top 93 provider has Classes(yes,no) : (0, 861)\n",
      "Top 100 provider has Classes(yes,no) : (0, 828)\n"
     ]
    }
   ],
   "source": [
    "# checking for fraud/non fraud cases handled by each provider\n",
    "# calculating number of fraud and non fraud cases from the each provider\n",
    "def check(df,provider ):\n",
    "  yes=0\n",
    "  no=0\n",
    "  g=df.groupby(\"Provider\")\n",
    "  data=g.get_group(provider)\n",
    "  if data[\"PotentialFraud\"].value_counts().keys()[0]==\"Yes\":\n",
    "    yes=data[\"PotentialFraud\"].value_counts()[0]\n",
    "  if data[\"PotentialFraud\"].value_counts().keys()[0]==\"No\":\n",
    "    no=data[\"PotentialFraud\"].value_counts()[0]\n",
    "  return yes,no\n",
    "\n",
    "print(\"Top 1 provider has Classes(yes,no) :\",check(df,df[\"Provider\"].value_counts().keys()[0]))\n",
    "print(\"Top 2 provider has Classes(yes,no) :\",check(df,df[\"Provider\"].value_counts().keys()[1]))\n",
    "print(\"Top 3 provider has Classes(yes,no) :\",check(df,df[\"Provider\"].value_counts().keys()[2]))\n",
    "print(\"Top 93 provider has Classes(yes,no) :\",check(df,df[\"Provider\"].value_counts().keys()[93]))\n",
    "print(\"Top 100 provider has Classes(yes,no) :\",check(df,df[\"Provider\"].value_counts().keys()[100]))"
   ]
  },
  {
   "cell_type": "markdown",
   "metadata": {
    "id": "8t2_vYjHVKoD"
   },
   "source": [
    "**Observation**\n",
    "1. This analysis shows that the provider handling more number of cases tends to commit  fraud whereas the provider handling less cases do not commit any fraud\n",
    "2. The Top Provider handles 8240 cases and least amount of cases handled by Provider are 1\n",
    "3.also from the box plot if the Provider is handling more than 1800-2000  cases he/she may be involved in commiting Fraud\n",
    "\n",
    "\n"
   ]
  },
  {
   "cell_type": "code",
   "execution_count": null,
   "metadata": {
    "colab": {
     "base_uri": "https://localhost:8080/",
     "height": 978
    },
    "executionInfo": {
     "elapsed": 12959,
     "status": "ok",
     "timestamp": 1619975610999,
     "user": {
      "displayName": "Prasad Pawar",
      "photoUrl": "https://lh3.googleusercontent.com/a-/AOh14GjTzY8QsOzkHBBrnak1raXeJa-eG1NL7X8g0_dLLxs=s64",
      "userId": "17658912636650039481"
     },
     "user_tz": -330
    },
    "id": "LPxO-2zjptoL",
    "outputId": "6b31c22e-7f49-4a23-8d3f-d831fc454c25"
   },
   "outputs": [
    {
     "name": "stdout",
     "output_type": "stream",
     "text": [
      "**************************************************\n",
      "The number of Providers present are : 5410\n",
      "Top 5 Providers are  PRV51459    8240\n",
      "PRV53797    4739\n",
      "PRV51574    4444\n",
      "PRV53918    3588\n",
      "PRV54895    3433\n",
      "Name: Provider, dtype: int64\n",
      "**************************************************\n",
      "\n",
      "\n",
      "\n"
     ]
    },
    {
     "data": {
      "image/png": "[encoded data removed]",
      "text/plain": [
       "<Figure size 720x720 with 1 Axes>"
      ]
     },
     "metadata": {
      "needs_background": "light",
      "tags": []
     },
     "output_type": "display_data"
    },
    {
     "name": "stdout",
     "output_type": "stream",
     "text": [
      "\n",
      "\n",
      "\n",
      "**************************************************\n",
      "Top 1 provider has Classes(yes,no) : (8240, 0)\n",
      "Top 2 provider has Classes(yes,no) : (4739, 0)\n",
      "Top 3 provider has Classes(yes,no) : (4444, 0)\n",
      "Top 93 provider has Classes(yes,no) : (842, 0)\n",
      "Top 100 provider has Classes(yes,no) : (0, 818)\n"
     ]
    }
   ],
   "source": [
    "# OUTPATIENT DATA\n",
    "print(\"*\"*50)\n",
    "print(\"The number of Providers present are :\",out[\"Provider\"].value_counts().count())\n",
    "print(\"Top 5 Providers are \",out[\"Provider\"].value_counts()[:5])\n",
    "print(\"*\"*50)\n",
    "print(\"\\n\\n\")\n",
    "\n",
    "#**************************************************************************************************************\n",
    "provider_dict= out[\"Provider\"].value_counts().to_dict()\n",
    "count=out[\"Provider\"].map(provider_dict)\n",
    "\n",
    "plt.figure(figsize=(10,10))\n",
    "sns.boxplot(data=out,y=count,x=\"PotentialFraud\")\n",
    "plt.grid(\"whitegrid\")\n",
    "plt.ylabel(\"No of cases by provider \")\n",
    "plt.title(\"Provider vs Fraud\")\n",
    "plt.show()\n",
    "\n",
    "\n",
    "#**************************************************************************************************************\n",
    "print(\"\\n\\n\")\n",
    "print(\"*\"*50)\n",
    "print(\"Top 1 provider has Classes(yes,no) :\",check(out,out[\"Provider\"].value_counts().keys()[0]))\n",
    "print(\"Top 2 provider has Classes(yes,no) :\",check(out,out[\"Provider\"].value_counts().keys()[1]))\n",
    "print(\"Top 3 provider has Classes(yes,no) :\",check(out,out[\"Provider\"].value_counts().keys()[2]))\n",
    "print(\"Top 93 provider has Classes(yes,no) :\",check(out,out[\"Provider\"].value_counts().keys()[93]))\n",
    "print(\"Top 100 provider has Classes(yes,no) :\",check(out,out[\"Provider\"].value_counts().keys()[100]))"
   ]
  },
  {
   "cell_type": "markdown",
   "metadata": {
    "id": "GRGdLK6iYbRT"
   },
   "source": [
    "**Observation**\n",
    "1. This analysis shows that the provider handling more number of cases tends to commit  fraud whereas the provider handling less cases do not commit any fraud\n",
    "2. The Top Provider handles 8240 cases and least amount of cases handled by Provider are 1\n",
    "3.also from the box plot if the Provider is handling more than 1800-2000 outpatient cases he/she may be involved in commiting Fraud\n"
   ]
  },
  {
   "cell_type": "code",
   "execution_count": null,
   "metadata": {
    "colab": {
     "base_uri": "https://localhost:8080/",
     "height": 978
    },
    "executionInfo": {
     "elapsed": 889,
     "status": "ok",
     "timestamp": 1619975611848,
     "user": {
      "displayName": "Prasad Pawar",
      "photoUrl": "https://lh3.googleusercontent.com/a-/AOh14GjTzY8QsOzkHBBrnak1raXeJa-eG1NL7X8g0_dLLxs=s64",
      "userId": "17658912636650039481"
     },
     "user_tz": -330
    },
    "id": "8JzO7OqxWhiW",
    "outputId": "59874edf-2fc1-4492-cfd6-fe856a54a1ae"
   },
   "outputs": [
    {
     "name": "stdout",
     "output_type": "stream",
     "text": [
      "**************************************************\n",
      "The number of Providers present are : 5410\n",
      "Top 5 Providers are  PRV52019    516\n",
      "PRV55462    386\n",
      "PRV54367    322\n",
      "PRV53706    282\n",
      "PRV55209    275\n",
      "Name: Provider, dtype: int64\n",
      "**************************************************\n",
      "\n",
      "\n",
      "\n"
     ]
    },
    {
     "data": {
      "image/png": "[encoded data removed]",
      "text/plain": [
       "<Figure size 720x720 with 1 Axes>"
      ]
     },
     "metadata": {
      "needs_background": "light",
      "tags": []
     },
     "output_type": "display_data"
    },
    {
     "name": "stdout",
     "output_type": "stream",
     "text": [
      "\n",
      "\n",
      "\n",
      "**************************************************\n",
      "Top 1 provider has Classes(yes,no) : (516, 0)\n",
      "Top 2 provider has Classes(yes,no) : (386, 0)\n",
      "Top 3 provider has Classes(yes,no) : (322, 0)\n",
      "Top 93 provider has Classes(yes,no) : (0, 86)\n",
      "Top 100 provider has Classes(yes,no) : (0, 82)\n"
     ]
    }
   ],
   "source": [
    "# INPPATIENT DATA\n",
    "\n",
    "print(\"*\"*50)\n",
    "print(\"The number of Providers present are :\",In[\"Provider\"].value_counts().count())\n",
    "print(\"Top 5 Providers are \",In[\"Provider\"].value_counts()[:5])\n",
    "print(\"*\"*50)\n",
    "print(\"\\n\\n\")\n",
    "\n",
    "#**************************************************************************************************************\n",
    "provider_dict= In[\"Provider\"].value_counts().to_dict()\n",
    "count=In[\"Provider\"].map(provider_dict)\n",
    "plt.figure(figsize=(10,10))\n",
    "sns.boxplot(data=In,y=count,x=\"PotentialFraud\")\n",
    "plt.grid(\"whitegrid\")\n",
    "plt.ylabel(\"No of cases by provider \")\n",
    "plt.title(\"Provider vs Fraud\")\n",
    "plt.show()\n",
    "\n",
    "#**************************************************************************************************************\n",
    "print(\"\\n\\n\")\n",
    "print(\"*\"*50)\n",
    "print(\"Top 1 provider has Classes(yes,no) :\",check(In,In[\"Provider\"].value_counts().keys()[0]))\n",
    "print(\"Top 2 provider has Classes(yes,no) :\",check(In,In[\"Provider\"].value_counts().keys()[1]))\n",
    "print(\"Top 3 provider has Classes(yes,no) :\",check(In,In[\"Provider\"].value_counts().keys()[2]))\n",
    "print(\"Top 93 provider has Classes(yes,no) :\",check(In,In[\"Provider\"].value_counts().keys()[93]))\n",
    "print(\"Top 100 provider has Classes(yes,no) :\",check(In,In[\"Provider\"].value_counts().keys()[100]))"
   ]
  },
  {
   "cell_type": "markdown",
   "metadata": {
    "id": "gsi4qLbmYei1"
   },
   "source": [
    "**Observation**\n",
    "1. This analysis shows that the provider handling more number of cases tends to commit  fraud whereas the provider handling less cases do not commit any fraud\n",
    "2. The Top Provider handles 516 cases and least amount of cases handled by Provider are 1\n",
    "3. also from the box plot if the Provider is handling more than 120-150 Inpatient cases he/she may be involved in commiting Fraud"
   ]
  },
  {
   "cell_type": "code",
   "execution_count": null,
   "metadata": {
    "id": "yceckn7_Y4WV"
   },
   "outputs": [],
   "source": []
  },
  {
   "cell_type": "markdown",
   "metadata": {
    "id": "XoPReOtDgOB5"
   },
   "source": [
    "**<font color='Green'>1.3 BeneID vs Fraud</font>** "
   ]
  },
  {
   "cell_type": "code",
   "execution_count": null,
   "metadata": {
    "colab": {
     "base_uri": "https://localhost:8080/",
     "height": 859
    },
    "executionInfo": {
     "elapsed": 2133,
     "status": "ok",
     "timestamp": 1619975613967,
     "user": {
      "displayName": "Prasad Pawar",
      "photoUrl": "https://lh3.googleusercontent.com/a-/AOh14GjTzY8QsOzkHBBrnak1raXeJa-eG1NL7X8g0_dLLxs=s64",
      "userId": "17658912636650039481"
     },
     "user_tz": -330
    },
    "id": "lZEioWbdgO2R",
    "outputId": "b02d2c79-ec3c-458a-a2c2-88039ebfb10b"
   },
   "outputs": [
    {
     "name": "stdout",
     "output_type": "stream",
     "text": [
      "**************************************************\n",
      "The number of patients are : 138556\n",
      "The Top 5 Patients with maximum number of claims are :\n",
      " BENE42721     29\n",
      "BENE59303     29\n",
      "BENE118316    29\n",
      "BENE44241     28\n",
      "BENE80977     28\n",
      "Name: BeneID, dtype: int64\n",
      "**************************************************\n",
      "\n",
      "\n",
      "\n"
     ]
    },
    {
     "data": {
      "text/plain": [
       "Text(0.5, 1.0, 'No of Claims filed VS Fraud')"
      ]
     },
     "execution_count": 15,
     "metadata": {
      "tags": []
     },
     "output_type": "execute_result"
    },
    {
     "data": {
      "image/png": "[encoded data removed]",
      "text/plain": [
       "<Figure size 720x720 with 1 Axes>"
      ]
     },
     "metadata": {
      "needs_background": "light",
      "tags": []
     },
     "output_type": "display_data"
    }
   ],
   "source": [
    "# WHOLE DATASET \n",
    "print(\"*\"*50)\n",
    "print(\"The number of patients are :\",df[\"BeneID\"].value_counts().count())\n",
    "print(\"The Top 5 Patients with maximum number of claims are :\\n\",df[\"BeneID\"].value_counts()[:5])\n",
    "print(\"*\"*50)\n",
    "print(\"\\n\\n\")\n",
    "plt.figure(figsize=(10,10))\n",
    "bene=df[\"BeneID\"].value_counts().to_dict()\n",
    "count=df[\"BeneID\"].map(bene)\n",
    "sns.boxplot(data=df,y=count,x=\"PotentialFraud\")\n",
    "plt.ylabel(\"No of Claims filed by Patients\")\n",
    "plt.title(\"No of Claims filed VS Fraud\")"
   ]
  },
  {
   "cell_type": "markdown",
   "metadata": {
    "id": "ZKh3IzZcj19b"
   },
   "source": [
    "**Observation**\n",
    "1. The total Number Of patients are 138556\n",
    "2. The Maximum claims filed by a patient is 29 and minimum is 1\n"
   ]
  },
  {
   "cell_type": "code",
   "execution_count": null,
   "metadata": {
    "colab": {
     "base_uri": "https://localhost:8080/",
     "height": 859
    },
    "executionInfo": {
     "elapsed": 2225,
     "status": "ok",
     "timestamp": 1619975616151,
     "user": {
      "displayName": "Prasad Pawar",
      "photoUrl": "https://lh3.googleusercontent.com/a-/AOh14GjTzY8QsOzkHBBrnak1raXeJa-eG1NL7X8g0_dLLxs=s64",
      "userId": "17658912636650039481"
     },
     "user_tz": -330
    },
    "id": "2I-GAuMEgPXV",
    "outputId": "ce5ea0bf-f97f-4426-9d4f-f9d4204ee5df"
   },
   "outputs": [
    {
     "name": "stdout",
     "output_type": "stream",
     "text": [
      "**************************************************\n",
      "The number of patients are : 133980\n",
      "The Top 5 Patients with maximum number of claims are :\n",
      " BENE42721     29\n",
      "BENE118316    29\n",
      "BENE59303     27\n",
      "BENE63544     27\n",
      "BENE143400    27\n",
      "Name: BeneID, dtype: int64\n",
      "**************************************************\n",
      "\n",
      "\n",
      "\n"
     ]
    },
    {
     "data": {
      "text/plain": [
       "Text(0.5, 1.0, 'No of Claims filed VS Fraud')"
      ]
     },
     "execution_count": 16,
     "metadata": {
      "tags": []
     },
     "output_type": "execute_result"
    },
    {
     "data": {
      "image/png": "[encoded data removed]",
      "text/plain": [
       "<Figure size 720x720 with 1 Axes>"
      ]
     },
     "metadata": {
      "needs_background": "light",
      "tags": []
     },
     "output_type": "display_data"
    }
   ],
   "source": [
    "# OUTPATIENT DATASET \n",
    "print(\"*\"*50)\n",
    "print(\"The number of patients are :\",out[\"BeneID\"].value_counts().count())\n",
    "print(\"The Top 5 Patients with maximum number of claims are :\\n\",out[\"BeneID\"].value_counts()[:5])\n",
    "print(\"*\"*50)\n",
    "print(\"\\n\\n\")\n",
    "plt.figure(figsize=(10,10))\n",
    "bene=out[\"BeneID\"].value_counts().to_dict()\n",
    "count=out[\"BeneID\"].map(bene)\n",
    "sns.boxplot(data=out,y=count,x=\"PotentialFraud\")\n",
    "plt.ylabel(\"No of Claims filed by Patients\")\n",
    "plt.title(\"No of Claims filed VS Fraud\")"
   ]
  },
  {
   "cell_type": "markdown",
   "metadata": {
    "id": "vQk8_8G1lSsX"
   },
   "source": [
    "**Observation**\n",
    "1. The total Number Of patients are 133980\n",
    "2. The Maximum claims filed by a patient is 29 and minimum is 1\n"
   ]
  },
  {
   "cell_type": "code",
   "execution_count": null,
   "metadata": {
    "colab": {
     "base_uri": "https://localhost:8080/",
     "height": 859
    },
    "executionInfo": {
     "elapsed": 126,
     "status": "ok",
     "timestamp": 1619975616154,
     "user": {
      "displayName": "Prasad Pawar",
      "photoUrl": "https://lh3.googleusercontent.com/a-/AOh14GjTzY8QsOzkHBBrnak1raXeJa-eG1NL7X8g0_dLLxs=s64",
      "userId": "17658912636650039481"
     },
     "user_tz": -330
    },
    "id": "G12BgynNkRlI",
    "outputId": "2efd1e97-ca2c-449c-d784-534a91e1e54a"
   },
   "outputs": [
    {
     "name": "stdout",
     "output_type": "stream",
     "text": [
      "**************************************************\n",
      "The number of patients are : 31289\n",
      "The Top 5 Patients with maximum number of claims are :\n",
      " BENE134170    8\n",
      "BENE119457    7\n",
      "BENE121796    7\n",
      "BENE64791     7\n",
      "BENE62091     7\n",
      "Name: BeneID, dtype: int64\n",
      "**************************************************\n",
      "\n",
      "\n",
      "\n"
     ]
    },
    {
     "data": {
      "text/plain": [
       "Text(0.5, 1.0, 'No of Claims filed VS Fraud')"
      ]
     },
     "execution_count": 17,
     "metadata": {
      "tags": []
     },
     "output_type": "execute_result"
    },
    {
     "data": {
      "image/png": "[encoded data removed]",
      "text/plain": [
       "<Figure size 720x720 with 1 Axes>"
      ]
     },
     "metadata": {
      "needs_background": "light",
      "tags": []
     },
     "output_type": "display_data"
    }
   ],
   "source": [
    "# INPATIENT DATASET \n",
    "print(\"*\"*50)\n",
    "print(\"The number of patients are :\",In[\"BeneID\"].value_counts().count())\n",
    "print(\"The Top 5 Patients with maximum number of claims are :\\n\",In[\"BeneID\"].value_counts()[:5])\n",
    "print(\"*\"*50)\n",
    "print(\"\\n\\n\")\n",
    "plt.figure(figsize=(10,10))\n",
    "bene=In[\"BeneID\"].value_counts().to_dict()\n",
    "count=In[\"BeneID\"].map(bene)\n",
    "sns.boxplot(data=In,y=count,x=\"PotentialFraud\")\n",
    "plt.ylabel(\"No of Claims filed by Patients\")\n",
    "plt.title(\"No of Claims filed VS Fraud\")"
   ]
  },
  {
   "cell_type": "markdown",
   "metadata": {
    "id": "ZqPeQyh5ld0C"
   },
   "source": [
    "**Observation**\n",
    "1. The total Number Of patients are 31289\n",
    "2. The Maximum claims filed by a patient is 8 and minimum is 1\n"
   ]
  },
  {
   "cell_type": "markdown",
   "metadata": {
    "id": "FGzPZTvImEc3"
   },
   "source": [
    "**<font color='Green'>1.4 Race vs Fraud</font>** "
   ]
  },
  {
   "cell_type": "code",
   "execution_count": null,
   "metadata": {
    "colab": {
     "base_uri": "https://localhost:8080/",
     "height": 1000
    },
    "executionInfo": {
     "elapsed": 3001,
     "status": "ok",
     "timestamp": 1619975619053,
     "user": {
      "displayName": "Prasad Pawar",
      "photoUrl": "https://lh3.googleusercontent.com/a-/AOh14GjTzY8QsOzkHBBrnak1raXeJa-eG1NL7X8g0_dLLxs=s64",
      "userId": "17658912636650039481"
     },
     "user_tz": -330
    },
    "id": "bNJrC-xLlya_",
    "outputId": "ad0d5ffb-64f6-4e27-8197-08a32cb69028"
   },
   "outputs": [
    {
     "name": "stdout",
     "output_type": "stream",
     "text": [
      "**************************************************\n",
      "The Number Of Race Categoreis Present are: 4\n",
      "The Categories and their claim counts are:\n",
      " 1    471036\n",
      "2     55640\n",
      "3     19715\n",
      "5     11820\n",
      "Name: Race, dtype: int64\n"
     ]
    },
    {
     "data": {
      "image/png": "[encoded data removed]",
      "text/plain": [
       "<Figure size 432x288 with 1 Axes>"
      ]
     },
     "metadata": {
      "needs_background": "light",
      "tags": []
     },
     "output_type": "display_data"
    },
    {
     "name": "stdout",
     "output_type": "stream",
     "text": [
      "**************************************************\n",
      "\n",
      "\n",
      "\n"
     ]
    },
    {
     "data": {
      "image/png": "[encoded data removed]",
      "text/plain": [
       "<Figure size 720x720 with 1 Axes>"
      ]
     },
     "metadata": {
      "needs_background": "light",
      "tags": []
     },
     "output_type": "display_data"
    }
   ],
   "source": [
    "# Whole Data\n",
    "print(\"*\"*50)\n",
    "print(\"The Number Of Race Categoreis Present are:\",df[\"Race\"].value_counts().count())\n",
    "print(\"The Categories and their claim counts are:\\n\",df[\"Race\"].value_counts())\n",
    "sns.countplot(x=df[\"Race\"])\n",
    "plt.show()\n",
    "print(\"*\"*50)\n",
    "print(\"\\n\\n\")\n",
    "plt.figure(figsize=(10,10))\n",
    "sns.violinplot(x=\"PotentialFraud\",y=\"Race\",data=df)\n",
    "plt.title(\"The Race claim counts vs Fraud\")\n",
    "plt.ylabel(\"The Race claim counts \")\n",
    "plt.show()"
   ]
  },
  {
   "cell_type": "markdown",
   "metadata": {
    "id": "Ow_WgBoZqDsx"
   },
   "source": [
    "**Observation**\n",
    "1. The total Number Of Race Categories are 4\n",
    "2. The People belonging to category 1 have filed maximum claims\n",
    "3. From the Violin plot The Category 1 people are more involved in commiting fraud than other categories \n"
   ]
  },
  {
   "cell_type": "markdown",
   "metadata": {
    "id": "KzkKzL3-rr49"
   },
   "source": [
    "**<font color='Green'>1.5 State vs Fraud</font>** "
   ]
  },
  {
   "cell_type": "code",
   "execution_count": null,
   "metadata": {
    "colab": {
     "base_uri": "https://localhost:8080/",
     "height": 571
    },
    "executionInfo": {
     "elapsed": 1063,
     "status": "ok",
     "timestamp": 1619975620086,
     "user": {
      "displayName": "Prasad Pawar",
      "photoUrl": "https://lh3.googleusercontent.com/a-/AOh14GjTzY8QsOzkHBBrnak1raXeJa-eG1NL7X8g0_dLLxs=s64",
      "userId": "17658912636650039481"
     },
     "user_tz": -330
    },
    "id": "s32YwoJHoSZa",
    "outputId": "aa5e1be2-c3e9-4bde-cba6-dd2d7c6bb2dd"
   },
   "outputs": [
    {
     "name": "stdout",
     "output_type": "stream",
     "text": [
      "**************************************************\n",
      "The Number Of States are : 52\n",
      "Top 5 States With Maximum Claims are :\n",
      " 5     51350\n",
      "10    39073\n",
      "33    35024\n",
      "45    34022\n",
      "14    24417\n",
      "Name: State, dtype: int64\n",
      "**************************************************\n",
      "\n",
      "\n",
      "\n"
     ]
    },
    {
     "data": {
      "image/png": "[encoded data removed]",
      "text/plain": [
       "<Figure size 1440x360 with 1 Axes>"
      ]
     },
     "metadata": {
      "needs_background": "light",
      "tags": []
     },
     "output_type": "display_data"
    }
   ],
   "source": [
    "print(\"*\"*50)\n",
    "print(\"The Number Of States are :\",df[\"State\"].value_counts().count())\n",
    "print(\"Top 5 States With Maximum Claims are :\\n\",df[\"State\"].value_counts()[:5])\n",
    "print(\"*\"*50)\n",
    "print(\"\\n\\n\")\n",
    "plt.figure(figsize=(20,5))\n",
    "sns.countplot(x=df[\"State\"],hue=df[\"PotentialFraud\"],order=df[\"State\"].value_counts().keys())\n",
    "plt.title(\"Claims filed bys states vs Fraud\")\n",
    "plt.show()"
   ]
  },
  {
   "cell_type": "markdown",
   "metadata": {
    "id": "VgOth8c_uFTw"
   },
   "source": [
    "**Observation**\n",
    "1. The total Number Of States are 52\n",
    "2. The State which filed maximum claims is state 5 with 51350 Claims\n",
    "3. The State which filed maximum claims is state 9 with 617 Claims\n",
    "\n"
   ]
  },
  {
   "cell_type": "markdown",
   "metadata": {
    "id": "OrZnlFaEvy0V"
   },
   "source": [
    "**<font color='Green'>1.6 InscClaimAmtReimbursed vs Fraud</font>**"
   ]
  },
  {
   "cell_type": "code",
   "execution_count": null,
   "metadata": {
    "colab": {
     "base_uri": "https://localhost:8080/",
     "height": 656
    },
    "executionInfo": {
     "elapsed": 3992,
     "status": "ok",
     "timestamp": 1619975624063,
     "user": {
      "displayName": "Prasad Pawar",
      "photoUrl": "https://lh3.googleusercontent.com/a-/AOh14GjTzY8QsOzkHBBrnak1raXeJa-eG1NL7X8g0_dLLxs=s64",
      "userId": "17658912636650039481"
     },
     "user_tz": -330
    },
    "id": "srcvxnCBvwak",
    "outputId": "4caf706d-eacf-4a8b-b8c5-3e1ca5283ee6"
   },
   "outputs": [
    {
     "data": {
      "image/png": "[encoded data removed]",
      "text/plain": [
       "<Figure size 1440x360 with 1 Axes>"
      ]
     },
     "metadata": {
      "needs_background": "light",
      "tags": []
     },
     "output_type": "display_data"
    },
    {
     "name": "stdout",
     "output_type": "stream",
     "text": [
      "\n",
      "\n",
      "\n",
      "The 25 Percentile values is  40.0\n",
      "The 50 Percentile values is  80.0\n",
      "The 75 Percentile values is  300.0\n",
      "The 90 Percentile values is  2000.0\n",
      "The 99 Percentile values is  17000.0\n",
      "The 99.1 Percentile values is 18000.0\n",
      "The 99.2 Percentile values is 19000.0\n",
      "The 99.3 Percentile values is 21000.0\n",
      "The 99.4 Percentile values is 23000.0\n",
      "The 99.5 Percentile values is 25000.0\n",
      "The 99.6 Percentile values is 29000.0\n",
      "The 99.7 Percentile values is 33000.0\n",
      "The 99.8 Percentile values is 39000.0\n",
      "The 99.9 Percentile values is 55000.0\n",
      "The 100 Percentile values is  125000.0\n"
     ]
    }
   ],
   "source": [
    "# Whole Dataset\n",
    "plt.figure(figsize=(20,5))\n",
    "sns.kdeplot(df[\"InscClaimAmtReimbursed\"],shade=True,color=\"R\")\n",
    "plt.title(\" InscClaimAmtReimbursed vs Fraud\")\n",
    "plt.show()\n",
    "\n",
    "print(\"\\n\\n\")\n",
    "print(\"The 25 Percentile values is \",np.percentile(df[\"InscClaimAmtReimbursed\"],25))  \n",
    "print(\"The 50 Percentile values is \",np.percentile(df[\"InscClaimAmtReimbursed\"],50))  \n",
    "print(\"The 75 Percentile values is \",np.percentile(df[\"InscClaimAmtReimbursed\"],75))  \n",
    "print(\"The 90 Percentile values is \",np.percentile(df[\"InscClaimAmtReimbursed\"],90)) \n",
    "print(\"The 99 Percentile values is \",np.percentile(df[\"InscClaimAmtReimbursed\"],99)) \n",
    "for i in range(1,10):\n",
    "  a=99\n",
    "  b=i/10\n",
    "  a=a+b\n",
    "  print(f\"The {a} Percentile values is {np.percentile(df['InscClaimAmtReimbursed'],a)}\")\n",
    "print(\"The 100 Percentile values is \",np.percentile(df[\"InscClaimAmtReimbursed\"],100))"
   ]
  },
  {
   "cell_type": "markdown",
   "metadata": {
    "id": "AsdsSjBg3ZOk"
   },
   "source": [
    "**Observation**\n",
    "1. The Maximum amount Reimbursed is 125000\n",
    "2. The 90% of claims has reimbursed amount to be less than  2000\n",
    "3. There is Huge difference between 99 and 100 percentile may be it is fraud claim\n",
    "\n"
   ]
  },
  {
   "cell_type": "code",
   "execution_count": null,
   "metadata": {
    "colab": {
     "base_uri": "https://localhost:8080/",
     "height": 656
    },
    "executionInfo": {
     "elapsed": 3226,
     "status": "ok",
     "timestamp": 1619975627280,
     "user": {
      "displayName": "Prasad Pawar",
      "photoUrl": "https://lh3.googleusercontent.com/a-/AOh14GjTzY8QsOzkHBBrnak1raXeJa-eG1NL7X8g0_dLLxs=s64",
      "userId": "17658912636650039481"
     },
     "user_tz": -330
    },
    "id": "mtdmgIOFvwWS",
    "outputId": "18982b74-7b3a-4250-cb18-df36ff1f6b09"
   },
   "outputs": [
    {
     "data": {
      "image/png": "[encoded data removed]",
      "text/plain": [
       "<Figure size 1440x360 with 1 Axes>"
      ]
     },
     "metadata": {
      "needs_background": "light",
      "tags": []
     },
     "output_type": "display_data"
    },
    {
     "name": "stdout",
     "output_type": "stream",
     "text": [
      "\n",
      "\n",
      "\n",
      "The 25 Percentile values is  40.0\n",
      "The 50 Percentile values is  80.0\n",
      "The 75 Percentile values is  200.0\n",
      "The 90 Percentile values is  700.0\n",
      "The 99 Percentile values is  3300.0\n",
      "The 99.1 Percentile values is 3300.0\n",
      "The 99.2 Percentile values is 3300.0\n",
      "The 99.3 Percentile values is 3300.0\n",
      "The 99.4 Percentile values is 3300.0\n",
      "The 99.5 Percentile values is 3300.0\n",
      "The 99.6 Percentile values is 3300.0\n",
      "The 99.7 Percentile values is 3300.0\n",
      "The 99.8 Percentile values is 3300.0\n",
      "The 99.9 Percentile values is 3500.0\n",
      "The 100 Percentile values is  102500.0\n"
     ]
    }
   ],
   "source": [
    "# OutPatient Dataset\n",
    "plt.figure(figsize=(20,5))\n",
    "sns.kdeplot(out[\"InscClaimAmtReimbursed\"],shade=True,color=\"R\")\n",
    "plt.title(\" InscClaimAmtReimbursed vs Fraud\")\n",
    "plt.show()\n",
    "\n",
    "print(\"\\n\\n\")\n",
    "print(\"The 25 Percentile values is \",np.percentile(out[\"InscClaimAmtReimbursed\"].dropna(),25))  \n",
    "print(\"The 50 Percentile values is \",np.percentile(out[\"InscClaimAmtReimbursed\"].dropna(),50))  \n",
    "print(\"The 75 Percentile values is \",np.percentile(out[\"InscClaimAmtReimbursed\"].dropna(),75))  \n",
    "print(\"The 90 Percentile values is \",np.percentile(out[\"InscClaimAmtReimbursed\"].dropna(),90)) \n",
    "print(\"The 99 Percentile values is \",np.percentile(out[\"InscClaimAmtReimbursed\"].dropna(),99)) \n",
    "for i in range(1,10):\n",
    "  a=99\n",
    "  b=i/10\n",
    "  a=a+b\n",
    "  print(f\"The {a} Percentile values is {np.percentile(out['InscClaimAmtReimbursed'].dropna(),a)}\")\n",
    "print(\"The 100 Percentile values is \",np.percentile(out[\"InscClaimAmtReimbursed\"].dropna(),100))"
   ]
  },
  {
   "cell_type": "markdown",
   "metadata": {
    "id": "jQm5Dahm5hLe"
   },
   "source": [
    "**Observation**\n",
    "1. The Maximum amount Reimbursed is 102500\n",
    "2. The 90% of claims has reimbursed amount to be less than  700\n",
    "3. There is Huge difference between 99 and 100 percentile may be it is fraud claim\n",
    "\n"
   ]
  },
  {
   "cell_type": "code",
   "execution_count": null,
   "metadata": {
    "colab": {
     "base_uri": "https://localhost:8080/",
     "height": 656
    },
    "executionInfo": {
     "elapsed": 1349,
     "status": "ok",
     "timestamp": 1619975628618,
     "user": {
      "displayName": "Prasad Pawar",
      "photoUrl": "https://lh3.googleusercontent.com/a-/AOh14GjTzY8QsOzkHBBrnak1raXeJa-eG1NL7X8g0_dLLxs=s64",
      "userId": "17658912636650039481"
     },
     "user_tz": -330
    },
    "id": "JAy__CHbylEy",
    "outputId": "747e5057-c2af-45d7-c206-77bcba015a91"
   },
   "outputs": [
    {
     "data": {
      "image/png": "[encoded data removed]",
      "text/plain": [
       "<Figure size 1440x360 with 1 Axes>"
      ]
     },
     "metadata": {
      "needs_background": "light",
      "tags": []
     },
     "output_type": "display_data"
    },
    {
     "name": "stdout",
     "output_type": "stream",
     "text": [
      "\n",
      "\n",
      "\n",
      "The 25 Percentile values is  4000.0\n",
      "The 50 Percentile values is  7000.0\n",
      "The 75 Percentile values is  12000.0\n",
      "The 90 Percentile values is  20000.0\n",
      "The 99 Percentile values is  57000.0\n",
      "The 99.1 Percentile values is 57000.0\n",
      "The 99.2 Percentile values is 57000.0\n",
      "The 99.3 Percentile values is 57000.0\n",
      "The 99.4 Percentile values is 57000.0\n",
      "The 99.5 Percentile values is 57000.0\n",
      "The 99.6 Percentile values is 57000.0\n",
      "The 99.7 Percentile values is 57000.0\n",
      "The 99.8 Percentile values is 72053.99999999645\n",
      "The 99.9 Percentile values is 90000.0\n",
      "The 100 Percentile values is  125000.0\n"
     ]
    }
   ],
   "source": [
    "# INPatient Dataset\n",
    "plt.figure(figsize=(20,5))\n",
    "sns.kdeplot(In[\"InscClaimAmtReimbursed\"],hue=In[\"PotentialFraud\"],shade=True,color=\"R\")\n",
    "plt.title(\" InscClaimAmtReimbursed vs Fraud\")\n",
    "plt.show()\n",
    "\n",
    "print(\"\\n\\n\")\n",
    "print(\"The 25 Percentile values is \",np.percentile(In[\"InscClaimAmtReimbursed\"].dropna(),25))  \n",
    "print(\"The 50 Percentile values is \",np.percentile(In[\"InscClaimAmtReimbursed\"].dropna(),50))  \n",
    "print(\"The 75 Percentile values is \",np.percentile(In[\"InscClaimAmtReimbursed\"].dropna(),75))  \n",
    "print(\"The 90 Percentile values is \",np.percentile(In[\"InscClaimAmtReimbursed\"].dropna(),90)) \n",
    "print(\"The 99 Percentile values is \",np.percentile(In[\"InscClaimAmtReimbursed\"].dropna(),99)) \n",
    "for i in range(1,10):\n",
    "  a=99\n",
    "  b=i/10\n",
    "  a=a+b\n",
    "  print(f\"The {a} Percentile values is {np.percentile(In['InscClaimAmtReimbursed'].dropna(),a)}\")\n",
    "print(\"The 100 Percentile values is \",np.percentile(In[\"InscClaimAmtReimbursed\"].dropna(),100))"
   ]
  },
  {
   "cell_type": "markdown",
   "metadata": {
    "id": "HcFNa3-m6I78"
   },
   "source": [
    "**Observation**\n",
    "1. The Maximum amount Reimbursed is 125000\n",
    "2. The 90% of claims has reimbursed amount to be less than 20000.0\n",
    "\n"
   ]
  },
  {
   "cell_type": "markdown",
   "metadata": {
    "id": "gNQ1okFhYKRc"
   },
   "source": [
    "**<font color='Green'>1.7 IPAnnualReimbursementAmt vs Fraud</font>**"
   ]
  },
  {
   "cell_type": "code",
   "execution_count": null,
   "metadata": {
    "colab": {
     "base_uri": "https://localhost:8080/",
     "height": 1000
    },
    "executionInfo": {
     "elapsed": 3853,
     "status": "ok",
     "timestamp": 1619975632455,
     "user": {
      "displayName": "Prasad Pawar",
      "photoUrl": "https://lh3.googleusercontent.com/a-/AOh14GjTzY8QsOzkHBBrnak1raXeJa-eG1NL7X8g0_dLLxs=s64",
      "userId": "17658912636650039481"
     },
     "user_tz": -330
    },
    "id": "-U-_pGiKYVLM",
    "outputId": "52185e75-2e9a-4b61-cff6-45629fc4d21e"
   },
   "outputs": [
    {
     "data": {
      "image/png": "[encoded data removed]",
      "text/plain": [
       "<Figure size 1440x360 with 1 Axes>"
      ]
     },
     "metadata": {
      "needs_background": "light",
      "tags": []
     },
     "output_type": "display_data"
    },
    {
     "name": "stdout",
     "output_type": "stream",
     "text": [
      "\n",
      "\n",
      "\n",
      "The 25 Percentile values is  0.0\n",
      "The 50 Percentile values is  0.0\n",
      "The 75 Percentile values is  6000.0\n",
      "The 90 Percentile values is  17000.0\n",
      "The 99 Percentile values is  57200.0\n",
      "The 99.1 Percentile values is 58610.0\n",
      "The 99.2 Percentile values is 60620.0\n",
      "The 99.3 Percentile values is 63000.0\n",
      "The 99.4 Percentile values is 66000.0\n",
      "The 99.5 Percentile values is 69020.0\n",
      "The 99.6 Percentile values is 73210.0\n",
      "The 99.7 Percentile values is 79000.0\n",
      "The 99.8 Percentile values is 86894.99999998952\n",
      "The 99.9 Percentile values is 103000.0\n",
      "The 100 Percentile values is  161470.0\n",
      "\n",
      "\n",
      "\n"
     ]
    },
    {
     "data": {
      "text/plain": [
       "Text(0.5, 1.0, 'IPAnnualReimbursementAmt vs Fraud')"
      ]
     },
     "execution_count": 23,
     "metadata": {
      "tags": []
     },
     "output_type": "execute_result"
    },
    {
     "data": {
      "image/png": "[encoded data removed]",
      "text/plain": [
       "<Figure size 432x288 with 1 Axes>"
      ]
     },
     "metadata": {
      "needs_background": "light",
      "tags": []
     },
     "output_type": "display_data"
    }
   ],
   "source": [
    "# Whole Dataset\n",
    "plt.figure(figsize=(20,5))\n",
    "sns.kdeplot(df[\"IPAnnualReimbursementAmt\"],shade=True,color=\"R\")\n",
    "plt.title(\" IPAnnualReimbursementAmt vs Fraud\")\n",
    "plt.show()\n",
    "\n",
    "print(\"\\n\\n\")\n",
    "print(\"The 25 Percentile values is \",np.percentile(df[\"IPAnnualReimbursementAmt\"],25))  \n",
    "print(\"The 50 Percentile values is \",np.percentile(df[\"IPAnnualReimbursementAmt\"],50))  \n",
    "print(\"The 75 Percentile values is \",np.percentile(df[\"IPAnnualReimbursementAmt\"],75))  \n",
    "print(\"The 90 Percentile values is \",np.percentile(df[\"IPAnnualReimbursementAmt\"],90)) \n",
    "print(\"The 99 Percentile values is \",np.percentile(df[\"IPAnnualReimbursementAmt\"],99)) \n",
    "for i in range(1,10):\n",
    "  a=99\n",
    "  b=i/10\n",
    "  a=a+b\n",
    "  print(f\"The {a} Percentile values is {np.percentile(df['IPAnnualReimbursementAmt'],a)}\")\n",
    "print(\"The 100 Percentile values is \",np.percentile(df[\"IPAnnualReimbursementAmt\"],100))\n",
    "print(\"\\n\\n\")\n",
    "\n",
    "sns.boxplot(y='IPAnnualReimbursementAmt',x=\"PotentialFraud\",data=df)\n",
    "plt.title(\"IPAnnualReimbursementAmt vs Fraud\")"
   ]
  },
  {
   "cell_type": "markdown",
   "metadata": {
    "id": "LpgHbQQKYjul"
   },
   "source": [
    "**Observation**\n",
    "1. The Maximum amount Reimbursed for Inpatient is 161470\n",
    "2. The 90% of claims has reimbursed amount to be less than 17000.0\n",
    "3. From Box plot both the categories No and Yes are have same range for amount to reimbursed but for fraud case the highest amount to claim. \n",
    "\n"
   ]
  },
  {
   "cell_type": "markdown",
   "metadata": {
    "id": "wDZh6nqGa2fX"
   },
   "source": [
    "**<font color='Green'>1.8 OPAnnualReimbursementAmt vs Fraud</font>**"
   ]
  },
  {
   "cell_type": "code",
   "execution_count": null,
   "metadata": {
    "colab": {
     "base_uri": "https://localhost:8080/",
     "height": 1000
    },
    "executionInfo": {
     "elapsed": 4460,
     "status": "ok",
     "timestamp": 1619975636909,
     "user": {
      "displayName": "Prasad Pawar",
      "photoUrl": "https://lh3.googleusercontent.com/a-/AOh14GjTzY8QsOzkHBBrnak1raXeJa-eG1NL7X8g0_dLLxs=s64",
      "userId": "17658912636650039481"
     },
     "user_tz": -330
    },
    "id": "KhzgUjR-YVFE",
    "outputId": "8c9bef41-6590-475a-bd20-637233abe3bb"
   },
   "outputs": [
    {
     "data": {
      "image/png": "[encoded data removed]",
      "text/plain": [
       "<Figure size 1440x360 with 1 Axes>"
      ]
     },
     "metadata": {
      "needs_background": "light",
      "tags": []
     },
     "output_type": "display_data"
    },
    {
     "name": "stdout",
     "output_type": "stream",
     "text": [
      "\n",
      "\n",
      "\n",
      "The 25 Percentile values is  460.0\n",
      "The 50 Percentile values is  1170.0\n",
      "The 75 Percentile values is  2590.0\n",
      "The 90 Percentile values is  4700.0\n",
      "The 99 Percentile values is  22080.0\n",
      "The 99.1 Percentile values is 22740.0\n",
      "The 99.2 Percentile values is 23530.0\n",
      "The 99.3 Percentile values is 24580.0\n",
      "The 99.4 Percentile values is 25560.0\n",
      "The 99.5 Percentile values is 26900.0\n",
      "The 99.6 Percentile values is 28560.0\n",
      "The 99.7 Percentile values is 30200.0\n",
      "The 99.8 Percentile values is 32240.0\n",
      "The 99.9 Percentile values is 36340.0\n",
      "The 100 Percentile values is  102960.0\n",
      "\n",
      "\n",
      "\n"
     ]
    },
    {
     "data": {
      "text/plain": [
       "Text(0.5, 1.0, 'OPAnnualReimbursementAmt vs Fraud')"
      ]
     },
     "execution_count": 24,
     "metadata": {
      "tags": []
     },
     "output_type": "execute_result"
    },
    {
     "data": {
      "image/png": "[encoded data removed]",
      "text/plain": [
       "<Figure size 432x288 with 1 Axes>"
      ]
     },
     "metadata": {
      "needs_background": "light",
      "tags": []
     },
     "output_type": "display_data"
    }
   ],
   "source": [
    "# Whole Dataset\n",
    "plt.figure(figsize=(20,5))\n",
    "sns.kdeplot(df[\"OPAnnualReimbursementAmt\"],shade=True,color=\"R\")\n",
    "plt.title(\" OPAnnualReimbursementAmt vs Fraud\")\n",
    "plt.show()\n",
    "\n",
    "print(\"\\n\\n\")\n",
    "print(\"The 25 Percentile values is \",np.percentile(df[\"OPAnnualReimbursementAmt\"],25))  \n",
    "print(\"The 50 Percentile values is \",np.percentile(df[\"OPAnnualReimbursementAmt\"],50))  \n",
    "print(\"The 75 Percentile values is \",np.percentile(df[\"OPAnnualReimbursementAmt\"],75))  \n",
    "print(\"The 90 Percentile values is \",np.percentile(df[\"OPAnnualReimbursementAmt\"],90)) \n",
    "print(\"The 99 Percentile values is \",np.percentile(df[\"OPAnnualReimbursementAmt\"],99)) \n",
    "for i in range(1,10):\n",
    "  a=99\n",
    "  b=i/10\n",
    "  a=a+b\n",
    "  print(f\"The {a} Percentile values is {np.percentile(df['OPAnnualReimbursementAmt'],a)}\")\n",
    "print(\"The 100 Percentile values is \",np.percentile(df[\"OPAnnualReimbursementAmt\"],100))\n",
    "print(\"\\n\\n\")\n",
    "\n",
    "sns.boxplot(y='OPAnnualReimbursementAmt',x=\"PotentialFraud\",data=df)\n",
    "plt.title(\"OPAnnualReimbursementAmt vs Fraud\")"
   ]
  },
  {
   "cell_type": "markdown",
   "metadata": {
    "id": "PUuuU6wsbZ2o"
   },
   "source": [
    "**Observation**\n",
    "1. The Maximum amount Reimbursed for Inpatient is 102960.0\n",
    "2. The 90% of claims has reimbursed amount to be less than 4700\n",
    "3. From Box plot both the categories No and Yes are have same range for amount to reimbursed .\n",
    "\n"
   ]
  },
  {
   "cell_type": "code",
   "execution_count": null,
   "metadata": {
    "id": "ikhPro2aYU-_"
   },
   "outputs": [],
   "source": []
  },
  {
   "cell_type": "markdown",
   "metadata": {
    "id": "mWkfgNHSWtaL"
   },
   "source": [
    "**<font color='Green'>1.9 AttendingPhysician vs Fraud</font>**"
   ]
  },
  {
   "cell_type": "code",
   "execution_count": null,
   "metadata": {
    "colab": {
     "base_uri": "https://localhost:8080/",
     "height": 757
    },
    "executionInfo": {
     "elapsed": 1525,
     "status": "ok",
     "timestamp": 1619975638399,
     "user": {
      "displayName": "Prasad Pawar",
      "photoUrl": "https://lh3.googleusercontent.com/a-/AOh14GjTzY8QsOzkHBBrnak1raXeJa-eG1NL7X8g0_dLLxs=s64",
      "userId": "17658912636650039481"
     },
     "user_tz": -330
    },
    "id": "LhMEInQK65OJ",
    "outputId": "f00204cc-8f7d-4571-8bb3-cc537abe9eb7"
   },
   "outputs": [
    {
     "name": "stdout",
     "output_type": "stream",
     "text": [
      "The number of AttendingPhysician present are : 82063\n",
      "Top 5 AttendingPhysician are  PHY330576    2534\n",
      "PHY350277    1628\n",
      "PHY412132    1321\n",
      "PHY423534    1223\n",
      "PHY314027    1200\n",
      "Name: AttendingPhysician, dtype: int64\n"
     ]
    },
    {
     "data": {
      "text/plain": [
       "Text(0.5, 1.0, 'AttendingPhysician vs Fraud')"
      ]
     },
     "execution_count": 25,
     "metadata": {
      "tags": []
     },
     "output_type": "execute_result"
    },
    {
     "data": {
      "image/png": "[encoded data removed]",
      "text/plain": [
       "<Figure size 720x720 with 1 Axes>"
      ]
     },
     "metadata": {
      "needs_background": "light",
      "tags": []
     },
     "output_type": "display_data"
    }
   ],
   "source": [
    "# Whole Data set\n",
    "print(\"The number of AttendingPhysician present are :\",df[\"AttendingPhysician\"].value_counts().count())\n",
    "print(\"Top 5 AttendingPhysician are \",df[\"AttendingPhysician\"].value_counts()[:5])\n",
    "\n",
    "provider_dict= df[\"AttendingPhysician\"].value_counts().to_dict()\n",
    "count=df[\"AttendingPhysician\"].map(provider_dict)\n",
    "\n",
    "plt.figure(figsize=(10,10))\n",
    "sns.boxplot(data=df,y=count,x=\"PotentialFraud\")\n",
    "plt.grid(\"whitegrid\")\n",
    "plt.ylabel(\"No of cases by provider \")\n",
    "plt.title(\"AttendingPhysician vs Fraud\")\n"
   ]
  },
  {
   "cell_type": "markdown",
   "metadata": {
    "id": "podsPUwO7CZZ"
   },
   "source": [
    "**Observation**\n",
    "1. The Total Number Of attending Physican are 82063\n",
    "2. From The box plot if the Physician attending more cases then may be he is invloved in commiting fraud and if it is handling less number of cases make non fraud.\n",
    "3. The maximum number of handled cases are 2534\n",
    "\n"
   ]
  },
  {
   "cell_type": "code",
   "execution_count": null,
   "metadata": {
    "colab": {
     "base_uri": "https://localhost:8080/",
     "height": 757
    },
    "executionInfo": {
     "elapsed": 2861,
     "status": "ok",
     "timestamp": 1619975641188,
     "user": {
      "displayName": "Prasad Pawar",
      "photoUrl": "https://lh3.googleusercontent.com/a-/AOh14GjTzY8QsOzkHBBrnak1raXeJa-eG1NL7X8g0_dLLxs=s64",
      "userId": "17658912636650039481"
     },
     "user_tz": -330
    },
    "id": "vz05wbin6tdG",
    "outputId": "1ccaae06-2d74-42c1-b76f-899bac3e82ee"
   },
   "outputs": [
    {
     "name": "stdout",
     "output_type": "stream",
     "text": [
      "The number of AttendingPhysician present are : 74109\n",
      "Top 5 AttendingPhysician are  PHY330576    2534\n",
      "PHY350277    1628\n",
      "PHY412132    1321\n",
      "PHY423534    1223\n",
      "PHY314027    1200\n",
      "Name: AttendingPhysician, dtype: int64\n"
     ]
    },
    {
     "data": {
      "text/plain": [
       "Text(0.5, 1.0, 'AttendingPhysician vs Fraud')"
      ]
     },
     "execution_count": 26,
     "metadata": {
      "tags": []
     },
     "output_type": "execute_result"
    },
    {
     "data": {
      "image/png": "[encoded data removed]",
      "text/plain": [
       "<Figure size 720x720 with 1 Axes>"
      ]
     },
     "metadata": {
      "needs_background": "light",
      "tags": []
     },
     "output_type": "display_data"
    }
   ],
   "source": [
    "# Outpatient Data set\n",
    "print(\"The number of AttendingPhysician present are :\",out[\"AttendingPhysician\"].value_counts().count())\n",
    "print(\"Top 5 AttendingPhysician are \",out[\"AttendingPhysician\"].value_counts()[:5])\n",
    "\n",
    "provider_dict= out[\"AttendingPhysician\"].value_counts().to_dict()\n",
    "count=out[\"AttendingPhysician\"].map(provider_dict)\n",
    "\n",
    "plt.figure(figsize=(10,10))\n",
    "sns.boxplot(data=out,y=count,x=\"PotentialFraud\")\n",
    "plt.grid(\"whitegrid\")\n",
    "plt.ylabel(\"No of cases by provider \")\n",
    "plt.title(\"AttendingPhysician vs Fraud\")\n"
   ]
  },
  {
   "cell_type": "markdown",
   "metadata": {
    "id": "JzWCKM6o9ovh"
   },
   "source": [
    "**Observation**\n",
    "1. The Total Number Of attending Physican are 74109\n",
    "2. From The box plot if the Physician attending more cases then may be he is invloved in commiting fraud and if it is handling less number of cases make non fraud.\n",
    "3. The maximum number of handled cases are 2534\n",
    "\n"
   ]
  },
  {
   "cell_type": "code",
   "execution_count": null,
   "metadata": {
    "colab": {
     "base_uri": "https://localhost:8080/",
     "height": 757
    },
    "executionInfo": {
     "elapsed": 88,
     "status": "ok",
     "timestamp": 1619975641193,
     "user": {
      "displayName": "Prasad Pawar",
      "photoUrl": "https://lh3.googleusercontent.com/a-/AOh14GjTzY8QsOzkHBBrnak1raXeJa-eG1NL7X8g0_dLLxs=s64",
      "userId": "17658912636650039481"
     },
     "user_tz": -330
    },
    "id": "FvNqCgY56tYx",
    "outputId": "7db34498-3fed-4705-9ec0-49543ff2cb15"
   },
   "outputs": [
    {
     "name": "stdout",
     "output_type": "stream",
     "text": [
      "The number of AttendingPhysician present are : 11604\n",
      "Top 5 AttendingPhysician are  PHY422134    386\n",
      "PHY341560    274\n",
      "PHY315112    208\n",
      "PHY411541    198\n",
      "PHY362864    195\n",
      "Name: AttendingPhysician, dtype: int64\n"
     ]
    },
    {
     "data": {
      "text/plain": [
       "Text(0.5, 1.0, 'AttendingPhysician vs Fraud')"
      ]
     },
     "execution_count": 27,
     "metadata": {
      "tags": []
     },
     "output_type": "execute_result"
    },
    {
     "data": {
      "image/png": "[encoded data removed]",
      "text/plain": [
       "<Figure size 720x720 with 1 Axes>"
      ]
     },
     "metadata": {
      "needs_background": "light",
      "tags": []
     },
     "output_type": "display_data"
    }
   ],
   "source": [
    "# Inpatient Data set\n",
    "print(\"The number of AttendingPhysician present are :\",In[\"AttendingPhysician\"].value_counts().count())\n",
    "print(\"Top 5 AttendingPhysician are \",In[\"AttendingPhysician\"].value_counts()[:5])\n",
    "\n",
    "provider_dict= In[\"AttendingPhysician\"].value_counts().to_dict()\n",
    "count=In[\"AttendingPhysician\"].map(provider_dict)\n",
    "\n",
    "plt.figure(figsize=(10,10))\n",
    "sns.boxplot(data=In,y=count,x=\"PotentialFraud\")\n",
    "plt.grid(\"whitegrid\")\n",
    "plt.ylabel(\"No of cases by provider \")\n",
    "plt.title(\"AttendingPhysician vs Fraud\")\n"
   ]
  },
  {
   "cell_type": "markdown",
   "metadata": {
    "id": "exqc4zzt9p5N"
   },
   "source": [
    "**Observation**\n",
    "1. The Total Number Of attending Physican are 11604\n",
    "2. From The box plot if the Physician attending more cases then may be he is invloved in commiting fraud and if it is handling less number of cases make non fraud.\n",
    "3. The maximum number of handled cases are 386\n",
    "\n"
   ]
  },
  {
   "cell_type": "markdown",
   "metadata": {
    "id": "vxkCD3W0PLBc"
   },
   "source": [
    "**<font color='Green'>1.10 DiagnoiseCode vs Fraud</font>**"
   ]
  },
  {
   "cell_type": "code",
   "execution_count": null,
   "metadata": {
    "colab": {
     "base_uri": "https://localhost:8080/",
     "height": 632
    },
    "executionInfo": {
     "elapsed": 2204,
     "status": "ok",
     "timestamp": 1619975643342,
     "user": {
      "displayName": "Prasad Pawar",
      "photoUrl": "https://lh3.googleusercontent.com/a-/AOh14GjTzY8QsOzkHBBrnak1raXeJa-eG1NL7X8g0_dLLxs=s64",
      "userId": "17658912636650039481"
     },
     "user_tz": -330
    },
    "id": "8pMVf2396tQ-",
    "outputId": "6926cde3-4f6e-4376-8e76-b5575f8ea20c"
   },
   "outputs": [
    {
     "name": "stdout",
     "output_type": "stream",
     "text": [
      "The Null values Present are 3901394\n",
      "The Shape   after droping nullvalues Present are 1680716\n",
      "The number of categories of code present are:  11014\n"
     ]
    },
    {
     "data": {
      "image/png": "[encoded data removed]",
      "text/plain": [
       "<Figure size 1440x360 with 1 Axes>"
      ]
     },
     "metadata": {
      "needs_background": "light",
      "tags": []
     },
     "output_type": "display_data"
    },
    {
     "name": "stdout",
     "output_type": "stream",
     "text": [
      "\n",
      "\n",
      "\n",
      "The number of categories of code present are:  4019     77056\n",
      "25000    37356\n",
      "2724     35763\n",
      "V5869    24904\n",
      "4011     23773\n",
      "42731    20138\n",
      "V5861    20001\n",
      "2720     18268\n",
      "2449     17600\n",
      "4280     15507\n",
      "Name: DiagnosisCode, dtype: int64\n"
     ]
    }
   ],
   "source": [
    "#Concating all the DiagnosisCode\n",
    "data = pd.DataFrame(columns = ['DiagnosisCode'])\n",
    "data['DiagnosisCode'] = pd.concat([df[\"ClmDiagnosisCode_1\"],df[\"ClmDiagnosisCode_2\"],df[\"ClmDiagnosisCode_3\"],df[\"ClmDiagnosisCode_4\"],df[\"ClmDiagnosisCode_5\"],\n",
    "                          df[\"ClmDiagnosisCode_6\"],df[\"ClmDiagnosisCode_7\"],df[\"ClmDiagnosisCode_8\"],df[\"ClmDiagnosisCode_9\"],\n",
    "                          df[\"ClmDiagnosisCode_10\"]], axis=0)\n",
    "print(\"The Null values Present are\",  data[\"DiagnosisCode\"].isnull().sum())\n",
    "data.dropna(inplace=True)\n",
    "print(\"The Shape   after droping nullvalues Present are\",  data[\"DiagnosisCode\"].shape[0])\n",
    "\n",
    "print(\"The number of categories of code present are: \",data[\"DiagnosisCode\"].value_counts().count())\n",
    "codes=data[\"DiagnosisCode\"].value_counts()[:50]\n",
    "plt.figure(figsize=(20,5))\n",
    "codes.plot(kind=\"bar\")\n",
    "plt.show()\n",
    "print(\"\\n\\n\")\n",
    "print(\"The number of categories of code present are: \",data[\"DiagnosisCode\"].value_counts()[:10])\n"
   ]
  },
  {
   "cell_type": "markdown",
   "metadata": {
    "id": "kBoJ1Kv1W7fq"
   },
   "source": [
    "**Observation**\n",
    "1. The Number of Unique Code are 11014\n",
    "2. The most common codes used is 4019 with count of 77056\n"
   ]
  },
  {
   "cell_type": "markdown",
   "metadata": {
    "id": "DOmtWNNKazdm"
   },
   "source": [
    "**<font color='Green'>1.10 Bivariate Analysis of Provider and AttendingPhysican </font>**"
   ]
  },
  {
   "cell_type": "code",
   "execution_count": null,
   "metadata": {
    "colab": {
     "base_uri": "https://localhost:8080/",
     "height": 567
    },
    "executionInfo": {
     "elapsed": 54783,
     "status": "ok",
     "timestamp": 1619975899372,
     "user": {
      "displayName": "Prasad Pawar",
      "photoUrl": "https://lh3.googleusercontent.com/a-/AOh14GjTzY8QsOzkHBBrnak1raXeJa-eG1NL7X8g0_dLLxs=s64",
      "userId": "17658912636650039481"
     },
     "user_tz": -330
    },
    "id": "815CFNy04vFM",
    "outputId": "cdbedf31-1c9a-4cca-d179-7ce7864185de"
   },
   "outputs": [
    {
     "data": {
      "text/plain": [
       "<seaborn.axisgrid.PairGrid at 0x7f85ab839dd0>"
      ]
     },
     "execution_count": 0,
     "metadata": {
      "tags": []
     },
     "output_type": "execute_result"
    },
    {
     "data": {
      "image/png": "[encoded data removed]",
      "text/plain": [
       "<Figure size 619.75x540 with 12 Axes>"
      ]
     },
     "metadata": {
      "needs_background": "light",
      "tags": []
     },
     "output_type": "display_data"
    }
   ],
   "source": [
    "phy_dict= df[\"AttendingPhysician\"].value_counts().to_dict()\n",
    "df[\"phy_count\"]=df[\"AttendingPhysician\"].map(phy_dict)\n",
    "\n",
    "prod_dict= df[\"Provider\"].value_counts().to_dict()\n",
    "df[\"prod_count\"]=df[\"Provider\"].map(prod_dict)\n",
    "\n",
    "bene_dict= df[\"BeneID\"].value_counts().to_dict()\n",
    "df[\"BeneID_count\"]=df[\"BeneID\"].map(bene_dict)\n",
    "\n",
    "sns.pairplot(data=df,hue='PotentialFraud',vars=[\"prod_count\",\"phy_count\",\"BeneID_count\"])"
   ]
  },
  {
   "cell_type": "code",
   "execution_count": null,
   "metadata": {
    "colab": {
     "base_uri": "https://localhost:8080/"
    },
    "executionInfo": {
     "elapsed": 40233,
     "status": "ok",
     "timestamp": 1619976211830,
     "user": {
      "displayName": "Prasad Pawar",
      "photoUrl": "https://lh3.googleusercontent.com/a-/AOh14GjTzY8QsOzkHBBrnak1raXeJa-eG1NL7X8g0_dLLxs=s64",
      "userId": "17658912636650039481"
     },
     "user_tz": -330
    },
    "id": "6xYAWbIp4u6N",
    "outputId": "7a805caf-d713-492c-96c2-5b4ca270e01e"
   },
   "outputs": [
    {
     "name": "stdout",
     "output_type": "stream",
     "text": [
      "The Top 5 Patients with maximum claims are \n",
      " BENE42721     29\n",
      "BENE59303     29\n",
      "BENE118316    29\n",
      "BENE44241     28\n",
      "BENE80977     28\n",
      "Name: BeneID, dtype: int64\n",
      "****************************************************************************************************\n",
      "The Top 5 Provider with maximum claims are \n",
      " PRV51459    8240\n",
      "PRV53797    4739\n",
      "PRV51574    4444\n",
      "PRV53918    3588\n",
      "PRV54895    3436\n",
      "Name: Provider, dtype: int64\n",
      "****************************************************************************************************\n",
      "The Top 5 AttendingPhysician with maximum claims are \n",
      " PHY330576    2534\n",
      "PHY350277    1628\n",
      "PHY412132    1321\n",
      "PHY423534    1223\n",
      "PHY314027    1200\n",
      "Name: AttendingPhysician, dtype: int64\n",
      "****************************************************************************************************\n",
      "****************************************************************************************************\n",
      "The top 10 Provider and Physcian that are involved in Commiting Fraud are:\n",
      "\n",
      "(('PRV51459', 'PHY330576'), 'Yes')\n",
      "(('PRV51459', 'PHY350277'), 'Yes')\n",
      "(('PRV51459', 'PHY412132'), 'Yes')\n",
      "(('PRV51459', 'PHY423534'), 'Yes')\n",
      "(('PRV51459', 'PHY314027'), 'Yes')\n",
      "(('PRV53797', 'PHY330576'), 'Yes')\n",
      "(('PRV53797', 'PHY350277'), 'Yes')\n",
      "(('PRV53797', 'PHY412132'), 'Yes')\n",
      "(('PRV53797', 'PHY423534'), 'Yes')\n",
      "(('PRV53797', 'PHY314027'), 'Yes')\n",
      "(('PRV51574', 'PHY330576'), 'Yes')\n",
      "(('PRV51574', 'PHY350277'), 'Yes')\n",
      "(('PRV51574', 'PHY412132'), 'Yes')\n",
      "(('PRV51574', 'PHY423534'), 'Yes')\n",
      "(('PRV51574', 'PHY314027'), 'Yes')\n",
      "(('PRV53918', 'PHY330576'), 'Yes')\n",
      "(('PRV53918', 'PHY350277'), 'Yes')\n",
      "(('PRV53918', 'PHY412132'), 'Yes')\n",
      "(('PRV53918', 'PHY423534'), 'Yes')\n",
      "(('PRV53918', 'PHY314027'), 'Yes')\n",
      "(('PRV54895', 'PHY330576'), 'Yes')\n",
      "(('PRV54895', 'PHY350277'), 'Yes')\n",
      "(('PRV54895', 'PHY412132'), 'Yes')\n",
      "(('PRV54895', 'PHY423534'), 'Yes')\n",
      "(('PRV54895', 'PHY314027'), 'Yes')\n",
      "The top 10 Patients and Physcian that are involved in Commiting Fraud are:\n",
      "(('BENE42721', 'PHY330576'), 'Yes')\n",
      "(('BENE42721', 'PHY350277'), 'Yes')\n",
      "(('BENE42721', 'PHY412132'), 'Yes')\n",
      "(('BENE42721', 'PHY423534'), 'Yes')\n",
      "(('BENE42721', 'PHY314027'), 'Yes')\n",
      "(('BENE59303', 'PHY330576'), 'Yes')\n",
      "(('BENE59303', 'PHY350277'), 'Yes')\n",
      "(('BENE59303', 'PHY412132'), 'Yes')\n",
      "(('BENE59303', 'PHY423534'), 'Yes')\n",
      "(('BENE59303', 'PHY314027'), 'Yes')\n",
      "(('BENE118316', 'PHY330576'), 'Yes')\n",
      "(('BENE118316', 'PHY350277'), 'Yes')\n",
      "(('BENE118316', 'PHY412132'), 'Yes')\n",
      "(('BENE118316', 'PHY423534'), 'Yes')\n",
      "(('BENE118316', 'PHY314027'), 'Yes')\n",
      "(('BENE44241', 'PHY330576'), 'Yes')\n",
      "(('BENE44241', 'PHY350277'), 'Yes')\n",
      "(('BENE44241', 'PHY412132'), 'Yes')\n",
      "(('BENE44241', 'PHY423534'), 'Yes')\n",
      "(('BENE44241', 'PHY314027'), 'Yes')\n",
      "(('BENE80977', 'PHY330576'), 'Yes')\n",
      "(('BENE80977', 'PHY350277'), 'Yes')\n",
      "(('BENE80977', 'PHY412132'), 'Yes')\n",
      "(('BENE80977', 'PHY423534'), 'Yes')\n",
      "(('BENE80977', 'PHY314027'), 'Yes')\n"
     ]
    }
   ],
   "source": [
    "print(\"The Top 5 Patients with maximum claims are \\n\",df[\"BeneID\"].value_counts()[:5])\n",
    "top_patients=df[\"BeneID\"].value_counts().keys()[:50]\n",
    "print(\"**\"*50)\n",
    "print(\"The Top 5 Provider with maximum claims are \\n\",df[\"Provider\"].value_counts()[:5])\n",
    "top_provider=df[\"Provider\"].value_counts().keys()[:50]\n",
    "print(\"**\"*50)\n",
    "print(\"The Top 5 AttendingPhysician with maximum claims are \\n\",df[\"AttendingPhysician\"].value_counts()[:5])\n",
    "top_physican=df[\"AttendingPhysician\"].value_counts().keys()[:50]\n",
    "print(\"**\"*50)\n",
    "\n",
    "pp1=[]\n",
    "for i in range(5):\n",
    "  g=df.groupby(\"Provider\")\n",
    "  data=g.get_group(top_provider[i])\n",
    "  for j in range(5):\n",
    "    if any(data[(data[\"AttendingPhysician\"]==top_physican[j])&(data[\"PotentialFraud\"]==\"Yes\")]):\n",
    "      pp1.append(((top_provider[i],top_physican[j]),\"Yes\"))\n",
    "\n",
    "\n",
    "pb1=[]\n",
    "for i in range(5):\n",
    "  g=df.groupby(\"BeneID\")\n",
    "  data=g.get_group(top_patients[i])\n",
    "  for j in range(5):\n",
    "    if any(data[(data[\"AttendingPhysician\"]==top_physican[j])&(data[\"PotentialFraud\"]==\"Yes\")]):\n",
    "      pb1.append(((top_patients[i],top_physican[j]),\"Yes\"))\n",
    "print(\"**\"*50)\n",
    "print(\"The top 10 Provider and Physcian that are involved in Commiting Fraud are:\\n\")\n",
    "for i in pp1:\n",
    "  print(i)\n",
    "print(\"The top 10 Patients and Physcian that are involved in Commiting Fraud are:\")\n",
    "for i in pb1:\n",
    "  print(i)"
   ]
  },
  {
   "cell_type": "code",
   "execution_count": null,
   "metadata": {
    "id": "pcQ8JzQc3FWo"
   },
   "outputs": [],
   "source": [
    "df.drop(columns=[\"prod_count\",\"phy_count\",\"BeneID_count\"],inplace=True,axis=1)"
   ]
  },
  {
   "cell_type": "markdown",
   "metadata": {
    "id": "Jaoj5rThrwCh"
   },
   "source": [
    "**Observation**\n",
    "1. From the Analysis The top 5 Provider combinations with Physican are involved in fraud this conclude that all the Provider and Physican who handle more cases are involved in Fraud\n",
    "2. From the Analysis The top 5 Patients combinations with Physican are involved in fraud this conclude that all the Patients and Physican who handle more cases are involved in Fraud"
   ]
  },
  {
   "cell_type": "markdown",
   "metadata": {
    "id": "Y14mr0wLcAog"
   },
   "source": [
    "**<font color='Green'>1.10 Gender vs Fraud</font>**"
   ]
  },
  {
   "cell_type": "code",
   "execution_count": null,
   "metadata": {
    "colab": {
     "base_uri": "https://localhost:8080/",
     "height": 312
    },
    "executionInfo": {
     "elapsed": 3497,
     "status": "ok",
     "timestamp": 1619982911650,
     "user": {
      "displayName": "Prasad Pawar",
      "photoUrl": "https://lh3.googleusercontent.com/a-/AOh14GjTzY8QsOzkHBBrnak1raXeJa-eG1NL7X8g0_dLLxs=s64",
      "userId": "17658912636650039481"
     },
     "user_tz": -330
    },
    "id": "OIpw7vnEb_oJ",
    "outputId": "f3215f02-ec71-4d7a-f917-f41bf67d243c"
   },
   "outputs": [
    {
     "data": {
      "text/plain": [
       "Text(0.5, 1.0, 'Gender vs Fraud')"
      ]
     },
     "execution_count": 92,
     "metadata": {
      "tags": []
     },
     "output_type": "execute_result"
    },
    {
     "data": {
      "image/png": "[encoded data removed]",
      "text/plain": [
       "<Figure size 432x288 with 1 Axes>"
      ]
     },
     "metadata": {
      "needs_background": "light",
      "tags": []
     },
     "output_type": "display_data"
    }
   ],
   "source": [
    "sns.violinplot(y=\"Gender\",x=\"PotentialFraud\",data=df)\n",
    "plt.title(\"Gender vs Fraud\")\n"
   ]
  },
  {
   "cell_type": "markdown",
   "metadata": {
    "id": "unTKarmRgaXm"
   },
   "source": [
    "**Observation**\n",
    "1. From the Plot the gender 2 are more involved in the Fraud "
   ]
  },
  {
   "cell_type": "code",
   "execution_count": null,
   "metadata": {
    "id": "5l2nt-0qgZp5"
   },
   "outputs": [],
   "source": []
  },
  {
   "cell_type": "markdown",
   "metadata": {
    "id": "2U7K-xSauDAY"
   },
   "source": [
    "##SUMMARY\n",
    "1. The Distribution of Data Points are 61.87% of them are not Fraud Claims, 38.12% are Fraud claims\n",
    "2.  If the  provider is  handling more number of cases tends to commit  fraud whereas the provider handling less cases do not commit any fraud.\n",
    "3.  If The patient files more claims he/she is involved in Fraud.\n",
    "4. The people belong Race Category 1 are involved in fraud most of the time\n",
    "5. The states like 5,10,34 have more than 15000 fraud cases\n",
    "6. for the 90% of claims the reimbursed amt is less(2000) and if the amout is too big may it falls under fraud claim\n",
    "7. if the Physician attending more cases then may be he is invloved in commiting fraud and if it is handling less number of cases make non fraud.\n",
    "8. If the most attended physician and most cases handled provider files claim together then they are involved in fraud\n",
    "9. If the most attended physician and Top patient files claim together then they are involved in fraud\n",
    "10. Rest of the columns are containg most of Null values and not interpreting any reult\n"
   ]
  },
  {
   "cell_type": "code",
   "execution_count": null,
   "metadata": {
    "id": "aVmIMePmlRg3"
   },
   "outputs": [],
   "source": []
  },
  {
   "cell_type": "markdown",
   "metadata": {
    "id": "hgaM6C1v0bMR"
   },
   "source": [
    "#Data Preprocessing"
   ]
  },
  {
   "cell_type": "code",
   "execution_count": null,
   "metadata": {
    "colab": {
     "base_uri": "https://localhost:8080/"
    },
    "executionInfo": {
     "elapsed": 1430,
     "status": "ok",
     "timestamp": 1620340304577,
     "user": {
      "displayName": "Prasad Pawar",
      "photoUrl": "https://lh3.googleusercontent.com/a-/AOh14GjTzY8QsOzkHBBrnak1raXeJa-eG1NL7X8g0_dLLxs=s64",
      "userId": "17658912636650039481"
     },
     "user_tz": -330
    },
    "id": "0xh7zHtD7Fnc",
    "outputId": "34621897-7260-4e8d-ffa1-ff887cc68992"
   },
   "outputs": [
    {
     "data": {
      "text/plain": [
       "0    345415\n",
       "1    212796\n",
       "Name: PotentialFraud, dtype: int64"
      ]
     },
     "execution_count": 88,
     "metadata": {
      "tags": []
     },
     "output_type": "execute_result"
    }
   ],
   "source": [
    "# The Potential Fraud has 2 cateories Yes/No coverting it to 1/0\n",
    "df[\"PotentialFraud\"]=np.where(df[\"PotentialFraud\"]==\"Yes\",1,0)\n",
    "df[\"PotentialFraud\"].value_counts()"
   ]
  },
  {
   "cell_type": "code",
   "execution_count": null,
   "metadata": {
    "colab": {
     "base_uri": "https://localhost:8080/"
    },
    "executionInfo": {
     "elapsed": 1006,
     "status": "ok",
     "timestamp": 1620340304578,
     "user": {
      "displayName": "Prasad Pawar",
      "photoUrl": "https://lh3.googleusercontent.com/a-/AOh14GjTzY8QsOzkHBBrnak1raXeJa-eG1NL7X8g0_dLLxs=s64",
      "userId": "17658912636650039481"
     },
     "user_tz": -330
    },
    "id": "RX44ggRE7ths",
    "outputId": "314a900d-eeb3-4c17-a7b5-d094e93dedcd"
   },
   "outputs": [
    {
     "data": {
      "text/plain": [
       "0    448363\n",
       "1    109848\n",
       "Name: RenalDiseaseIndicator, dtype: int64"
      ]
     },
     "execution_count": 89,
     "metadata": {
      "tags": []
     },
     "output_type": "execute_result"
    }
   ],
   "source": [
    "# The Column RenalDiseaseIndicator has 2 categories Y/0 converting to 1/0\n",
    "df[\"RenalDiseaseIndicator\"]=np.where(df[\"RenalDiseaseIndicator\"]==\"Y\",1,0) \n",
    "df[\"RenalDiseaseIndicator\"].value_counts()"
   ]
  },
  {
   "cell_type": "code",
   "execution_count": null,
   "metadata": {
    "colab": {
     "base_uri": "https://localhost:8080/"
    },
    "executionInfo": {
     "elapsed": 2259,
     "status": "ok",
     "timestamp": 1620340306277,
     "user": {
      "displayName": "Prasad Pawar",
      "photoUrl": "https://lh3.googleusercontent.com/a-/AOh14GjTzY8QsOzkHBBrnak1raXeJa-eG1NL7X8g0_dLLxs=s64",
      "userId": "17658912636650039481"
     },
     "user_tz": -330
    },
    "id": "AzvAvFgq0ef9",
    "outputId": "161b72bc-a53f-4352-d494-74059688416f"
   },
   "outputs": [
    {
     "data": {
      "text/plain": [
       "Provider                                0\n",
       "PotentialFraud                          0\n",
       "BeneID                                  0\n",
       "DOB                                     0\n",
       "DOD                                554080\n",
       "Gender                                  0\n",
       "Race                                    0\n",
       "RenalDiseaseIndicator                   0\n",
       "State                                   0\n",
       "County                                  0\n",
       "NoOfMonths_PartACov                     0\n",
       "NoOfMonths_PartBCov                     0\n",
       "ChronicCond_Alzheimer                   0\n",
       "ChronicCond_Heartfailure                0\n",
       "ChronicCond_KidneyDisease               0\n",
       "ChronicCond_Cancer                      0\n",
       "ChronicCond_ObstrPulmonary              0\n",
       "ChronicCond_Depression                  0\n",
       "ChronicCond_Diabetes                    0\n",
       "ChronicCond_IschemicHeart               0\n",
       "ChronicCond_Osteoporasis                0\n",
       "ChronicCond_rheumatoidarthritis         0\n",
       "ChronicCond_stroke                      0\n",
       "IPAnnualReimbursementAmt                0\n",
       "IPAnnualDeductibleAmt                   0\n",
       "OPAnnualReimbursementAmt                0\n",
       "OPAnnualDeductibleAmt                   0\n",
       "ClaimID                                 0\n",
       "ClaimStartDt                            0\n",
       "ClaimEndDt                              0\n",
       "InscClaimAmtReimbursed                  0\n",
       "AttendingPhysician                   1508\n",
       "OperatingPhysician                 443764\n",
       "OtherPhysician                     358475\n",
       "AdmissionDt                        517737\n",
       "ClmAdmitDiagnosisCode              412312\n",
       "DeductibleAmtPaid                     899\n",
       "DischargeDt                        517737\n",
       "DiagnosisGroupCode                 517737\n",
       "ClmDiagnosisCode_1                  10453\n",
       "ClmDiagnosisCode_2                 195606\n",
       "ClmDiagnosisCode_3                 315156\n",
       "ClmDiagnosisCode_4                 393675\n",
       "ClmDiagnosisCode_5                 446287\n",
       "ClmDiagnosisCode_6                 473819\n",
       "ClmDiagnosisCode_7                 492034\n",
       "ClmDiagnosisCode_8                 504767\n",
       "ClmDiagnosisCode_9                 516396\n",
       "ClmDiagnosisCode_10                553201\n",
       "ClmProcedureCode_1                 534901\n",
       "ClmProcedureCode_2                 552721\n",
       "ClmProcedureCode_3                 557242\n",
       "ClmProcedureCode_4                 558093\n",
       "ClmProcedureCode_5                 558202\n",
       "ClmProcedureCode_6                 558211\n",
       "dtype: int64"
      ]
     },
     "execution_count": 90,
     "metadata": {
      "tags": []
     },
     "output_type": "execute_result"
    }
   ],
   "source": [
    "# Checking for the NULL Values\n",
    "df.isnull().sum()"
   ]
  },
  {
   "cell_type": "code",
   "execution_count": null,
   "metadata": {
    "id": "MKUAjlhL1Bh1"
   },
   "outputs": [],
   "source": [
    "# The columns ClmProcedureCode_4 ,ClmProcedureCode_5 ,ClmProcedureCode_6  have all null values AND NoOfMonths_PartACov', 'NoOfMonths_PartBCov' have same values so droping them\n",
    "df.drop(columns=[\"ClmProcedureCode_4\",\"ClmProcedureCode_5\",\"ClmProcedureCode_6\",\"NoOfMonths_PartACov\", \"NoOfMonths_PartBCov\"],inplace=True, axis=1 )"
   ]
  },
  {
   "cell_type": "code",
   "execution_count": null,
   "metadata": {
    "id": "QL4weLN71OF_"
   },
   "outputs": [],
   "source": [
    "#Replacing all the null values with 0\n",
    "imp = ['ClmDiagnosisCode_1','ClmDiagnosisCode_2','ClmDiagnosisCode_3','ClmDiagnosisCode_4',\n",
    "             'ClmDiagnosisCode_5','ClmDiagnosisCode_6','ClmDiagnosisCode_7','ClmDiagnosisCode_8',\n",
    "             'ClmDiagnosisCode_9','ClmDiagnosisCode_10','ClmProcedureCode_1','ClmProcedureCode_2'\n",
    "             ,'ClmProcedureCode_3','DiagnosisGroupCode','ClmAdmitDiagnosisCode']\n",
    "for i in imp:\n",
    "  df[i]=df[i].replace({np.nan:0})"
   ]
  },
  {
   "cell_type": "code",
   "execution_count": null,
   "metadata": {
    "colab": {
     "base_uri": "https://localhost:8080/",
     "height": 609
    },
    "executionInfo": {
     "elapsed": 1663,
     "status": "ok",
     "timestamp": 1620340306964,
     "user": {
      "displayName": "Prasad Pawar",
      "photoUrl": "https://lh3.googleusercontent.com/a-/AOh14GjTzY8QsOzkHBBrnak1raXeJa-eG1NL7X8g0_dLLxs=s64",
      "userId": "17658912636650039481"
     },
     "user_tz": -330
    },
    "id": "L2LjMwKxDeUU",
    "outputId": "2667c897-c658-4ce4-d1c1-b0ce4925dfcd"
   },
   "outputs": [
    {
     "data": {
      "text/html": [
       "<div>\n",
       "<style scoped>\n",
       "    .dataframe tbody tr th:only-of-type {\n",
       "        vertical-align: middle;\n",
       "    }\n",
       "\n",
       "    .dataframe tbody tr th {\n",
       "        vertical-align: top;\n",
       "    }\n",
       "\n",
       "    .dataframe thead th {\n",
       "        text-align: right;\n",
       "    }\n",
       "</style>\n",
       "<table border=\"1\" class=\"dataframe\">\n",
       "  <thead>\n",
       "    <tr style=\"text-align: right;\">\n",
       "      <th></th>\n",
       "      <th>Provider</th>\n",
       "      <th>PotentialFraud</th>\n",
       "      <th>BeneID</th>\n",
       "      <th>DOB</th>\n",
       "      <th>DOD</th>\n",
       "      <th>Gender</th>\n",
       "      <th>Race</th>\n",
       "      <th>RenalDiseaseIndicator</th>\n",
       "      <th>State</th>\n",
       "      <th>County</th>\n",
       "      <th>ChronicCond_Alzheimer</th>\n",
       "      <th>ChronicCond_Heartfailure</th>\n",
       "      <th>ChronicCond_KidneyDisease</th>\n",
       "      <th>ChronicCond_Cancer</th>\n",
       "      <th>ChronicCond_ObstrPulmonary</th>\n",
       "      <th>ChronicCond_Depression</th>\n",
       "      <th>ChronicCond_Diabetes</th>\n",
       "      <th>ChronicCond_IschemicHeart</th>\n",
       "      <th>ChronicCond_Osteoporasis</th>\n",
       "      <th>ChronicCond_rheumatoidarthritis</th>\n",
       "      <th>ChronicCond_stroke</th>\n",
       "      <th>IPAnnualReimbursementAmt</th>\n",
       "      <th>IPAnnualDeductibleAmt</th>\n",
       "      <th>OPAnnualReimbursementAmt</th>\n",
       "      <th>OPAnnualDeductibleAmt</th>\n",
       "      <th>ClaimID</th>\n",
       "      <th>ClaimStartDt</th>\n",
       "      <th>ClaimEndDt</th>\n",
       "      <th>InscClaimAmtReimbursed</th>\n",
       "      <th>AttendingPhysician</th>\n",
       "      <th>OperatingPhysician</th>\n",
       "      <th>OtherPhysician</th>\n",
       "      <th>AdmissionDt</th>\n",
       "      <th>ClmAdmitDiagnosisCode</th>\n",
       "      <th>DeductibleAmtPaid</th>\n",
       "      <th>DischargeDt</th>\n",
       "      <th>DiagnosisGroupCode</th>\n",
       "      <th>ClmDiagnosisCode_1</th>\n",
       "      <th>ClmDiagnosisCode_2</th>\n",
       "      <th>ClmDiagnosisCode_3</th>\n",
       "      <th>ClmDiagnosisCode_4</th>\n",
       "      <th>ClmDiagnosisCode_5</th>\n",
       "      <th>ClmDiagnosisCode_6</th>\n",
       "      <th>ClmDiagnosisCode_7</th>\n",
       "      <th>ClmDiagnosisCode_8</th>\n",
       "      <th>ClmDiagnosisCode_9</th>\n",
       "      <th>ClmDiagnosisCode_10</th>\n",
       "      <th>ClmProcedureCode_1</th>\n",
       "      <th>ClmProcedureCode_2</th>\n",
       "      <th>ClmProcedureCode_3</th>\n",
       "    </tr>\n",
       "  </thead>\n",
       "  <tbody>\n",
       "    <tr>\n",
       "      <th>0</th>\n",
       "      <td>PRV51001</td>\n",
       "      <td>0</td>\n",
       "      <td>BENE11727</td>\n",
       "      <td>1930-05-01</td>\n",
       "      <td>NaN</td>\n",
       "      <td>1</td>\n",
       "      <td>1</td>\n",
       "      <td>1</td>\n",
       "      <td>1</td>\n",
       "      <td>660</td>\n",
       "      <td>1</td>\n",
       "      <td>1</td>\n",
       "      <td>1</td>\n",
       "      <td>1</td>\n",
       "      <td>2</td>\n",
       "      <td>2</td>\n",
       "      <td>1</td>\n",
       "      <td>1</td>\n",
       "      <td>2</td>\n",
       "      <td>2</td>\n",
       "      <td>2</td>\n",
       "      <td>0</td>\n",
       "      <td>0</td>\n",
       "      <td>300</td>\n",
       "      <td>110</td>\n",
       "      <td>CLM733300</td>\n",
       "      <td>2009-12-17</td>\n",
       "      <td>2009-12-17</td>\n",
       "      <td>20</td>\n",
       "      <td>PHY383007</td>\n",
       "      <td>NaN</td>\n",
       "      <td>PHY383007</td>\n",
       "      <td>NaN</td>\n",
       "      <td>0</td>\n",
       "      <td>0.0</td>\n",
       "      <td>NaN</td>\n",
       "      <td>0</td>\n",
       "      <td>5953</td>\n",
       "      <td>42731</td>\n",
       "      <td>0</td>\n",
       "      <td>0</td>\n",
       "      <td>0</td>\n",
       "      <td>0</td>\n",
       "      <td>0</td>\n",
       "      <td>0</td>\n",
       "      <td>0</td>\n",
       "      <td>0</td>\n",
       "      <td>0.0</td>\n",
       "      <td>0.0</td>\n",
       "      <td>0.0</td>\n",
       "    </tr>\n",
       "    <tr>\n",
       "      <th>1</th>\n",
       "      <td>PRV51001</td>\n",
       "      <td>0</td>\n",
       "      <td>BENE24646</td>\n",
       "      <td>1943-03-01</td>\n",
       "      <td>NaN</td>\n",
       "      <td>1</td>\n",
       "      <td>1</td>\n",
       "      <td>0</td>\n",
       "      <td>1</td>\n",
       "      <td>440</td>\n",
       "      <td>1</td>\n",
       "      <td>2</td>\n",
       "      <td>2</td>\n",
       "      <td>2</td>\n",
       "      <td>2</td>\n",
       "      <td>2</td>\n",
       "      <td>1</td>\n",
       "      <td>1</td>\n",
       "      <td>1</td>\n",
       "      <td>2</td>\n",
       "      <td>1</td>\n",
       "      <td>0</td>\n",
       "      <td>0</td>\n",
       "      <td>720</td>\n",
       "      <td>10</td>\n",
       "      <td>CLM372475</td>\n",
       "      <td>2009-05-22</td>\n",
       "      <td>2009-05-23</td>\n",
       "      <td>700</td>\n",
       "      <td>PHY405682</td>\n",
       "      <td>NaN</td>\n",
       "      <td>PHY402512</td>\n",
       "      <td>NaN</td>\n",
       "      <td>0</td>\n",
       "      <td>0.0</td>\n",
       "      <td>NaN</td>\n",
       "      <td>0</td>\n",
       "      <td>78650</td>\n",
       "      <td>51889</td>\n",
       "      <td>V5869</td>\n",
       "      <td>4019</td>\n",
       "      <td>V4581</td>\n",
       "      <td>49320</td>\n",
       "      <td>0</td>\n",
       "      <td>0</td>\n",
       "      <td>0</td>\n",
       "      <td>0</td>\n",
       "      <td>0.0</td>\n",
       "      <td>0.0</td>\n",
       "      <td>0.0</td>\n",
       "    </tr>\n",
       "    <tr>\n",
       "      <th>2</th>\n",
       "      <td>PRV51001</td>\n",
       "      <td>0</td>\n",
       "      <td>BENE31617</td>\n",
       "      <td>1933-08-01</td>\n",
       "      <td>NaN</td>\n",
       "      <td>2</td>\n",
       "      <td>1</td>\n",
       "      <td>0</td>\n",
       "      <td>1</td>\n",
       "      <td>660</td>\n",
       "      <td>2</td>\n",
       "      <td>2</td>\n",
       "      <td>1</td>\n",
       "      <td>2</td>\n",
       "      <td>2</td>\n",
       "      <td>2</td>\n",
       "      <td>1</td>\n",
       "      <td>1</td>\n",
       "      <td>2</td>\n",
       "      <td>1</td>\n",
       "      <td>2</td>\n",
       "      <td>0</td>\n",
       "      <td>0</td>\n",
       "      <td>1380</td>\n",
       "      <td>370</td>\n",
       "      <td>CLM748221</td>\n",
       "      <td>2009-12-28</td>\n",
       "      <td>2009-12-28</td>\n",
       "      <td>900</td>\n",
       "      <td>PHY345302</td>\n",
       "      <td>NaN</td>\n",
       "      <td>NaN</td>\n",
       "      <td>NaN</td>\n",
       "      <td>59970</td>\n",
       "      <td>0.0</td>\n",
       "      <td>NaN</td>\n",
       "      <td>0</td>\n",
       "      <td>V446</td>\n",
       "      <td>0</td>\n",
       "      <td>0</td>\n",
       "      <td>0</td>\n",
       "      <td>0</td>\n",
       "      <td>0</td>\n",
       "      <td>0</td>\n",
       "      <td>0</td>\n",
       "      <td>0</td>\n",
       "      <td>0</td>\n",
       "      <td>0.0</td>\n",
       "      <td>0.0</td>\n",
       "      <td>0.0</td>\n",
       "    </tr>\n",
       "    <tr>\n",
       "      <th>3</th>\n",
       "      <td>PRV51001</td>\n",
       "      <td>0</td>\n",
       "      <td>BENE32715</td>\n",
       "      <td>1936-03-01</td>\n",
       "      <td>NaN</td>\n",
       "      <td>1</td>\n",
       "      <td>1</td>\n",
       "      <td>0</td>\n",
       "      <td>1</td>\n",
       "      <td>410</td>\n",
       "      <td>1</td>\n",
       "      <td>1</td>\n",
       "      <td>1</td>\n",
       "      <td>1</td>\n",
       "      <td>1</td>\n",
       "      <td>1</td>\n",
       "      <td>1</td>\n",
       "      <td>1</td>\n",
       "      <td>2</td>\n",
       "      <td>2</td>\n",
       "      <td>2</td>\n",
       "      <td>2020</td>\n",
       "      <td>1068</td>\n",
       "      <td>6700</td>\n",
       "      <td>2700</td>\n",
       "      <td>CLM272936</td>\n",
       "      <td>2009-03-29</td>\n",
       "      <td>2009-03-30</td>\n",
       "      <td>500</td>\n",
       "      <td>PHY318842</td>\n",
       "      <td>PHY392882</td>\n",
       "      <td>NaN</td>\n",
       "      <td>NaN</td>\n",
       "      <td>78902</td>\n",
       "      <td>0.0</td>\n",
       "      <td>NaN</td>\n",
       "      <td>0</td>\n",
       "      <td>78964</td>\n",
       "      <td>V442</td>\n",
       "      <td>5589</td>\n",
       "      <td>2720</td>\n",
       "      <td>33829</td>\n",
       "      <td>25002</td>\n",
       "      <td>0</td>\n",
       "      <td>0</td>\n",
       "      <td>0</td>\n",
       "      <td>0</td>\n",
       "      <td>0.0</td>\n",
       "      <td>0.0</td>\n",
       "      <td>0.0</td>\n",
       "    </tr>\n",
       "    <tr>\n",
       "      <th>4</th>\n",
       "      <td>PRV51001</td>\n",
       "      <td>0</td>\n",
       "      <td>BENE36012</td>\n",
       "      <td>1940-07-01</td>\n",
       "      <td>NaN</td>\n",
       "      <td>1</td>\n",
       "      <td>1</td>\n",
       "      <td>0</td>\n",
       "      <td>1</td>\n",
       "      <td>510</td>\n",
       "      <td>2</td>\n",
       "      <td>1</td>\n",
       "      <td>1</td>\n",
       "      <td>2</td>\n",
       "      <td>2</td>\n",
       "      <td>1</td>\n",
       "      <td>1</td>\n",
       "      <td>1</td>\n",
       "      <td>2</td>\n",
       "      <td>2</td>\n",
       "      <td>1</td>\n",
       "      <td>36000</td>\n",
       "      <td>1068</td>\n",
       "      <td>3520</td>\n",
       "      <td>140</td>\n",
       "      <td>CLM58316</td>\n",
       "      <td>2009-07-04</td>\n",
       "      <td>2009-07-08</td>\n",
       "      <td>36000</td>\n",
       "      <td>PHY340163</td>\n",
       "      <td>NaN</td>\n",
       "      <td>NaN</td>\n",
       "      <td>2009-07-04</td>\n",
       "      <td>29623</td>\n",
       "      <td>1068.0</td>\n",
       "      <td>2009-07-08</td>\n",
       "      <td>882</td>\n",
       "      <td>29650</td>\n",
       "      <td>2971</td>\n",
       "      <td>3051</td>\n",
       "      <td>V1254</td>\n",
       "      <td>07070</td>\n",
       "      <td>28260</td>\n",
       "      <td>7823</td>\n",
       "      <td>49300</td>\n",
       "      <td>0</td>\n",
       "      <td>0</td>\n",
       "      <td>0.0</td>\n",
       "      <td>0.0</td>\n",
       "      <td>0.0</td>\n",
       "    </tr>\n",
       "    <tr>\n",
       "      <th>...</th>\n",
       "      <td>...</td>\n",
       "      <td>...</td>\n",
       "      <td>...</td>\n",
       "      <td>...</td>\n",
       "      <td>...</td>\n",
       "      <td>...</td>\n",
       "      <td>...</td>\n",
       "      <td>...</td>\n",
       "      <td>...</td>\n",
       "      <td>...</td>\n",
       "      <td>...</td>\n",
       "      <td>...</td>\n",
       "      <td>...</td>\n",
       "      <td>...</td>\n",
       "      <td>...</td>\n",
       "      <td>...</td>\n",
       "      <td>...</td>\n",
       "      <td>...</td>\n",
       "      <td>...</td>\n",
       "      <td>...</td>\n",
       "      <td>...</td>\n",
       "      <td>...</td>\n",
       "      <td>...</td>\n",
       "      <td>...</td>\n",
       "      <td>...</td>\n",
       "      <td>...</td>\n",
       "      <td>...</td>\n",
       "      <td>...</td>\n",
       "      <td>...</td>\n",
       "      <td>...</td>\n",
       "      <td>...</td>\n",
       "      <td>...</td>\n",
       "      <td>...</td>\n",
       "      <td>...</td>\n",
       "      <td>...</td>\n",
       "      <td>...</td>\n",
       "      <td>...</td>\n",
       "      <td>...</td>\n",
       "      <td>...</td>\n",
       "      <td>...</td>\n",
       "      <td>...</td>\n",
       "      <td>...</td>\n",
       "      <td>...</td>\n",
       "      <td>...</td>\n",
       "      <td>...</td>\n",
       "      <td>...</td>\n",
       "      <td>...</td>\n",
       "      <td>...</td>\n",
       "      <td>...</td>\n",
       "      <td>...</td>\n",
       "    </tr>\n",
       "    <tr>\n",
       "      <th>558206</th>\n",
       "      <td>PRV57763</td>\n",
       "      <td>0</td>\n",
       "      <td>BENE148535</td>\n",
       "      <td>1940-02-01</td>\n",
       "      <td>NaN</td>\n",
       "      <td>2</td>\n",
       "      <td>2</td>\n",
       "      <td>0</td>\n",
       "      <td>21</td>\n",
       "      <td>210</td>\n",
       "      <td>1</td>\n",
       "      <td>2</td>\n",
       "      <td>2</td>\n",
       "      <td>2</td>\n",
       "      <td>2</td>\n",
       "      <td>1</td>\n",
       "      <td>1</td>\n",
       "      <td>1</td>\n",
       "      <td>1</td>\n",
       "      <td>1</td>\n",
       "      <td>2</td>\n",
       "      <td>0</td>\n",
       "      <td>0</td>\n",
       "      <td>1780</td>\n",
       "      <td>320</td>\n",
       "      <td>CLM582682</td>\n",
       "      <td>2009-09-16</td>\n",
       "      <td>2009-09-25</td>\n",
       "      <td>1100</td>\n",
       "      <td>PHY321072</td>\n",
       "      <td>PHY321072</td>\n",
       "      <td>PHY321072</td>\n",
       "      <td>NaN</td>\n",
       "      <td>0</td>\n",
       "      <td>40.0</td>\n",
       "      <td>NaN</td>\n",
       "      <td>0</td>\n",
       "      <td>72740</td>\n",
       "      <td>78052</td>\n",
       "      <td>56942</td>\n",
       "      <td>71534</td>\n",
       "      <td>3540</td>\n",
       "      <td>0</td>\n",
       "      <td>0</td>\n",
       "      <td>0</td>\n",
       "      <td>0</td>\n",
       "      <td>0</td>\n",
       "      <td>0.0</td>\n",
       "      <td>0.0</td>\n",
       "      <td>0.0</td>\n",
       "    </tr>\n",
       "    <tr>\n",
       "      <th>558207</th>\n",
       "      <td>PRV57763</td>\n",
       "      <td>0</td>\n",
       "      <td>BENE150998</td>\n",
       "      <td>1958-12-01</td>\n",
       "      <td>NaN</td>\n",
       "      <td>1</td>\n",
       "      <td>2</td>\n",
       "      <td>0</td>\n",
       "      <td>21</td>\n",
       "      <td>210</td>\n",
       "      <td>2</td>\n",
       "      <td>2</td>\n",
       "      <td>2</td>\n",
       "      <td>2</td>\n",
       "      <td>2</td>\n",
       "      <td>2</td>\n",
       "      <td>2</td>\n",
       "      <td>2</td>\n",
       "      <td>2</td>\n",
       "      <td>2</td>\n",
       "      <td>2</td>\n",
       "      <td>0</td>\n",
       "      <td>0</td>\n",
       "      <td>200</td>\n",
       "      <td>200</td>\n",
       "      <td>CLM553988</td>\n",
       "      <td>2009-08-30</td>\n",
       "      <td>2009-08-30</td>\n",
       "      <td>200</td>\n",
       "      <td>PHY321072</td>\n",
       "      <td>NaN</td>\n",
       "      <td>NaN</td>\n",
       "      <td>NaN</td>\n",
       "      <td>0</td>\n",
       "      <td>0.0</td>\n",
       "      <td>NaN</td>\n",
       "      <td>0</td>\n",
       "      <td>V1251</td>\n",
       "      <td>72981</td>\n",
       "      <td>0</td>\n",
       "      <td>0</td>\n",
       "      <td>0</td>\n",
       "      <td>0</td>\n",
       "      <td>0</td>\n",
       "      <td>0</td>\n",
       "      <td>0</td>\n",
       "      <td>0</td>\n",
       "      <td>0.0</td>\n",
       "      <td>0.0</td>\n",
       "      <td>0.0</td>\n",
       "    </tr>\n",
       "    <tr>\n",
       "      <th>558208</th>\n",
       "      <td>PRV57763</td>\n",
       "      <td>0</td>\n",
       "      <td>BENE151006</td>\n",
       "      <td>1963-08-01</td>\n",
       "      <td>NaN</td>\n",
       "      <td>2</td>\n",
       "      <td>1</td>\n",
       "      <td>1</td>\n",
       "      <td>21</td>\n",
       "      <td>210</td>\n",
       "      <td>2</td>\n",
       "      <td>2</td>\n",
       "      <td>1</td>\n",
       "      <td>1</td>\n",
       "      <td>1</td>\n",
       "      <td>2</td>\n",
       "      <td>1</td>\n",
       "      <td>1</td>\n",
       "      <td>2</td>\n",
       "      <td>2</td>\n",
       "      <td>2</td>\n",
       "      <td>28150</td>\n",
       "      <td>2136</td>\n",
       "      <td>1980</td>\n",
       "      <td>500</td>\n",
       "      <td>CLM610854</td>\n",
       "      <td>2009-10-02</td>\n",
       "      <td>2009-10-02</td>\n",
       "      <td>80</td>\n",
       "      <td>PHY321072</td>\n",
       "      <td>PHY321072</td>\n",
       "      <td>PHY321072</td>\n",
       "      <td>NaN</td>\n",
       "      <td>0</td>\n",
       "      <td>0.0</td>\n",
       "      <td>NaN</td>\n",
       "      <td>0</td>\n",
       "      <td>79022</td>\n",
       "      <td>4011</td>\n",
       "      <td>V427</td>\n",
       "      <td>0</td>\n",
       "      <td>0</td>\n",
       "      <td>0</td>\n",
       "      <td>0</td>\n",
       "      <td>0</td>\n",
       "      <td>0</td>\n",
       "      <td>0</td>\n",
       "      <td>0.0</td>\n",
       "      <td>0.0</td>\n",
       "      <td>0.0</td>\n",
       "    </tr>\n",
       "    <tr>\n",
       "      <th>558209</th>\n",
       "      <td>PRV57763</td>\n",
       "      <td>0</td>\n",
       "      <td>BENE158531</td>\n",
       "      <td>1952-02-01</td>\n",
       "      <td>NaN</td>\n",
       "      <td>2</td>\n",
       "      <td>2</td>\n",
       "      <td>0</td>\n",
       "      <td>21</td>\n",
       "      <td>210</td>\n",
       "      <td>2</td>\n",
       "      <td>2</td>\n",
       "      <td>2</td>\n",
       "      <td>2</td>\n",
       "      <td>2</td>\n",
       "      <td>2</td>\n",
       "      <td>1</td>\n",
       "      <td>1</td>\n",
       "      <td>2</td>\n",
       "      <td>2</td>\n",
       "      <td>2</td>\n",
       "      <td>0</td>\n",
       "      <td>0</td>\n",
       "      <td>3700</td>\n",
       "      <td>240</td>\n",
       "      <td>CLM691834</td>\n",
       "      <td>2009-11-20</td>\n",
       "      <td>2009-11-20</td>\n",
       "      <td>3300</td>\n",
       "      <td>PHY321072</td>\n",
       "      <td>NaN</td>\n",
       "      <td>PHY321072</td>\n",
       "      <td>NaN</td>\n",
       "      <td>0</td>\n",
       "      <td>0.0</td>\n",
       "      <td>NaN</td>\n",
       "      <td>0</td>\n",
       "      <td>41406</td>\n",
       "      <td>40290</td>\n",
       "      <td>0</td>\n",
       "      <td>0</td>\n",
       "      <td>0</td>\n",
       "      <td>0</td>\n",
       "      <td>0</td>\n",
       "      <td>0</td>\n",
       "      <td>0</td>\n",
       "      <td>0</td>\n",
       "      <td>0.0</td>\n",
       "      <td>0.0</td>\n",
       "      <td>0.0</td>\n",
       "    </tr>\n",
       "    <tr>\n",
       "      <th>558210</th>\n",
       "      <td>PRV57763</td>\n",
       "      <td>0</td>\n",
       "      <td>BENE158531</td>\n",
       "      <td>1952-02-01</td>\n",
       "      <td>NaN</td>\n",
       "      <td>2</td>\n",
       "      <td>2</td>\n",
       "      <td>0</td>\n",
       "      <td>21</td>\n",
       "      <td>210</td>\n",
       "      <td>2</td>\n",
       "      <td>2</td>\n",
       "      <td>2</td>\n",
       "      <td>2</td>\n",
       "      <td>2</td>\n",
       "      <td>2</td>\n",
       "      <td>1</td>\n",
       "      <td>1</td>\n",
       "      <td>2</td>\n",
       "      <td>2</td>\n",
       "      <td>2</td>\n",
       "      <td>0</td>\n",
       "      <td>0</td>\n",
       "      <td>3700</td>\n",
       "      <td>240</td>\n",
       "      <td>CLM701529</td>\n",
       "      <td>2009-11-26</td>\n",
       "      <td>2009-11-26</td>\n",
       "      <td>40</td>\n",
       "      <td>PHY321072</td>\n",
       "      <td>NaN</td>\n",
       "      <td>PHY321072</td>\n",
       "      <td>NaN</td>\n",
       "      <td>0</td>\n",
       "      <td>0.0</td>\n",
       "      <td>NaN</td>\n",
       "      <td>0</td>\n",
       "      <td>7280</td>\n",
       "      <td>0</td>\n",
       "      <td>0</td>\n",
       "      <td>0</td>\n",
       "      <td>0</td>\n",
       "      <td>0</td>\n",
       "      <td>0</td>\n",
       "      <td>0</td>\n",
       "      <td>0</td>\n",
       "      <td>0</td>\n",
       "      <td>0.0</td>\n",
       "      <td>0.0</td>\n",
       "      <td>0.0</td>\n",
       "    </tr>\n",
       "  </tbody>\n",
       "</table>\n",
       "<p>558211 rows × 50 columns</p>\n",
       "</div>"
      ],
      "text/plain": [
       "        Provider  PotentialFraud  ... ClmProcedureCode_2 ClmProcedureCode_3\n",
       "0       PRV51001               0  ...                0.0                0.0\n",
       "1       PRV51001               0  ...                0.0                0.0\n",
       "2       PRV51001               0  ...                0.0                0.0\n",
       "3       PRV51001               0  ...                0.0                0.0\n",
       "4       PRV51001               0  ...                0.0                0.0\n",
       "...          ...             ...  ...                ...                ...\n",
       "558206  PRV57763               0  ...                0.0                0.0\n",
       "558207  PRV57763               0  ...                0.0                0.0\n",
       "558208  PRV57763               0  ...                0.0                0.0\n",
       "558209  PRV57763               0  ...                0.0                0.0\n",
       "558210  PRV57763               0  ...                0.0                0.0\n",
       "\n",
       "[558211 rows x 50 columns]"
      ]
     },
     "execution_count": 93,
     "metadata": {
      "tags": []
     },
     "output_type": "execute_result"
    }
   ],
   "source": [
    "df"
   ]
  },
  {
   "cell_type": "code",
   "execution_count": null,
   "metadata": {
    "colab": {
     "base_uri": "https://localhost:8080/"
    },
    "executionInfo": {
     "elapsed": 1493,
     "status": "ok",
     "timestamp": 1620340307674,
     "user": {
      "displayName": "Prasad Pawar",
      "photoUrl": "https://lh3.googleusercontent.com/a-/AOh14GjTzY8QsOzkHBBrnak1raXeJa-eG1NL7X8g0_dLLxs=s64",
      "userId": "17658912636650039481"
     },
     "user_tz": -330
    },
    "id": "5jMedH6Q1oLI",
    "outputId": "a44afef5-cdbe-4038-ba18-0561fb4df032"
   },
   "outputs": [
    {
     "data": {
      "text/plain": [
       "Provider                                0\n",
       "PotentialFraud                          0\n",
       "BeneID                                  0\n",
       "DOB                                     0\n",
       "DOD                                554080\n",
       "Gender                                  0\n",
       "Race                                    0\n",
       "RenalDiseaseIndicator                   0\n",
       "State                                   0\n",
       "County                                  0\n",
       "ChronicCond_Alzheimer                   0\n",
       "ChronicCond_Heartfailure                0\n",
       "ChronicCond_KidneyDisease               0\n",
       "ChronicCond_Cancer                      0\n",
       "ChronicCond_ObstrPulmonary              0\n",
       "ChronicCond_Depression                  0\n",
       "ChronicCond_Diabetes                    0\n",
       "ChronicCond_IschemicHeart               0\n",
       "ChronicCond_Osteoporasis                0\n",
       "ChronicCond_rheumatoidarthritis         0\n",
       "ChronicCond_stroke                      0\n",
       "IPAnnualReimbursementAmt                0\n",
       "IPAnnualDeductibleAmt                   0\n",
       "OPAnnualReimbursementAmt                0\n",
       "OPAnnualDeductibleAmt                   0\n",
       "ClaimID                                 0\n",
       "ClaimStartDt                            0\n",
       "ClaimEndDt                              0\n",
       "InscClaimAmtReimbursed                  0\n",
       "AttendingPhysician                   1508\n",
       "OperatingPhysician                 443764\n",
       "OtherPhysician                     358475\n",
       "AdmissionDt                        517737\n",
       "ClmAdmitDiagnosisCode                   0\n",
       "DeductibleAmtPaid                     899\n",
       "DischargeDt                        517737\n",
       "DiagnosisGroupCode                      0\n",
       "ClmDiagnosisCode_1                      0\n",
       "ClmDiagnosisCode_2                      0\n",
       "ClmDiagnosisCode_3                      0\n",
       "ClmDiagnosisCode_4                      0\n",
       "ClmDiagnosisCode_5                      0\n",
       "ClmDiagnosisCode_6                      0\n",
       "ClmDiagnosisCode_7                      0\n",
       "ClmDiagnosisCode_8                      0\n",
       "ClmDiagnosisCode_9                      0\n",
       "ClmDiagnosisCode_10                     0\n",
       "ClmProcedureCode_1                      0\n",
       "ClmProcedureCode_2                      0\n",
       "ClmProcedureCode_3                      0\n",
       "dtype: int64"
      ]
     },
     "execution_count": 94,
     "metadata": {
      "tags": []
     },
     "output_type": "execute_result"
    }
   ],
   "source": [
    "df.isnull().sum()"
   ]
  },
  {
   "cell_type": "markdown",
   "metadata": {
    "id": "C5z_cd_K9YOQ"
   },
   "source": [
    "## Feature Engineering"
   ]
  },
  {
   "cell_type": "code",
   "execution_count": null,
   "metadata": {
    "id": "SDpK6d6l9IOl"
   },
   "outputs": [],
   "source": [
    "# handling BeneID:  Relpacing the categories by the count\n",
    "count=df[\"BeneID\"].value_counts().to_dict()\n",
    "df[\"BeneID\"]=df[\"BeneID\"].map(count)\n",
    "with open('/content/drive/My Drive/CASE Studies/healthcare/patient_count.json', 'wb') as fp:\n",
    "    pickle.dump(count, fp)"
   ]
  },
  {
   "cell_type": "code",
   "execution_count": null,
   "metadata": {
    "id": "-RPyOvDbF-nV"
   },
   "outputs": [],
   "source": [
    "#handling Provider replacing The categories by the count\n",
    "count=df[\"Provider\"].value_counts().to_dict()\n",
    "df[\"Provider\"]=df[\"Provider\"].map(count)\n",
    "\n",
    "with open('/content/drive/My Drive/CASE Studies/healthcare/provider_count.json', 'wb') as fp:\n",
    "    pickle.dump(count, fp)\n"
   ]
  },
  {
   "cell_type": "code",
   "execution_count": null,
   "metadata": {
    "id": "ZPDxRyR7IM4B"
   },
   "outputs": [],
   "source": [
    "# Creating new feature as total amount to reimbursed \n",
    "# 1 there are four features IPAnnualReimbursementAmt ,oPAnnualReimbursementAmt ,IPAnnualDeductibleAmt,OPAnnualDeductibleAmt\n",
    "# 2 so we can calculate the total amount to be reimbursed\n",
    "reimb_amount=df[\"IPAnnualReimbursementAmt\"]+df[\"OPAnnualReimbursementAmt\"]\n",
    "deduct_amt=df[\"IPAnnualDeductibleAmt\"]+df[\"OPAnnualDeductibleAmt\"]\n",
    "df[\"amount_to_reimbursed\"]=reimb_amount-deduct_amt\n",
    "df.drop(columns=[\"IPAnnualReimbursementAmt\" ,\"OPAnnualReimbursementAmt\" ,\"IPAnnualDeductibleAmt\",\"OPAnnualDeductibleAmt\"],inplace=True,axis=1)"
   ]
  },
  {
   "cell_type": "code",
   "execution_count": null,
   "metadata": {
    "id": "P3v0S5uHO9tF"
   },
   "outputs": [],
   "source": [
    "# handling AttendingPhysician replacing The  categories with count \n",
    "count=df[\"AttendingPhysician\"].value_counts().to_dict()\n",
    "df[\"AttendingPhysician\"]=df[\"AttendingPhysician\"].map(count)\n",
    "df[\"AttendingPhysician\"].fillna(0)\n",
    "with open('/content/drive/My Drive/CASE Studies/healthcare/attending_phy_count.json', 'wb') as fp:\n",
    "    pickle.dump(count, fp)"
   ]
  },
  {
   "cell_type": "code",
   "execution_count": null,
   "metadata": {
    "id": "Q14t3hubP0o3"
   },
   "outputs": [],
   "source": [
    "# creating New feature how many physican are involved in treating the patients\n",
    "# 1 there are 3 columns OperatingPhysician , OtherPhysician ,AttendingPhysician\n",
    "# 2 so we can count how many physican were treating the patients and can  drop these operating and otherphyscian \n",
    "count_of_physician=df[['AttendingPhysician','OperatingPhysician','OtherPhysician']].fillna(0).values\n",
    "count=[]\n",
    "for i in range(len(count_of_physician)):\n",
    "  count.append(np.count_nonzero(count_of_physician[i]))    #https://stackoverflow.com/questions/26053849/counting-non-zero-values-in-each-column-of-a-dataframe-in-python\n",
    "\n",
    "df[\"Physician_count\"]=count\n",
    "df.drop(columns=[\"OtherPhysician\",\"OperatingPhysician\"],inplace=True,axis=1)"
   ]
  },
  {
   "cell_type": "code",
   "execution_count": null,
   "metadata": {
    "id": "aCGSWQKlP0Mx"
   },
   "outputs": [],
   "source": [
    "# creating column like number of days took to complete the Claim\n",
    "strt_date=pd.to_datetime(df[\"ClaimStartDt\"]).dt.day\n",
    "end_date=pd.to_datetime(df[\"ClaimEndDt\"]).dt.day\n",
    "df[\"Claim_duration\"]=end_date-strt_date\n",
    "df.drop(columns=[\"ClaimStartDt\",\"ClaimEndDt\"],inplace=True,axis=1)"
   ]
  },
  {
   "cell_type": "code",
   "execution_count": null,
   "metadata": {
    "colab": {
     "base_uri": "https://localhost:8080/"
    },
    "executionInfo": {
     "elapsed": 1655,
     "status": "ok",
     "timestamp": 1620340312283,
     "user": {
      "displayName": "Prasad Pawar",
      "photoUrl": "https://lh3.googleusercontent.com/a-/AOh14GjTzY8QsOzkHBBrnak1raXeJa-eG1NL7X8g0_dLLxs=s64",
      "userId": "17658912636650039481"
     },
     "user_tz": -330
    },
    "id": "vcGRd5x-Lo_A",
    "outputId": "f16e6a93-6206-46a9-bf29-679277d5eea2"
   },
   "outputs": [
    {
     "name": "stdout",
     "output_type": "stream",
     "text": [
      "<class 'pandas.core.frame.DataFrame'>\n",
      "Int64Index: 558211 entries, 0 to 558210\n",
      "Data columns (total 45 columns):\n",
      " #   Column                           Non-Null Count   Dtype  \n",
      "---  ------                           --------------   -----  \n",
      " 0   Provider                         558211 non-null  int64  \n",
      " 1   PotentialFraud                   558211 non-null  int64  \n",
      " 2   BeneID                           558211 non-null  int64  \n",
      " 3   DOB                              558211 non-null  object \n",
      " 4   DOD                              4131 non-null    object \n",
      " 5   Gender                           558211 non-null  int64  \n",
      " 6   Race                             558211 non-null  int64  \n",
      " 7   RenalDiseaseIndicator            558211 non-null  int64  \n",
      " 8   State                            558211 non-null  int64  \n",
      " 9   County                           558211 non-null  int64  \n",
      " 10  ChronicCond_Alzheimer            558211 non-null  int64  \n",
      " 11  ChronicCond_Heartfailure         558211 non-null  int64  \n",
      " 12  ChronicCond_KidneyDisease        558211 non-null  int64  \n",
      " 13  ChronicCond_Cancer               558211 non-null  int64  \n",
      " 14  ChronicCond_ObstrPulmonary       558211 non-null  int64  \n",
      " 15  ChronicCond_Depression           558211 non-null  int64  \n",
      " 16  ChronicCond_Diabetes             558211 non-null  int64  \n",
      " 17  ChronicCond_IschemicHeart        558211 non-null  int64  \n",
      " 18  ChronicCond_Osteoporasis         558211 non-null  int64  \n",
      " 19  ChronicCond_rheumatoidarthritis  558211 non-null  int64  \n",
      " 20  ChronicCond_stroke               558211 non-null  int64  \n",
      " 21  ClaimID                          558211 non-null  object \n",
      " 22  InscClaimAmtReimbursed           558211 non-null  int64  \n",
      " 23  AttendingPhysician               556703 non-null  float64\n",
      " 24  AdmissionDt                      40474 non-null   object \n",
      " 25  ClmAdmitDiagnosisCode            558211 non-null  object \n",
      " 26  DeductibleAmtPaid                557312 non-null  float64\n",
      " 27  DischargeDt                      40474 non-null   object \n",
      " 28  DiagnosisGroupCode               558211 non-null  object \n",
      " 29  ClmDiagnosisCode_1               558211 non-null  object \n",
      " 30  ClmDiagnosisCode_2               558211 non-null  object \n",
      " 31  ClmDiagnosisCode_3               558211 non-null  object \n",
      " 32  ClmDiagnosisCode_4               558211 non-null  object \n",
      " 33  ClmDiagnosisCode_5               558211 non-null  object \n",
      " 34  ClmDiagnosisCode_6               558211 non-null  object \n",
      " 35  ClmDiagnosisCode_7               558211 non-null  object \n",
      " 36  ClmDiagnosisCode_8               558211 non-null  object \n",
      " 37  ClmDiagnosisCode_9               558211 non-null  object \n",
      " 38  ClmDiagnosisCode_10              558211 non-null  object \n",
      " 39  ClmProcedureCode_1               558211 non-null  float64\n",
      " 40  ClmProcedureCode_2               558211 non-null  float64\n",
      " 41  ClmProcedureCode_3               558211 non-null  float64\n",
      " 42  amount_to_reimbursed             558211 non-null  int64  \n",
      " 43  Physician_count                  558211 non-null  int64  \n",
      " 44  Claim_duration                   558211 non-null  int64  \n",
      "dtypes: float64(5), int64(23), object(17)\n",
      "memory usage: 195.9+ MB\n"
     ]
    }
   ],
   "source": [
    "df.info()"
   ]
  },
  {
   "cell_type": "code",
   "execution_count": null,
   "metadata": {
    "id": "BcH9uPA9631T"
   },
   "outputs": [],
   "source": [
    "df2=df.copy()"
   ]
  },
  {
   "cell_type": "code",
   "execution_count": null,
   "metadata": {
    "colab": {
     "base_uri": "https://localhost:8080/"
    },
    "executionInfo": {
     "elapsed": 6137,
     "status": "ok",
     "timestamp": 1620340319778,
     "user": {
      "displayName": "Prasad Pawar",
      "photoUrl": "https://lh3.googleusercontent.com/a-/AOh14GjTzY8QsOzkHBBrnak1raXeJa-eG1NL7X8g0_dLLxs=s64",
      "userId": "17658912636650039481"
     },
     "user_tz": -330
    },
    "id": "GUqK3rWfZn30",
    "outputId": "884c0f74-2104-491d-f762-176f773ad9e8"
   },
   "outputs": [
    {
     "name": "stdout",
     "output_type": "stream",
     "text": [
      "The total categories of codes are 11015\n",
      "The top5 categories are : 4019     77056\n",
      "25000    37356\n",
      "2724     35763\n",
      "V5869    24904\n",
      "4011     23773\n",
      "Name: DiagnosisCode, dtype: int64\n"
     ]
    }
   ],
   "source": [
    "# selecting only five Diagosis code\n",
    "data = pd.DataFrame(columns = ['DiagnosisCode'])\n",
    "data['DiagnosisCode'] = pd.concat([df[\"ClmDiagnosisCode_1\"],df[\"ClmDiagnosisCode_2\"],df[\"ClmDiagnosisCode_3\"],df[\"ClmDiagnosisCode_4\"],df[\"ClmDiagnosisCode_5\"],\n",
    "                          df[\"ClmDiagnosisCode_6\"],df[\"ClmDiagnosisCode_7\"],df[\"ClmDiagnosisCode_8\"],df[\"ClmDiagnosisCode_9\"],\n",
    "                          df[\"ClmDiagnosisCode_10\"]], axis=0)\n",
    "print(\"The total categories of codes are\",data[\"DiagnosisCode\"].value_counts().count())\n",
    "codes=data[\"DiagnosisCode\"].value_counts()[1:6].keys()\n",
    "print(\"The top5 categories are :\",data[\"DiagnosisCode\"].value_counts()[1:6])\n",
    "\n",
    "# taking 5 top Codes and coverting it to column \n",
    "# for each code we will check wether the the code is present or not if yes replace with 1 and if no replace with 0\n",
    "# we do this for all the ClmDiagnosisCode columns\n",
    "# from ClmDiagnosisCode_2 onwords we will check if the code is present if yes replcae with 1 or else replace the value of the column with code\n",
    "\n",
    "for i in codes:\n",
    "  df[\"D_\"+str(i)]=np.where(df[\"ClmDiagnosisCode_1\"]==i,1,0)\n",
    "  for j in range(2,11):\n",
    "    df[\"D_\"+str(i)]=np.where(df[\"ClmDiagnosisCode_\"+str(j)]==i,1,np.where(df['D_'+str(i)]==1,1,0))\n",
    "  \n",
    "  df['D_'+str(i)] = np.where(df['DiagnosisGroupCode']==i,1,np.where(df['D_'+str(i)]==1,1,0 ))\n",
    "  df['D_'+str(i)] = np.where(df['ClmAdmitDiagnosisCode']==i,1,np.where(df['D_'+str(i)]==1,1,0 ))\n",
    "\n",
    "df.drop(columns=[\"ClmDiagnosisCode_1\",\"ClmDiagnosisCode_2\",\"ClmDiagnosisCode_3\",\"ClmDiagnosisCode_4\",\"ClmDiagnosisCode_5\",\"ClmDiagnosisCode_6\"\n",
    "                  ,\"ClmDiagnosisCode_7\",\"ClmDiagnosisCode_8\",\"ClmDiagnosisCode_9\",\"ClmDiagnosisCode_10\",\"DiagnosisGroupCode\",\"ClmAdmitDiagnosisCode\"],inplace=True,axis=1)"
   ]
  },
  {
   "cell_type": "code",
   "execution_count": null,
   "metadata": {
    "colab": {
     "base_uri": "https://localhost:8080/"
    },
    "executionInfo": {
     "elapsed": 5093,
     "status": "ok",
     "timestamp": 1620340319781,
     "user": {
      "displayName": "Prasad Pawar",
      "photoUrl": "https://lh3.googleusercontent.com/a-/AOh14GjTzY8QsOzkHBBrnak1raXeJa-eG1NL7X8g0_dLLxs=s64",
      "userId": "17658912636650039481"
     },
     "user_tz": -330
    },
    "id": "Fvf6KzPNi5Ku",
    "outputId": "27201926-7235-4151-d897-bb2f2dbd2bb8"
   },
   "outputs": [
    {
     "name": "stdout",
     "output_type": "stream",
     "text": [
      "The total categories of Procedure codes are 1323\n",
      "The top5 categories are : Float64Index([4019.0, 9904.0, 2724.0, 8154.0, 66.0], dtype='float64')\n"
     ]
    }
   ],
   "source": [
    "# selecting only Top five Procedure code\n",
    "data = pd.DataFrame(columns = ['ProcedureCode'])\n",
    "data[\"ProcedureCode\"]=pd.concat([df['ClmProcedureCode_1'], df['ClmProcedureCode_2'],df['ClmProcedureCode_3']],axis=0).dropna()\n",
    "print(\"The total categories of Procedure codes are\",data[\"ProcedureCode\"].value_counts().count())\n",
    "codes=data[\"ProcedureCode\"].value_counts()\n",
    "codes=codes.index[1:6]\n",
    "print(\"The top5 categories are :\",data[\"ProcedureCode\"].value_counts().index[1:6])\n",
    "\n",
    "for i in codes:\n",
    "  df[\"P_\"+str(i)]=np.where(df[\"ClmProcedureCode_1\"]==i,1,0)\n",
    "  for j in range(2,4):\n",
    "    df[\"P_\"+str(i)]=np.where(df[\"ClmProcedureCode_\"+str(j)]==i,1,np.where(df['P_'+str(i)]==1,1,0))\n",
    "\n",
    "df.drop(columns=[\"ClmProcedureCode_1\",\"ClmProcedureCode_2\",\"ClmProcedureCode_3\"],inplace=True,axis=1)"
   ]
  },
  {
   "cell_type": "code",
   "execution_count": null,
   "metadata": {
    "id": "7nqLNAsLdpeD"
   },
   "outputs": [],
   "source": [
    "# droping unwanted columns\n",
    "df.drop(columns=[\"DOD\",\"AdmissionDt\",\"DischargeDt\",\"DOB\",\"ClaimID\"],inplace=True,axis=1)\n",
    "\n"
   ]
  },
  {
   "cell_type": "code",
   "execution_count": null,
   "metadata": {
    "id": "g0hDEKWU9bEn"
   },
   "outputs": [],
   "source": [
    "df.fillna(0,inplace=True)\n"
   ]
  },
  {
   "cell_type": "code",
   "execution_count": null,
   "metadata": {
    "id": "L9VTukWiNkf2"
   },
   "outputs": [],
   "source": [
    "df.to_csv(\"/content/drive/My Drive/CASE Studies/healthcare/data.csv\")"
   ]
  },
  {
   "cell_type": "code",
   "execution_count": 2,
   "metadata": {
    "colab": {
     "base_uri": "https://localhost:8080/"
    },
    "executionInfo": {
     "elapsed": 2014,
     "status": "ok",
     "timestamp": 1620419400028,
     "user": {
      "displayName": "Prasad Pawar",
      "photoUrl": "https://lh3.googleusercontent.com/a-/AOh14GjTzY8QsOzkHBBrnak1raXeJa-eG1NL7X8g0_dLLxs=s64",
      "userId": "17658912636650039481"
     },
     "user_tz": -330
    },
    "id": "UCYGF7DwWOl9",
    "outputId": "9484f68a-5a86-485b-b6b9-a1152b295a08"
   },
   "outputs": [
    {
     "data": {
      "text/plain": [
       "(558211, 36)"
      ]
     },
     "execution_count": 2,
     "metadata": {},
     "output_type": "execute_result"
    }
   ],
   "source": [
    "import pandas as pd\n",
    "df=pd.read_csv(\"data.csv\")\n",
    "df.shape"
   ]
  },
  {
   "cell_type": "code",
   "execution_count": 3,
   "metadata": {},
   "outputs": [
    {
     "data": {
      "text/plain": [
       "Index(['Unnamed: 0', 'Provider', 'PotentialFraud', 'BeneID', 'Gender', 'Race',\n",
       "       'RenalDiseaseIndicator', 'State', 'County', 'ChronicCond_Alzheimer',\n",
       "       'ChronicCond_Heartfailure', 'ChronicCond_KidneyDisease',\n",
       "       'ChronicCond_Cancer', 'ChronicCond_ObstrPulmonary',\n",
       "       'ChronicCond_Depression', 'ChronicCond_Diabetes',\n",
       "       'ChronicCond_IschemicHeart', 'ChronicCond_Osteoporasis',\n",
       "       'ChronicCond_rheumatoidarthritis', 'ChronicCond_stroke',\n",
       "       'InscClaimAmtReimbursed', 'AttendingPhysician', 'DeductibleAmtPaid',\n",
       "       'amount_to_reimbursed', 'Physician_count', 'Claim_duration', 'D_4019',\n",
       "       'D_25000', 'D_2724', 'D_V5869', 'D_4011', 'P_4019.0', 'P_9904.0',\n",
       "       'P_2724.0', 'P_8154.0', 'P_66.0'],\n",
       "      dtype='object')"
      ]
     },
     "execution_count": 3,
     "metadata": {},
     "output_type": "execute_result"
    }
   ],
   "source": [
    "df.columns"
   ]
  },
  {
   "cell_type": "code",
   "execution_count": 4,
   "metadata": {
    "executionInfo": {
     "elapsed": 1604,
     "status": "ok",
     "timestamp": 1620419400031,
     "user": {
      "displayName": "Prasad Pawar",
      "photoUrl": "https://lh3.googleusercontent.com/a-/AOh14GjTzY8QsOzkHBBrnak1raXeJa-eG1NL7X8g0_dLLxs=s64",
      "userId": "17658912636650039481"
     },
     "user_tz": -330
    },
    "id": "Re_xE4FuWAm1"
   },
   "outputs": [],
   "source": [
    "df.drop([\"Unnamed: 0\"],inplace=True,axis=1)\n"
   ]
  },
  {
   "cell_type": "code",
   "execution_count": 5,
   "metadata": {
    "executionInfo": {
     "elapsed": 1612,
     "status": "ok",
     "timestamp": 1620419400585,
     "user": {
      "displayName": "Prasad Pawar",
      "photoUrl": "https://lh3.googleusercontent.com/a-/AOh14GjTzY8QsOzkHBBrnak1raXeJa-eG1NL7X8g0_dLLxs=s64",
      "userId": "17658912636650039481"
     },
     "user_tz": -330
    },
    "id": "M6Y91wKSOVov"
   },
   "outputs": [],
   "source": [
    "x=df.drop([\"PotentialFraud\"],axis=1)\n",
    "y=df[\"PotentialFraud\"]"
   ]
  },
  {
   "cell_type": "code",
   "execution_count": 6,
   "metadata": {
    "executionInfo": {
     "elapsed": 2333,
     "status": "ok",
     "timestamp": 1620419404351,
     "user": {
      "displayName": "Prasad Pawar",
      "photoUrl": "https://lh3.googleusercontent.com/a-/AOh14GjTzY8QsOzkHBBrnak1raXeJa-eG1NL7X8g0_dLLxs=s64",
      "userId": "17658912636650039481"
     },
     "user_tz": -330
    },
    "id": "j2sT8NiuOKB6"
   },
   "outputs": [],
   "source": [
    "#Train Test Split\n",
    "from sklearn.model_selection import train_test_split\n",
    "x_train,x_test,y_train,y_test=train_test_split(x,y,test_size=0.2,stratify=y,random_state=0)"
   ]
  },
  {
   "cell_type": "code",
   "execution_count": 7,
   "metadata": {},
   "outputs": [
    {
     "data": {
      "text/plain": [
       "Index(['Provider', 'BeneID', 'Gender', 'Race', 'RenalDiseaseIndicator',\n",
       "       'State', 'County', 'ChronicCond_Alzheimer', 'ChronicCond_Heartfailure',\n",
       "       'ChronicCond_KidneyDisease', 'ChronicCond_Cancer',\n",
       "       'ChronicCond_ObstrPulmonary', 'ChronicCond_Depression',\n",
       "       'ChronicCond_Diabetes', 'ChronicCond_IschemicHeart',\n",
       "       'ChronicCond_Osteoporasis', 'ChronicCond_rheumatoidarthritis',\n",
       "       'ChronicCond_stroke', 'InscClaimAmtReimbursed', 'AttendingPhysician',\n",
       "       'DeductibleAmtPaid', 'amount_to_reimbursed', 'Physician_count',\n",
       "       'Claim_duration', 'D_4019', 'D_25000', 'D_2724', 'D_V5869', 'D_4011',\n",
       "       'P_4019.0', 'P_9904.0', 'P_2724.0', 'P_8154.0', 'P_66.0'],\n",
       "      dtype='object')"
      ]
     },
     "execution_count": 7,
     "metadata": {},
     "output_type": "execute_result"
    }
   ],
   "source": [
    "x_train.columns"
   ]
  },
  {
   "cell_type": "code",
   "execution_count": 8,
   "metadata": {
    "executionInfo": {
     "elapsed": 2756,
     "status": "ok",
     "timestamp": 1620419408195,
     "user": {
      "displayName": "Prasad Pawar",
      "photoUrl": "https://lh3.googleusercontent.com/a-/AOh14GjTzY8QsOzkHBBrnak1raXeJa-eG1NL7X8g0_dLLxs=s64",
      "userId": "17658912636650039481"
     },
     "user_tz": -330
    },
    "id": "R8EUoUiuQ6Fp"
   },
   "outputs": [],
   "source": [
    "#Normalizing data\n",
    "from sklearn.preprocessing import MinMaxScaler\n",
    "sccale_cols=[\"DeductibleAmtPaid\",'InscClaimAmtReimbursed' , 'Race','State', 'County','AttendingPhysician','BeneID','Provider', \n",
    "'Claim_duration', 'amount_to_reimbursed',  'Physician_count']\n",
    "\n",
    "ss=MinMaxScaler()"
   ]
  },
  {
   "cell_type": "code",
   "execution_count": 9,
   "metadata": {
    "executionInfo": {
     "elapsed": 1490,
     "status": "ok",
     "timestamp": 1620419426398,
     "user": {
      "displayName": "Prasad Pawar",
      "photoUrl": "https://lh3.googleusercontent.com/a-/AOh14GjTzY8QsOzkHBBrnak1raXeJa-eG1NL7X8g0_dLLxs=s64",
      "userId": "17658912636650039481"
     },
     "user_tz": -330
    },
    "id": "x9Us8b9QTYzg"
   },
   "outputs": [],
   "source": [
    "#from sklearn.externals.joblib import dump, load\n",
    "def scale(train,test,col):\n",
    "  \n",
    "  ss.fit(train[col].values.reshape(-1,1))\n",
    "  #dump(ss, '/content/drive/My Drive/CASE Studies/healthcare/scaling/'+col+'_std_scaler.bin', compress=True)\n",
    "\n",
    "  s_tr=ss.transform(train[col].values.reshape(-1,1))\n",
    "  s_te=ss.transform(test[col].values.reshape(-1,1))\n",
    "\n",
    "  return s_tr,s_te"
   ]
  },
  {
   "cell_type": "code",
   "execution_count": 10,
   "metadata": {
    "executionInfo": {
     "elapsed": 2347,
     "status": "ok",
     "timestamp": 1620419431457,
     "user": {
      "displayName": "Prasad Pawar",
      "photoUrl": "https://lh3.googleusercontent.com/a-/AOh14GjTzY8QsOzkHBBrnak1raXeJa-eG1NL7X8g0_dLLxs=s64",
      "userId": "17658912636650039481"
     },
     "user_tz": -330
    },
    "id": "FOtTh1wbRgwn"
   },
   "outputs": [],
   "source": [
    "for i in sccale_cols:\n",
    "  x_train[i],x_test[i]=scale(x_train,x_test,i)"
   ]
  },
  {
   "cell_type": "markdown",
   "metadata": {
    "id": "gr8LKrqqknga"
   },
   "source": [
    "#LINEAR MODEL"
   ]
  },
  {
   "cell_type": "code",
   "execution_count": null,
   "metadata": {
    "colab": {
     "base_uri": "https://localhost:8080/"
    },
    "executionInfo": {
     "elapsed": 68257,
     "status": "ok",
     "timestamp": 1620375233262,
     "user": {
      "displayName": "Prasad Pawar",
      "photoUrl": "https://lh3.googleusercontent.com/a-/AOh14GjTzY8QsOzkHBBrnak1raXeJa-eG1NL7X8g0_dLLxs=s64",
      "userId": "17658912636650039481"
     },
     "user_tz": -330
    },
    "id": "tJ90px5meKsx",
    "outputId": "40575ab0-ccb4-42de-c691-e14b63270461"
   },
   "outputs": [
    {
     "name": "stdout",
     "output_type": "stream",
     "text": [
      "Fitting 5 folds for each of 10 candidates, totalling 50 fits\n"
     ]
    },
    {
     "name": "stderr",
     "output_type": "stream",
     "text": [
      "[Parallel(n_jobs=-1)]: Using backend LokyBackend with 2 concurrent workers.\n",
      "[Parallel(n_jobs=-1)]: Done  37 tasks      | elapsed:   49.5s\n",
      "[Parallel(n_jobs=-1)]: Done  50 out of  50 | elapsed:  1.0min finished\n"
     ]
    },
    {
     "name": "stdout",
     "output_type": "stream",
     "text": [
      "best_parameters {'penalty': 'l1', 'alpha': 0.01}\n"
     ]
    }
   ],
   "source": [
    "# SGD CLASSIFIER\n",
    "from sklearn.model_selection import RandomizedSearchCV\n",
    "from sklearn.linear_model import SGDClassifier\n",
    "alpha=[0.0001,0.001,0.01,0.1,1,10,100]\n",
    "p=[\"l1\",\"l2\"]\n",
    "lr=SGDClassifier(class_weight='balanced',loss=\"log\" )\n",
    "param={ 'alpha':alpha,\n",
    "          'penalty':p}\n",
    "cv=RandomizedSearchCV(lr,param_distributions=param ,cv=5 ,n_iter=10,n_jobs=-1,verbose=2)\n",
    "cv.fit(x_train,y_train)\n",
    "print(\"best_parameters\",cv.best_params_)\n",
    "lr_model=cv.best_estimator_"
   ]
  },
  {
   "cell_type": "code",
   "execution_count": null,
   "metadata": {
    "colab": {
     "base_uri": "https://localhost:8080/",
     "height": 482
    },
    "executionInfo": {
     "elapsed": 72186,
     "status": "ok",
     "timestamp": 1620375237710,
     "user": {
      "displayName": "Prasad Pawar",
      "photoUrl": "https://lh3.googleusercontent.com/a-/AOh14GjTzY8QsOzkHBBrnak1raXeJa-eG1NL7X8g0_dLLxs=s64",
      "userId": "17658912636650039481"
     },
     "user_tz": -330
    },
    "id": "in-rQpNXfhNb",
    "outputId": "bf8aa7a6-4d89-4d11-8bb8-3fc736a5e7fc"
   },
   "outputs": [
    {
     "name": "stdout",
     "output_type": "stream",
     "text": [
      "Precision_score=0.8239627093284226, micro_precision=0.8204813557500247 ,macro_precision=0.8214352427366274\n",
      "CLASSIFICATION REPORT               precision    recall  f1-score   support\n",
      "\n",
      "           0       0.82      0.91      0.86     69083\n",
      "           1       0.82      0.67      0.74     42560\n",
      "\n",
      "    accuracy                           0.82    111643\n",
      "   macro avg       0.82      0.79      0.80    111643\n",
      "weighted avg       0.82      0.82      0.82    111643\n",
      "\n"
     ]
    },
    {
     "data": {
      "text/plain": [
       "Text(25.5, 0.5, 'actual')"
      ]
     },
     "execution_count": 62,
     "metadata": {
      "tags": []
     },
     "output_type": "execute_result"
    },
    {
     "data": {
      "image/png": "[encoded data removed]",
      "text/plain": [
       "<Figure size 432x288 with 2 Axes>"
      ]
     },
     "metadata": {
      "tags": []
     },
     "output_type": "display_data"
    }
   ],
   "source": [
    "from sklearn.metrics import confusion_matrix,classification_report,precision_score ,average_precision_score as aps\n",
    "#import pickle\n",
    "#lr_model = pickle.load(open(\"/content/drive/My Drive/CASE Studies/healthcare/model_linear.pkl\", 'rb'))\n",
    "\n",
    "lr_model.fit(x_train,y_train)\n",
    "pred=lr_model.predict(x_test)\n",
    "score=precision_score(y_test,pred)\n",
    "report=classification_report(y_test,pred)\n",
    "micro_precision=precision_score(y_test,pred,average='micro')\n",
    "macro_precision=precision_score(y_test,pred,average='macro')\n",
    "\n",
    "print(f\"Precision_score={score}, micro_precision={micro_precision} ,macro_precision={macro_precision}\")\n",
    "\n",
    "print(\"CLASSIFICATION REPORT\",report)\n",
    "\n",
    "\n",
    "conf_matr_train = pd.DataFrame(confusion_matrix(y_test, pred), range(2),range(2))\n",
    "sns.set(font_scale=1.4)\n",
    "sns.heatmap(conf_matr_train, annot=True,annot_kws={\"size\": 16}, fmt='g')\n",
    "plt.xlabel(\"predicted\")\n",
    "plt.ylabel(\"actual\")\n",
    "\n"
   ]
  },
  {
   "cell_type": "code",
   "execution_count": null,
   "metadata": {
    "id": "TMBowv-e4aKJ"
   },
   "outputs": [],
   "source": [
    "import pickle\n",
    "with open(\"/content/drive/My Drive/CASE Studies/healthcare/model_linear.pkl\", 'wb') as file:\n",
    "    pickle.dump(lr_model, file)\n"
   ]
  },
  {
   "cell_type": "code",
   "execution_count": 11,
   "metadata": {
    "colab": {
     "base_uri": "https://localhost:8080/"
    },
    "executionInfo": {
     "elapsed": 382255,
     "status": "ok",
     "timestamp": 1620375552431,
     "user": {
      "displayName": "Prasad Pawar",
      "photoUrl": "https://lh3.googleusercontent.com/a-/AOh14GjTzY8QsOzkHBBrnak1raXeJa-eG1NL7X8g0_dLLxs=s64",
      "userId": "17658912636650039481"
     },
     "user_tz": -330
    },
    "id": "46hesLDmfnK0",
    "outputId": "2c5510a9-e682-47f1-8b72-4f358a31c8b0"
   },
   "outputs": [
    {
     "name": "stdout",
     "output_type": "stream",
     "text": [
      "Fitting 5 folds for each of 10 candidates, totalling 50 fits\n"
     ]
    },
    {
     "name": "stderr",
     "output_type": "stream",
     "text": [
      "[Parallel(n_jobs=-1)]: Using backend LokyBackend with 4 concurrent workers.\n",
      "[Parallel(n_jobs=-1)]: Done  33 tasks      | elapsed:  1.6min\n",
      "[Parallel(n_jobs=-1)]: Done  50 out of  50 | elapsed:  2.4min finished\n"
     ]
    },
    {
     "data": {
      "text/plain": [
       "RandomizedSearchCV(cv=5,\n",
       "                   estimator=DecisionTreeClassifier(class_weight='balanced'),\n",
       "                   n_jobs=-1,\n",
       "                   param_distributions={'criterion': ['gini', 'entropy'],\n",
       "                                        'max_depth': [5, 10, 30, 50],\n",
       "                                        'min_samples_split': [2, 3, 5, 10]},\n",
       "                   verbose=2)"
      ]
     },
     "execution_count": 11,
     "metadata": {},
     "output_type": "execute_result"
    }
   ],
   "source": [
    "# Decision Tree\n",
    "from sklearn.tree import DecisionTreeClassifier\n",
    "from sklearn.model_selection import RandomizedSearchCV\n",
    "params={'max_depth':[5,10,30,50],\n",
    "'min_samples_split':[2,3,5,10],\n",
    "'criterion':['gini','entropy']}\n",
    "dt=DecisionTreeClassifier(class_weight=\"balanced\")\n",
    "\n",
    "cv=RandomizedSearchCV(dt,param_distributions=params ,cv=5 ,n_iter=10,n_jobs=-1,verbose=2)\n",
    "cv.fit(x_train,y_train)"
   ]
  },
  {
   "cell_type": "code",
   "execution_count": 12,
   "metadata": {
    "colab": {
     "base_uri": "https://localhost:8080/"
    },
    "executionInfo": {
     "elapsed": 380819,
     "status": "ok",
     "timestamp": 1620375552435,
     "user": {
      "displayName": "Prasad Pawar",
      "photoUrl": "https://lh3.googleusercontent.com/a-/AOh14GjTzY8QsOzkHBBrnak1raXeJa-eG1NL7X8g0_dLLxs=s64",
      "userId": "17658912636650039481"
     },
     "user_tz": -330
    },
    "id": "OtDA0HRShBgN",
    "outputId": "6443c83e-6731-4169-d90d-3bbe35ced105"
   },
   "outputs": [
    {
     "name": "stdout",
     "output_type": "stream",
     "text": [
      "The best parameters are  {'min_samples_split': 5, 'max_depth': 30, 'criterion': 'entropy'}\n"
     ]
    }
   ],
   "source": [
    "print(\"The best parameters are \",cv.best_params_)\n",
    "tree_model=cv.best_estimator_\n"
   ]
  },
  {
   "cell_type": "code",
   "execution_count": 13,
   "metadata": {
    "colab": {
     "base_uri": "https://localhost:8080/",
     "height": 482
    },
    "executionInfo": {
     "elapsed": 380558,
     "status": "ok",
     "timestamp": 1620375553302,
     "user": {
      "displayName": "Prasad Pawar",
      "photoUrl": "https://lh3.googleusercontent.com/a-/AOh14GjTzY8QsOzkHBBrnak1raXeJa-eG1NL7X8g0_dLLxs=s64",
      "userId": "17658912636650039481"
     },
     "user_tz": -330
    },
    "id": "tDAA4bPvsHhC",
    "outputId": "e6cb0025-e1b8-4c00-cfa1-b81e7071fb0d"
   },
   "outputs": [
    {
     "name": "stdout",
     "output_type": "stream",
     "text": [
      "Precision_score=0.9761581020255063, micro_precision=0.9826410970683339,macro_precision=0.9814038803284213\n",
      "CLASSIFICATION REPORT               precision    recall  f1-score   support\n",
      "\n",
      "           0       0.99      0.99      0.99     69083\n",
      "           1       0.98      0.98      0.98     42560\n",
      "\n",
      "    accuracy                           0.98    111643\n",
      "   macro avg       0.98      0.98      0.98    111643\n",
      "weighted avg       0.98      0.98      0.98    111643\n",
      "\n"
     ]
    },
    {
     "data": {
      "text/plain": [
       "Text(26.5, 0.5, 'actual')"
      ]
     },
     "execution_count": 13,
     "metadata": {},
     "output_type": "execute_result"
    },
    {
     "data": {
      "image/png": "[encoded data removed]",
      "text/plain": [
       "<Figure size 432x288 with 2 Axes>"
      ]
     },
     "metadata": {},
     "output_type": "display_data"
    }
   ],
   "source": [
    "import seaborn as sns\n",
    "#tree_model = pickle.load(open(\"/content/drive/My Drive/CASE Studies/healthcare/tree_model.pkl\", 'rb'))\n",
    "from sklearn.metrics import confusion_matrix,classification_report,precision_score ,average_precision_score as aps\n",
    "\n",
    "pred=tree_model.predict(x_test)\n",
    "score=precision_score(y_test,pred)\n",
    "\n",
    "report=classification_report(y_test,pred)\n",
    "micro_precision=precision_score(y_test,pred,average='micro')\n",
    "macro_precision=precision_score(y_test,pred,average='macro')\n",
    "print(f\"Precision_score={score}, micro_precision={micro_precision},macro_precision={macro_precision}\")\n",
    "\n",
    "\n",
    "print(\"CLASSIFICATION REPORT\",report)\n",
    "\n",
    "conf_matr_train = pd.DataFrame(confusion_matrix(y_test, pred), range(2),range(2))\n",
    "sns.set(font_scale=1.4)\n",
    "sns.heatmap(conf_matr_train, annot=True,annot_kws={\"size\": 16}, fmt='g')\n",
    "plt.xlabel(\"predicted\")\n",
    "plt.ylabel(\"actual\")\n"
   ]
  },
  {
   "cell_type": "code",
   "execution_count": 14,
   "metadata": {
    "id": "IALxQX1NDViE"
   },
   "outputs": [],
   "source": [
    "import pickle\n",
    "with open(\"Dtree.pkl\", 'wb') as file:\n",
    "    pickle.dump(tree_model, file)\n",
    "  "
   ]
  },
  {
   "cell_type": "markdown",
   "metadata": {
    "id": "ywUZQLKp76xN"
   },
   "source": [
    "##XGBoostClassifier"
   ]
  },
  {
   "cell_type": "code",
   "execution_count": null,
   "metadata": {
    "colab": {
     "base_uri": "https://localhost:8080/"
    },
    "executionInfo": {
     "elapsed": 169081,
     "status": "ok",
     "timestamp": 1620390200451,
     "user": {
      "displayName": "Prasad Pawar",
      "photoUrl": "https://lh3.googleusercontent.com/a-/AOh14GjTzY8QsOzkHBBrnak1raXeJa-eG1NL7X8g0_dLLxs=s64",
      "userId": "17658912636650039481"
     },
     "user_tz": -330
    },
    "id": "BC6ftdZDIEHX",
    "outputId": "8807a3a7-e9ea-4b81-a278-fb4298512449"
   },
   "outputs": [
    {
     "name": "stdout",
     "output_type": "stream",
     "text": [
      "Fitting 5 folds for each of 10 candidates, totalling 50 fits\n"
     ]
    },
    {
     "name": "stderr",
     "output_type": "stream",
     "text": [
      "[Parallel(n_jobs=-1)]: Using backend LokyBackend with 2 concurrent workers.\n",
      "[Parallel(n_jobs=-1)]: Done   1 tasks      | elapsed:  3.9min\n",
      "[Parallel(n_jobs=-1)]: Done   4 tasks      | elapsed:  7.8min\n",
      "[Parallel(n_jobs=-1)]: Done   9 tasks      | elapsed:  9.2min\n",
      "[Parallel(n_jobs=-1)]: Done  14 tasks      | elapsed: 19.4min\n",
      "[Parallel(n_jobs=-1)]: Done  21 tasks      | elapsed: 61.5min\n",
      "[Parallel(n_jobs=-1)]: Done  28 tasks      | elapsed: 67.4min\n",
      "[Parallel(n_jobs=-1)]: Done  37 tasks      | elapsed: 124.2min\n",
      "[Parallel(n_jobs=-1)]: Done  46 tasks      | elapsed: 164.9min\n",
      "[Parallel(n_jobs=-1)]: Done  50 out of  50 | elapsed: 211.9min finished\n"
     ]
    },
    {
     "data": {
      "text/plain": [
       "RandomizedSearchCV(cv=5, error_score=nan,\n",
       "                   estimator=XGBClassifier(base_score=0.5, booster='gbtree',\n",
       "                                           colsample_bylevel=1,\n",
       "                                           colsample_bynode=1,\n",
       "                                           colsample_bytree=1, gamma=0,\n",
       "                                           learning_rate=0.1, max_delta_step=0,\n",
       "                                           max_depth=3, min_child_weight=1,\n",
       "                                           missing=None, n_estimators=100,\n",
       "                                           n_jobs=1, nthread=None,\n",
       "                                           objective='binary:logistic',\n",
       "                                           random_state=0, reg_alpha=0,\n",
       "                                           reg_lambda=1, sc...\n",
       "                                           seed=None, silent=None, subsample=1,\n",
       "                                           verbosity=1),\n",
       "                   iid='deprecated', n_iter=10, n_jobs=-1,\n",
       "                   param_distributions={'colsample_bytree': [0.1, 0.3, 0.5, 1],\n",
       "                                        'learning_rate': [0.01, 0.03, 0.05,\n",
       "                                                          0.1],\n",
       "                                        'max_depth': [3, 5, 10],\n",
       "                                        'n_estimators': [10, 50, 100, 500,\n",
       "                                                         1000],\n",
       "                                        'subsample': [0.1, 0.3, 0.5, 1]},\n",
       "                   pre_dispatch='2*n_jobs', random_state=None, refit=True,\n",
       "                   return_train_score=False, scoring=None, verbose=10)"
      ]
     },
     "execution_count": 107,
     "metadata": {
      "tags": []
     },
     "output_type": "execute_result"
    }
   ],
   "source": [
    "from xgboost import XGBClassifier\n",
    "from sklearn.model_selection import RandomizedSearchCV        \n",
    "xgb = XGBClassifier()\n",
    "param = {'learning_rate':[0.01,0.03,00.05,0.1],'n_estimators':[10,50,100,500,1000],'max_depth':[3,5,10],'colsample_bytree':[0.1,0.3,0.5,1],'subsample':[0.1,0.3,0.5,1] }\n",
    "cv = RandomizedSearchCV(xgb,param,cv=5,n_jobs=-1,verbose=10)\n",
    "cv.fit(x_train,y_train)"
   ]
  },
  {
   "cell_type": "code",
   "execution_count": null,
   "metadata": {
    "colab": {
     "base_uri": "https://localhost:8080/"
    },
    "executionInfo": {
     "elapsed": 1133,
     "status": "ok",
     "timestamp": 1620390274275,
     "user": {
      "displayName": "Prasad Pawar",
      "photoUrl": "https://lh3.googleusercontent.com/a-/AOh14GjTzY8QsOzkHBBrnak1raXeJa-eG1NL7X8g0_dLLxs=s64",
      "userId": "17658912636650039481"
     },
     "user_tz": -330
    },
    "id": "DZEyBg17hfF_",
    "outputId": "0f9f9f1a-0bc2-4307-ffe8-eab31e3f8f6a"
   },
   "outputs": [
    {
     "name": "stdout",
     "output_type": "stream",
     "text": [
      "The best parameters are  {'subsample': 0.3, 'n_estimators': 1000, 'max_depth': 10, 'learning_rate': 0.1, 'colsample_bytree': 0.3}\n"
     ]
    }
   ],
   "source": [
    "print(\"The best parameters are \",cv.best_params_)\n",
    "model_xgb=cv.best_estimator_"
   ]
  },
  {
   "cell_type": "code",
   "execution_count": null,
   "metadata": {
    "colab": {
     "base_uri": "https://localhost:8080/",
     "height": 482
    },
    "executionInfo": {
     "elapsed": 12487,
     "status": "ok",
     "timestamp": 1620390291959,
     "user": {
      "displayName": "Prasad Pawar",
      "photoUrl": "https://lh3.googleusercontent.com/a-/AOh14GjTzY8QsOzkHBBrnak1raXeJa-eG1NL7X8g0_dLLxs=s64",
      "userId": "17658912636650039481"
     },
     "user_tz": -330
    },
    "id": "h96oRrzuhfuX",
    "outputId": "43f0fa80-ea6f-4800-b4a9-bae5ffb89846"
   },
   "outputs": [
    {
     "name": "stdout",
     "output_type": "stream",
     "text": [
      "Precision_score=0.9928928730622555, micro_precision=0.9753499995521439 , macro_precision=0.9791508611111925\n",
      "CLASSIFICATION REPORT               precision    recall  f1-score   support\n",
      "\n",
      "           0       0.97      1.00      0.98     69083\n",
      "           1       0.99      0.94      0.97     42560\n",
      "\n",
      "    accuracy                           0.98    111643\n",
      "   macro avg       0.98      0.97      0.97    111643\n",
      "weighted avg       0.98      0.98      0.98    111643\n",
      "\n"
     ]
    },
    {
     "data": {
      "text/plain": [
       "Text(25.5, 0.5, 'actual')"
      ]
     },
     "execution_count": 112,
     "metadata": {
      "tags": []
     },
     "output_type": "execute_result"
    },
    {
     "data": {
      "image/png": "[encoded data removed]",
      "text/plain": [
       "<Figure size 432x288 with 2 Axes>"
      ]
     },
     "metadata": {
      "tags": []
     },
     "output_type": "display_data"
    }
   ],
   "source": [
    "from sklearn.metrics import confusion_matrix,classification_report,precision_score ,average_precision_score as aps ,plot_confusion_matrix\n",
    "import pickle\n",
    "model_xgb = pickle.load(open(\"/content/drive/My Drive/CASE Studies/healthcare/XGB_model.pkl\", 'rb'))\n",
    "\n",
    "pred=model_xgb.predict(x_test)\n",
    "score=precision_score(y_test,pred)\n",
    "\n",
    "report=classification_report(y_test,pred)\n",
    "micro_precision=precision_score(y_test,pred,average='micro')\n",
    "macro_precision=precision_score(y_test,pred,average='macro')\n",
    "\n",
    "print(f\"Precision_score={score}, micro_precision={micro_precision} , macro_precision={macro_precision}\")\n",
    "\n",
    "print(\"CLASSIFICATION REPORT\",report)\n",
    "\n",
    "conf_matr_train = pd.DataFrame(confusion_matrix(y_test, pred), range(2),range(2))\n",
    "sns.set(font_scale=1.4)\n",
    "sns.heatmap(conf_matr_train, annot=True,annot_kws={\"size\": 16}, fmt='g')\n",
    "plt.xlabel(\"predicted\")\n",
    "plt.ylabel(\"actual\")\n"
   ]
  },
  {
   "cell_type": "code",
   "execution_count": null,
   "metadata": {
    "id": "1uA1srqaquLl"
   },
   "outputs": [],
   "source": [
    "import pickle\n",
    "with open(\"/content/drive/My Drive/CASE Studies/healthcare/XGB_model.pkl\", 'wb') as file:\n",
    "    pickle.dump(model_xgb, file)\n"
   ]
  },
  {
   "cell_type": "markdown",
   "metadata": {
    "id": "K76ACbqGLvu7"
   },
   "source": [
    "#CUSTOM MODELS"
   ]
  },
  {
   "cell_type": "code",
   "execution_count": null,
   "metadata": {
    "id": "kEj8AQApLzco"
   },
   "outputs": [],
   "source": [
    "#1 splitting the dataset in (80-20)   \n",
    "#2 splitting traing data into (50-50)\n",
    "train_d1,train_d2,test_d1,test_d2=train_test_split(x_train,y_train,test_size=0.5)"
   ]
  },
  {
   "cell_type": "code",
   "execution_count": null,
   "metadata": {
    "id": "AHjmaA9kRINV"
   },
   "outputs": [],
   "source": [
    "import random\n",
    "def generating_samples(input_data, target_data):\n",
    "  \n",
    "  row_samples=random.sample(range(0,input_data.shape[0]),int((60/100)*(input_data.shape[0])))\n",
    "  row_repl=random.sample(row_samples,int((40/100)*(input_data.shape[0])))\n",
    "  rows=row_samples+row_repl\n",
    "  cols=random.sample(range(0,input_data.shape[1]),random.randrange(3,34))\n",
    "\n",
    "  a=input_data.iloc[rows]\n",
    "  a=a.iloc[:,cols]\n",
    "  b=target_data.iloc[rows]\n",
    "\n",
    "  return a,b,rows,cols"
   ]
  },
  {
   "cell_type": "code",
   "execution_count": null,
   "metadata": {
    "id": "8LWVb63IgdOr"
   },
   "outputs": [],
   "source": [
    "from sklearn.metrics import confusion_matrix,classification_report,precision_score ,average_precision_score as aps\n",
    "from sklearn.linear_model import SGDClassifier\n",
    "from sklearn.tree import DecisionTreeClassifier\n",
    "from sklearn.model_selection import RandomizedSearchCV\n",
    "from xgboost import XGBClassifier\n",
    "def custom_model(samples,m):\n",
    "  input=[]\n",
    "  output=[]\n",
    "  rows=[]\n",
    "  cols=[]\n",
    "  for i in range(samples):\n",
    "    a,b,r,c=generating_samples(train_d1,test_d1)   # generating samples\n",
    "    input.append(a)\n",
    "    output.append(b)\n",
    "    rows.append(r)\n",
    "    cols.append(c)\n",
    "  \n",
    "  base_models=[]\n",
    "  for i in range(samples):\n",
    "    x_tr=input[i]\n",
    "    y_tr=output[i]\n",
    "    dt=DecisionTreeClassifier(criterion=\"entropy\",max_depth=50,min_samples_split=10)# creating k base models\n",
    "    dt.fit(x_tr,y_tr)\n",
    "    base_models.append(dt)\n",
    "\n",
    "  # passing D2 to these k models\n",
    "  prediction_for_d2=[]\n",
    "  for i in range(samples):\n",
    "    pred=base_models[i].predict(train_d2.iloc[:,cols[i]])\n",
    "    prediction_for_d2.append(pred)\n",
    "  prediction_for_d2 = np.array(prediction_for_d2).transpose()\n",
    "\n",
    "  # predicting X_test data using k models\n",
    "  prediction_for_x_test=[]\n",
    "  for i in range(samples):\n",
    "    p=base_models[i].predict(x_test.iloc[:,cols[i]])\n",
    "    prediction_for_x_test.append(p)\n",
    "  prediction_for_x_test = np.array(prediction_for_x_test).transpose()\n",
    "\n",
    "  \n",
    "  if m==1:\n",
    "    # meta model as SGD\n",
    "    lr=SGDClassifier(class_weight='balanced',loss=\"log\" )\n",
    "    param={ 'alpha':[0.0001,0.001,0.01,0.1,1,10,100],\n",
    "          'penalty':[\"l1\",\"l2\"]}\n",
    "    cv=RandomizedSearchCV(lr,param_distributions=param ,cv=5 ,n_iter=10,n_jobs=-1,verbose=2)\n",
    "    cv.fit(prediction_for_d2,test_d2)\n",
    "    print(\"\\n Bestparameters are :\",cv.best_params_)\n",
    "\n",
    "  if m==2:\n",
    "    # meta model as DecisionTree\n",
    "    params={'max_depth':[5,10,30,50],\n",
    "            'min_samples_split':[2,3,5,10],\n",
    "            'criterion':['gini','entropy']}\n",
    "    dt=DecisionTreeClassifier(class_weight=\"balanced\")\n",
    "    cv=RandomizedSearchCV(dt,param_distributions=params ,cv=10 ,n_iter=10,n_jobs=-1,verbose=2)\n",
    "    cv.fit(prediction_for_d2,test_d2)\n",
    "    print(\"\\n Bestparameters are :\",cv.best_params_)\n",
    "\n",
    "  if m==3:\n",
    "    # meta model as XGBoost \n",
    "    xgb = XGBClassifier()\n",
    "    param = {'learning_rate':[0.01,0.03,00.05,0.1],\n",
    "             'n_estimators':[10,50,100,500,1000],\n",
    "             'max_depth':[3,5,10],\n",
    "             'colsample_bytree':[0.1,0.3,0.5,1],\n",
    "             'subsample':[0.1,0.3,0.5,1] }\n",
    "    cv = RandomizedSearchCV(xgb,param,cv=5,n_jobs=-1,verbose=10)\n",
    "    cv.fit(prediction_for_d2,test_d2)\n",
    "    print(\"\\n Bestparameters are :\",cv.best_params_)\n",
    "\n",
    "  \n",
    "  model=cv.best_estimator_\n",
    "  pred=model.predict(prediction_for_x_test)\n",
    "  score=precision_score(y_test,pred)\n",
    "  report=classification_report(y_test,pred)\n",
    "  micro_precision=precision_score(y_test,pred,average='micro')\n",
    "  macro_precision=precision_score(y_test,pred,average='macro')\n",
    "\n",
    "  print(f\"\\n Precision_score={score}, micro_precision={micro_precision} ,macro_precision={macro_precision}\")\n",
    "\n",
    "  print(\"\\n CLASSIFICATION REPORT\",report)\n",
    "  \n",
    "  conf_matr_train = pd.DataFrame(confusion_matrix(y_test, pred), range(2),range(2))\n",
    "  sns.set(font_scale=1.4)\n",
    "  sns.heatmap(conf_matr_train, annot=True,annot_kws={\"size\": 16}, fmt='g')\n",
    "  plt.xlabel(\"predicted\")\n",
    "  plt.ylabel(\"actual\")\n",
    "\n",
    "  return model ,base_models,cols"
   ]
  },
  {
   "cell_type": "markdown",
   "metadata": {
    "id": "dHxw4y_iF8iC"
   },
   "source": [
    "##SGD as Meta Model with 30 samples"
   ]
  },
  {
   "cell_type": "code",
   "execution_count": null,
   "metadata": {
    "colab": {
     "base_uri": "https://localhost:8080/",
     "height": 601
    },
    "executionInfo": {
     "elapsed": 95205,
     "status": "ok",
     "timestamp": 1620390533759,
     "user": {
      "displayName": "Prasad Pawar",
      "photoUrl": "https://lh3.googleusercontent.com/a-/AOh14GjTzY8QsOzkHBBrnak1raXeJa-eG1NL7X8g0_dLLxs=s64",
      "userId": "17658912636650039481"
     },
     "user_tz": -330
    },
    "id": "FIrMOwwrjOY6",
    "outputId": "4b0a6a01-a19b-4155-8c53-83aecaed29c8"
   },
   "outputs": [
    {
     "name": "stdout",
     "output_type": "stream",
     "text": [
      "Fitting 5 folds for each of 10 candidates, totalling 50 fits\n"
     ]
    },
    {
     "name": "stderr",
     "output_type": "stream",
     "text": [
      "[Parallel(n_jobs=-1)]: Using backend LokyBackend with 2 concurrent workers.\n",
      "[Parallel(n_jobs=-1)]: Done  37 tasks      | elapsed:   17.9s\n",
      "[Parallel(n_jobs=-1)]: Done  50 out of  50 | elapsed:   24.3s finished\n"
     ]
    },
    {
     "name": "stdout",
     "output_type": "stream",
     "text": [
      "\n",
      " Bestparameters are : {'penalty': 'l1', 'alpha': 0.001}\n",
      "\n",
      " Precision_score=0.9893556493290977, micro_precision=0.9885707120016481 ,macro_precision=0.9887248438551738\n",
      "\n",
      " CLASSIFICATION REPORT               precision    recall  f1-score   support\n",
      "\n",
      "           0       0.99      0.99      0.99     69083\n",
      "           1       0.99      0.98      0.98     42560\n",
      "\n",
      "    accuracy                           0.99    111643\n",
      "   macro avg       0.99      0.99      0.99    111643\n",
      "weighted avg       0.99      0.99      0.99    111643\n",
      "\n"
     ]
    },
    {
     "data": {
      "image/png": "[encoded data removed]",
      "text/plain": [
       "<Figure size 432x288 with 2 Axes>"
      ]
     },
     "metadata": {
      "tags": []
     },
     "output_type": "display_data"
    }
   ],
   "source": [
    "m,models,cols=custom_model(30,1)"
   ]
  },
  {
   "cell_type": "code",
   "execution_count": null,
   "metadata": {
    "id": "UXm2q8IDNKZ2"
   },
   "outputs": [],
   "source": [
    "import pickle\n",
    "with open(\"/content/drive/My Drive/CASE Studies/healthcare/lr_meta_model.pkl\", 'wb') as file:\n",
    "    pickle.dump(m, file)\n"
   ]
  },
  {
   "cell_type": "markdown",
   "metadata": {
    "id": "CP_LdXcFGIu9"
   },
   "source": [
    "#DecisionTreeClassifier as meta model with 30 samples"
   ]
  },
  {
   "cell_type": "code",
   "execution_count": null,
   "metadata": {
    "colab": {
     "base_uri": "https://localhost:8080/",
     "height": 601
    },
    "executionInfo": {
     "elapsed": 258611,
     "status": "ok",
     "timestamp": 1620390699514,
     "user": {
      "displayName": "Prasad Pawar",
      "photoUrl": "https://lh3.googleusercontent.com/a-/AOh14GjTzY8QsOzkHBBrnak1raXeJa-eG1NL7X8g0_dLLxs=s64",
      "userId": "17658912636650039481"
     },
     "user_tz": -330
    },
    "id": "cVHg157UBuTb",
    "outputId": "30032bc4-58b6-4672-94ba-27e4d48b322f"
   },
   "outputs": [
    {
     "name": "stdout",
     "output_type": "stream",
     "text": [
      "Fitting 10 folds for each of 10 candidates, totalling 100 fits\n"
     ]
    },
    {
     "name": "stderr",
     "output_type": "stream",
     "text": [
      "[Parallel(n_jobs=-1)]: Using backend LokyBackend with 2 concurrent workers.\n",
      "[Parallel(n_jobs=-1)]: Done  37 tasks      | elapsed:   30.5s\n",
      "[Parallel(n_jobs=-1)]: Done 100 out of 100 | elapsed:  1.7min finished\n"
     ]
    },
    {
     "name": "stdout",
     "output_type": "stream",
     "text": [
      "\n",
      " Bestparameters are : {'min_samples_split': 5, 'max_depth': 10, 'criterion': 'entropy'}\n",
      "\n",
      " Precision_score=0.9846714292472915, micro_precision=0.985829832591385 ,macro_precision=0.9856036008552478\n",
      "\n",
      " CLASSIFICATION REPORT               precision    recall  f1-score   support\n",
      "\n",
      "           0       0.99      0.99      0.99     69083\n",
      "           1       0.98      0.98      0.98     42560\n",
      "\n",
      "    accuracy                           0.99    111643\n",
      "   macro avg       0.99      0.98      0.98    111643\n",
      "weighted avg       0.99      0.99      0.99    111643\n",
      "\n"
     ]
    },
    {
     "data": {
      "image/png": "[encoded data removed]",
      "text/plain": [
       "<Figure size 432x288 with 2 Axes>"
      ]
     },
     "metadata": {
      "tags": []
     },
     "output_type": "display_data"
    }
   ],
   "source": [
    "tree,models,columns=custom_model(30,2)"
   ]
  },
  {
   "cell_type": "code",
   "execution_count": null,
   "metadata": {
    "id": "o2v9TqfIfsS7"
   },
   "outputs": [],
   "source": [
    "import pickle\n",
    "with open(\"/content/drive/My Drive/CASE Studies/healthcare/tree_meta_model.pkl\", 'wb') as file:\n",
    "    pickle.dump(tree, file)\n",
    "\n"
   ]
  },
  {
   "cell_type": "markdown",
   "metadata": {
    "id": "-BPsp82-GSJD"
   },
   "source": [
    "XGBClassifier as meta model with 30  samples"
   ]
  },
  {
   "cell_type": "code",
   "execution_count": null,
   "metadata": {
    "colab": {
     "base_uri": "https://localhost:8080/",
     "height": 720
    },
    "executionInfo": {
     "elapsed": 2389205,
     "status": "ok",
     "timestamp": 1620246921385,
     "user": {
      "displayName": "Prasad Pawar",
      "photoUrl": "https://lh3.googleusercontent.com/a-/AOh14GjTzY8QsOzkHBBrnak1raXeJa-eG1NL7X8g0_dLLxs=s64",
      "userId": "17658912636650039481"
     },
     "user_tz": -330
    },
    "id": "7f6u3vXPGRa7",
    "outputId": "2e1c733a-80de-46b1-844d-deabf18b490f"
   },
   "outputs": [
    {
     "name": "stdout",
     "output_type": "stream",
     "text": [
      "Fitting 5 folds for each of 10 candidates, totalling 50 fits\n"
     ]
    },
    {
     "name": "stderr",
     "output_type": "stream",
     "text": [
      "[Parallel(n_jobs=-1)]: Using backend LokyBackend with 2 concurrent workers.\n",
      "[Parallel(n_jobs=-1)]: Done   1 tasks      | elapsed:  1.7min\n",
      "[Parallel(n_jobs=-1)]: Done   4 tasks      | elapsed:  3.3min\n",
      "[Parallel(n_jobs=-1)]: Done   9 tasks      | elapsed: 12.1min\n",
      "[Parallel(n_jobs=-1)]: Done  14 tasks      | elapsed: 12.6min\n",
      "[Parallel(n_jobs=-1)]: Done  21 tasks      | elapsed: 13.5min\n",
      "[Parallel(n_jobs=-1)]: Done  28 tasks      | elapsed: 16.2min\n",
      "[Parallel(n_jobs=-1)]: Done  37 tasks      | elapsed: 22.9min\n",
      "[Parallel(n_jobs=-1)]: Done  46 tasks      | elapsed: 29.1min\n",
      "[Parallel(n_jobs=-1)]: Done  50 out of  50 | elapsed: 32.1min finished\n"
     ]
    },
    {
     "name": "stdout",
     "output_type": "stream",
     "text": [
      "\n",
      " Bestparameters are : {'subsample': 0.1, 'n_estimators': 500, 'max_depth': 10, 'learning_rate': 0.01, 'colsample_bytree': 1}\n",
      "\n",
      " Precision_score=0.9849686748135973, micro_precision=0.9834920236826312 ,macro_precision=0.9837854398413416\n",
      "\n",
      " CLASSIFICATION REPORT               precision    recall  f1-score   support\n",
      "\n",
      "           0       0.98      0.99      0.99     69083\n",
      "           1       0.98      0.97      0.98     42560\n",
      "\n",
      "    accuracy                           0.98    111643\n",
      "   macro avg       0.98      0.98      0.98    111643\n",
      "weighted avg       0.98      0.98      0.98    111643\n",
      "\n"
     ]
    },
    {
     "data": {
      "image/png": "[encoded data removed]",
      "text/plain": [
       "<Figure size 432x288 with 2 Axes>"
      ]
     },
     "metadata": {
      "tags": []
     },
     "output_type": "display_data"
    }
   ],
   "source": [
    "xg,models,cols=custom_model(30,3)"
   ]
  },
  {
   "cell_type": "markdown",
   "metadata": {
    "id": "e7OC-apvmbNA"
   },
   "source": [
    "# for testing Data using Decision tree as Meta model"
   ]
  },
  {
   "cell_type": "code",
   "execution_count": null,
   "metadata": {
    "id": "OtSeVGqyma1j"
   },
   "outputs": [],
   "source": [
    "#This function takes the x and y the data i.e independent variables and dependent variables\n",
    "\n",
    "def make_pred(data_train,data_test):\n",
    "  meta = pickle.load(open(\"/content/drive/My Drive/CASE Studies/healthcare/tree_meta_model.pkl\", 'rb'))\n",
    "  samples=30\n",
    "  test_data_pred=[]\n",
    "  for i in range(samples):\n",
    "    p=models[i].predict(data_train.iloc[:,columns[i]])\n",
    "    test_data_pred.append(p)\n",
    "  test_data_pred = np.array(test_data_pred).transpose()\n",
    "  \n",
    "  pred=meta.predict(test_data_pred)\n",
    "  score=precision_score(data_test,pred)\n",
    "  report=classification_report(data_test,pred)\n",
    "  micro_precision=precision_score(data_test,pred,average='micro')\n",
    "  macro_precision=precision_score(data_test,pred,average='macro')\n",
    "\n",
    "  print(f\"\\n Precision_score={score}, micro_precision={micro_precision} ,macro_precision={macro_precision}\")\n",
    "  print(\"\\n CLASSIFICATION REPORT\",report)\n",
    "  \n",
    "  conf_matr_train = pd.DataFrame(confusion_matrix(data_test, pred), range(2),range(2))\n",
    "  sns.set(font_scale=1.4)\n",
    "  sns.heatmap(conf_matr_train, annot=True,annot_kws={\"size\": 16}, fmt='g')\n",
    "  plt.xlabel(\"predicted\")\n",
    "  plt.ylabel(\"actual\")\n",
    "\n",
    "  return pred\n",
    "\n",
    "  "
   ]
  },
  {
   "cell_type": "code",
   "execution_count": null,
   "metadata": {
    "colab": {
     "base_uri": "https://localhost:8080/",
     "height": 505
    },
    "executionInfo": {
     "elapsed": 1771,
     "status": "ok",
     "timestamp": 1620390720347,
     "user": {
      "displayName": "Prasad Pawar",
      "photoUrl": "https://lh3.googleusercontent.com/a-/AOh14GjTzY8QsOzkHBBrnak1raXeJa-eG1NL7X8g0_dLLxs=s64",
      "userId": "17658912636650039481"
     },
     "user_tz": -330
    },
    "id": "Ak_XJ_UsmZpo",
    "outputId": "fe589ed1-45bf-4f05-9af7-23d92c23cda3"
   },
   "outputs": [
    {
     "name": "stdout",
     "output_type": "stream",
     "text": [
      "\n",
      " Precision_score=1.0, micro_precision=1.0 ,macro_precision=1.0\n",
      "\n",
      " CLASSIFICATION REPORT               precision    recall  f1-score   support\n",
      "\n",
      "           0       1.00      1.00      1.00         6\n",
      "           1       1.00      1.00      1.00         4\n",
      "\n",
      "    accuracy                           1.00        10\n",
      "   macro avg       1.00      1.00      1.00        10\n",
      "weighted avg       1.00      1.00      1.00        10\n",
      "\n"
     ]
    },
    {
     "data": {
      "image/png": "[encoded data removed]",
      "text/plain": [
       "<Figure size 432x288 with 2 Axes>"
      ]
     },
     "metadata": {
      "tags": []
     },
     "output_type": "display_data"
    }
   ],
   "source": [
    "import pickle\n",
    "data_train=x_test.iloc[10:20]\n",
    "data_test=y_test.iloc[10:20]\n",
    "out=make_pred(data_train,data_test)"
   ]
  },
  {
   "cell_type": "code",
   "execution_count": null,
   "metadata": {
    "colab": {
     "base_uri": "https://localhost:8080/"
    },
    "executionInfo": {
     "elapsed": 1434,
     "status": "ok",
     "timestamp": 1620390724261,
     "user": {
      "displayName": "Prasad Pawar",
      "photoUrl": "https://lh3.googleusercontent.com/a-/AOh14GjTzY8QsOzkHBBrnak1raXeJa-eG1NL7X8g0_dLLxs=s64",
      "userId": "17658912636650039481"
     },
     "user_tz": -330
    },
    "id": "dRWksXF1wquG",
    "outputId": "8eb63c6d-659e-4468-a9fc-c73a2729c0a0"
   },
   "outputs": [
    {
     "data": {
      "text/plain": [
       "array([1, 0, 0, 1, 1, 0, 0, 0, 1, 0])"
      ]
     },
     "execution_count": 126,
     "metadata": {
      "tags": []
     },
     "output_type": "execute_result"
    }
   ],
   "source": [
    "out"
   ]
  },
  {
   "cell_type": "code",
   "execution_count": null,
   "metadata": {
    "colab": {
     "base_uri": "https://localhost:8080/"
    },
    "executionInfo": {
     "elapsed": 981,
     "status": "ok",
     "timestamp": 1620391295178,
     "user": {
      "displayName": "Prasad Pawar",
      "photoUrl": "https://lh3.googleusercontent.com/a-/AOh14GjTzY8QsOzkHBBrnak1raXeJa-eG1NL7X8g0_dLLxs=s64",
      "userId": "17658912636650039481"
     },
     "user_tz": -330
    },
    "id": "9JGVL7extHXP",
    "outputId": "31a147af-3dd3-43f1-cce8-6c1f3db2ab40"
   },
   "outputs": [
    {
     "name": "stdout",
     "output_type": "stream",
     "text": [
      "+--------------------------+-----------+-----------------+\n",
      "|          Model           | Precision | Micro_Precision |\n",
      "+--------------------------+-----------+-----------------+\n",
      "|      SGD CLASSIFIER      |    0.82   |       0.82      |\n",
      "| Decision Tree Classifier |    0.97   |       0.98      |\n",
      "|    XGBoost Classifier    |    0.99   |       0.97      |\n",
      "|    Meta model as SGD     |    0.98   |       0.98      |\n",
      "|     Meta model as DT     |    0.98   |       0.98      |\n",
      "|    Meta model as XGB     |    0.98   |       0.98      |\n",
      "+--------------------------+-----------+-----------------+\n"
     ]
    }
   ],
   "source": [
    "from prettytable import PrettyTable\n",
    "x = PrettyTable()\n",
    "x.field_names = [\"Model\", \"Precision\", \"Micro_Precision\"]\n",
    "x.add_row([\"SGD CLASSIFIER\",0.82 , 0.82])\n",
    "x.add_row([\"Decision Tree Classifier\", 0.98, 0.98])\n",
    "x.add_row([\"XGBoost Classifier\", 0.99, 0.97])\n",
    "x.add_row([\"Meta model as SGD\",0.98,0.98])\n",
    "x.add_row([\"Meta model as DT\",0.98,0.98])\n",
    "x.add_row([\"Meta model as XGB\",0.98,0.98])\n",
    "print(x)"
   ]
  },
  {
   "cell_type": "code",
   "execution_count": null,
   "metadata": {
    "id": "l3gOyCsctHS1"
   },
   "outputs": [],
   "source": []
  },
  {
   "cell_type": "code",
   "execution_count": null,
   "metadata": {
    "id": "586l9ACQc__l"
   },
   "outputs": [],
   "source": []
  }
 ],
 "metadata": {
  "colab": {
   "authorship_tag": "ABX9TyP54Sk/S70PIVABQpkb9Z8L",
   "collapsed_sections": [],
   "name": "EDA.ipynb",
   "provenance": []
  },
  "kernelspec": {
   "display_name": "Python 3",
   "language": "python",
   "name": "python3"
  },
  "language_info": {
   "codemirror_mode": {
    "name": "ipython",
    "version": 3
   },
   "file_extension": ".py",
   "mimetype": "text/x-python",
   "name": "python",
   "nbconvert_exporter": "python",
   "pygments_lexer": "ipython3",
   "version": "3.8.5"
  }
 },
 "nbformat": 4,
 "nbformat_minor": 1
}
